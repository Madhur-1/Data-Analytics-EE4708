{
 "cells": [
  {
   "cell_type": "code",
   "execution_count": 1,
   "id": "cc7c842b",
   "metadata": {},
   "outputs": [],
   "source": [
    "# Importing the required Libraries\n",
    "import numpy as np\n",
    "import pandas as pd\n",
    "import matplotlib.pyplot as plt\n",
    "%matplotlib inline\n",
    "plt.style.use('seaborn-whitegrid')\n",
    "\n",
    "import seaborn as sns"
   ]
  },
  {
   "cell_type": "code",
   "execution_count": 2,
   "id": "8ff732e7",
   "metadata": {},
   "outputs": [],
   "source": [
    "# Reading the data\n",
    "df = pd.read_csv('car_evaluation.csv', names=['buying', 'maint', 'doors', 'persons', 'lug_boot', 'safety', 'target'])"
   ]
  },
  {
   "cell_type": "code",
   "execution_count": 3,
   "id": "f4754e67",
   "metadata": {},
   "outputs": [
    {
     "data": {
      "text/html": [
       "<div>\n",
       "<style scoped>\n",
       "    .dataframe tbody tr th:only-of-type {\n",
       "        vertical-align: middle;\n",
       "    }\n",
       "\n",
       "    .dataframe tbody tr th {\n",
       "        vertical-align: top;\n",
       "    }\n",
       "\n",
       "    .dataframe thead th {\n",
       "        text-align: right;\n",
       "    }\n",
       "</style>\n",
       "<table border=\"1\" class=\"dataframe\">\n",
       "  <thead>\n",
       "    <tr style=\"text-align: right;\">\n",
       "      <th></th>\n",
       "      <th>buying</th>\n",
       "      <th>maint</th>\n",
       "      <th>doors</th>\n",
       "      <th>persons</th>\n",
       "      <th>lug_boot</th>\n",
       "      <th>safety</th>\n",
       "      <th>target</th>\n",
       "    </tr>\n",
       "  </thead>\n",
       "  <tbody>\n",
       "    <tr>\n",
       "      <th>0</th>\n",
       "      <td>vhigh</td>\n",
       "      <td>vhigh</td>\n",
       "      <td>2</td>\n",
       "      <td>2</td>\n",
       "      <td>small</td>\n",
       "      <td>low</td>\n",
       "      <td>unacc</td>\n",
       "    </tr>\n",
       "    <tr>\n",
       "      <th>1</th>\n",
       "      <td>vhigh</td>\n",
       "      <td>vhigh</td>\n",
       "      <td>2</td>\n",
       "      <td>2</td>\n",
       "      <td>small</td>\n",
       "      <td>med</td>\n",
       "      <td>unacc</td>\n",
       "    </tr>\n",
       "    <tr>\n",
       "      <th>2</th>\n",
       "      <td>vhigh</td>\n",
       "      <td>vhigh</td>\n",
       "      <td>2</td>\n",
       "      <td>2</td>\n",
       "      <td>small</td>\n",
       "      <td>high</td>\n",
       "      <td>unacc</td>\n",
       "    </tr>\n",
       "    <tr>\n",
       "      <th>3</th>\n",
       "      <td>vhigh</td>\n",
       "      <td>vhigh</td>\n",
       "      <td>2</td>\n",
       "      <td>2</td>\n",
       "      <td>med</td>\n",
       "      <td>low</td>\n",
       "      <td>unacc</td>\n",
       "    </tr>\n",
       "    <tr>\n",
       "      <th>4</th>\n",
       "      <td>vhigh</td>\n",
       "      <td>vhigh</td>\n",
       "      <td>2</td>\n",
       "      <td>2</td>\n",
       "      <td>med</td>\n",
       "      <td>med</td>\n",
       "      <td>unacc</td>\n",
       "    </tr>\n",
       "  </tbody>\n",
       "</table>\n",
       "</div>"
      ],
      "text/plain": [
       "  buying  maint doors persons lug_boot safety target\n",
       "0  vhigh  vhigh     2       2    small    low  unacc\n",
       "1  vhigh  vhigh     2       2    small    med  unacc\n",
       "2  vhigh  vhigh     2       2    small   high  unacc\n",
       "3  vhigh  vhigh     2       2      med    low  unacc\n",
       "4  vhigh  vhigh     2       2      med    med  unacc"
      ]
     },
     "execution_count": 3,
     "metadata": {},
     "output_type": "execute_result"
    }
   ],
   "source": [
    "# Visualizing the dataframe\n",
    "df.head()"
   ]
  },
  {
   "cell_type": "code",
   "execution_count": 4,
   "id": "b9e8e5ec",
   "metadata": {},
   "outputs": [
    {
     "data": {
      "text/plain": [
       "(1728, 7)"
      ]
     },
     "execution_count": 4,
     "metadata": {},
     "output_type": "execute_result"
    }
   ],
   "source": [
    "# Checking the shape of the data\n",
    "df.shape"
   ]
  },
  {
   "cell_type": "code",
   "execution_count": 5,
   "id": "beacfc11",
   "metadata": {},
   "outputs": [
    {
     "name": "stdout",
     "output_type": "stream",
     "text": [
      "<class 'pandas.core.frame.DataFrame'>\n",
      "RangeIndex: 1728 entries, 0 to 1727\n",
      "Data columns (total 7 columns):\n",
      " #   Column    Non-Null Count  Dtype \n",
      "---  ------    --------------  ----- \n",
      " 0   buying    1728 non-null   object\n",
      " 1   maint     1728 non-null   object\n",
      " 2   doors     1728 non-null   object\n",
      " 3   persons   1728 non-null   object\n",
      " 4   lug_boot  1728 non-null   object\n",
      " 5   safety    1728 non-null   object\n",
      " 6   target    1728 non-null   object\n",
      "dtypes: object(7)\n",
      "memory usage: 94.6+ KB\n"
     ]
    }
   ],
   "source": [
    "#Checking for null values and data types\n",
    "df.info()"
   ]
  },
  {
   "cell_type": "code",
   "execution_count": 6,
   "id": "d17c5322",
   "metadata": {},
   "outputs": [
    {
     "data": {
      "text/plain": [
       "buying      0\n",
       "maint       0\n",
       "doors       0\n",
       "persons     0\n",
       "lug_boot    0\n",
       "safety      0\n",
       "target      0\n",
       "dtype: int64"
      ]
     },
     "execution_count": 6,
     "metadata": {},
     "output_type": "execute_result"
    }
   ],
   "source": [
    "# Null alues\n",
    "df.isnull().sum()"
   ]
  },
  {
   "cell_type": "markdown",
   "id": "3f306493",
   "metadata": {},
   "source": [
    "We do not have any null values!"
   ]
  },
  {
   "cell_type": "code",
   "execution_count": 7,
   "id": "f208ca85",
   "metadata": {},
   "outputs": [
    {
     "data": {
      "text/html": [
       "<div>\n",
       "<style scoped>\n",
       "    .dataframe tbody tr th:only-of-type {\n",
       "        vertical-align: middle;\n",
       "    }\n",
       "\n",
       "    .dataframe tbody tr th {\n",
       "        vertical-align: top;\n",
       "    }\n",
       "\n",
       "    .dataframe thead th {\n",
       "        text-align: right;\n",
       "    }\n",
       "</style>\n",
       "<table border=\"1\" class=\"dataframe\">\n",
       "  <thead>\n",
       "    <tr style=\"text-align: right;\">\n",
       "      <th></th>\n",
       "      <th>count</th>\n",
       "      <th>unique</th>\n",
       "      <th>top</th>\n",
       "      <th>freq</th>\n",
       "    </tr>\n",
       "  </thead>\n",
       "  <tbody>\n",
       "    <tr>\n",
       "      <th>buying</th>\n",
       "      <td>1728</td>\n",
       "      <td>4</td>\n",
       "      <td>vhigh</td>\n",
       "      <td>432</td>\n",
       "    </tr>\n",
       "    <tr>\n",
       "      <th>maint</th>\n",
       "      <td>1728</td>\n",
       "      <td>4</td>\n",
       "      <td>vhigh</td>\n",
       "      <td>432</td>\n",
       "    </tr>\n",
       "    <tr>\n",
       "      <th>doors</th>\n",
       "      <td>1728</td>\n",
       "      <td>4</td>\n",
       "      <td>2</td>\n",
       "      <td>432</td>\n",
       "    </tr>\n",
       "    <tr>\n",
       "      <th>persons</th>\n",
       "      <td>1728</td>\n",
       "      <td>3</td>\n",
       "      <td>2</td>\n",
       "      <td>576</td>\n",
       "    </tr>\n",
       "    <tr>\n",
       "      <th>lug_boot</th>\n",
       "      <td>1728</td>\n",
       "      <td>3</td>\n",
       "      <td>small</td>\n",
       "      <td>576</td>\n",
       "    </tr>\n",
       "    <tr>\n",
       "      <th>safety</th>\n",
       "      <td>1728</td>\n",
       "      <td>3</td>\n",
       "      <td>low</td>\n",
       "      <td>576</td>\n",
       "    </tr>\n",
       "    <tr>\n",
       "      <th>target</th>\n",
       "      <td>1728</td>\n",
       "      <td>4</td>\n",
       "      <td>unacc</td>\n",
       "      <td>1210</td>\n",
       "    </tr>\n",
       "  </tbody>\n",
       "</table>\n",
       "</div>"
      ],
      "text/plain": [
       "         count unique    top  freq\n",
       "buying    1728      4  vhigh   432\n",
       "maint     1728      4  vhigh   432\n",
       "doors     1728      4      2   432\n",
       "persons   1728      3      2   576\n",
       "lug_boot  1728      3  small   576\n",
       "safety    1728      3    low   576\n",
       "target    1728      4  unacc  1210"
      ]
     },
     "execution_count": 7,
     "metadata": {},
     "output_type": "execute_result"
    }
   ],
   "source": [
    "#description\n",
    "df.describe().transpose()"
   ]
  },
  {
   "cell_type": "code",
   "execution_count": 8,
   "id": "43508531",
   "metadata": {},
   "outputs": [
    {
     "name": "stderr",
     "output_type": "stream",
     "text": [
      "C:\\Users\\hp\\Anaconda3\\lib\\site-packages\\seaborn\\_decorators.py:43: FutureWarning: Pass the following variable as a keyword arg: x. From version 0.12, the only valid positional argument will be `data`, and passing other arguments without an explicit keyword will result in an error or misinterpretation.\n",
      "  FutureWarning\n"
     ]
    },
    {
     "data": {
      "text/plain": [
       "Text(0.5, 1.0, 'target')"
      ]
     },
     "execution_count": 8,
     "metadata": {},
     "output_type": "execute_result"
    },
    {
     "data": {
      "image/png": "[encoded data removed]",
      "text/plain": [
       "<Figure size 1296x576 with 2 Axes>"
      ]
     },
     "metadata": {},
     "output_type": "display_data"
    }
   ],
   "source": [
    "#Plotting target distribution\n",
    "f,ax=plt.subplots(1,2,figsize=(18,8))\n",
    "df['target'].value_counts().plot.pie(ax = ax[0], explode=[0,0.1, 0.2, 0.3],autopct='%1.1f%%',shadow=False, textprops={'fontsize': 14})\n",
    "ax[0].set_title('target')\n",
    "ax[0].set_ylabel('')\n",
    "sns.countplot('target',data=df,ax=ax[1])\n",
    "ax[1].set_title('target')"
   ]
  },
  {
   "cell_type": "markdown",
   "id": "35294004",
   "metadata": {},
   "source": [
    "# Pre-processing"
   ]
  },
  {
   "cell_type": "code",
   "execution_count": 9,
   "id": "dcbf722f",
   "metadata": {},
   "outputs": [
    {
     "data": {
      "text/plain": [
       "Index(['buying', 'maint', 'doors', 'persons', 'lug_boot', 'safety', 'target'], dtype='object')"
      ]
     },
     "execution_count": 9,
     "metadata": {},
     "output_type": "execute_result"
    }
   ],
   "source": [
    "#Checking the Columns or features\n",
    "df.columns"
   ]
  },
  {
   "cell_type": "code",
   "execution_count": 10,
   "id": "44187478",
   "metadata": {},
   "outputs": [
    {
     "name": "stdout",
     "output_type": "stream",
     "text": [
      "['buying', 'maint', 'doors', 'persons', 'lug_boot', 'safety', 'target']\n"
     ]
    }
   ],
   "source": [
    "# find categorical variables\n",
    "\n",
    "categorical = [var for var in df.columns if df[var].dtype=='O']\n",
    "print(categorical)"
   ]
  },
  {
   "cell_type": "code",
   "execution_count": 11,
   "id": "2d496631",
   "metadata": {},
   "outputs": [
    {
     "name": "stdout",
     "output_type": "stream",
     "text": [
      "[]\n"
     ]
    }
   ],
   "source": [
    "# Find numerical variables\n",
    "\n",
    "numerical = [var for var in df.columns if df[var].dtype !='O']\n",
    "print(numerical)"
   ]
  },
  {
   "cell_type": "code",
   "execution_count": 12,
   "id": "a78d0104",
   "metadata": {},
   "outputs": [
    {
     "name": "stdout",
     "output_type": "stream",
     "text": [
      "vhigh    432\n",
      "high     432\n",
      "med      432\n",
      "low      432\n",
      "Name: buying, dtype: int64\n",
      "vhigh    432\n",
      "high     432\n",
      "med      432\n",
      "low      432\n",
      "Name: maint, dtype: int64\n",
      "2        432\n",
      "3        432\n",
      "4        432\n",
      "5more    432\n",
      "Name: doors, dtype: int64\n",
      "2       576\n",
      "4       576\n",
      "more    576\n",
      "Name: persons, dtype: int64\n",
      "small    576\n",
      "med      576\n",
      "big      576\n",
      "Name: lug_boot, dtype: int64\n",
      "low     576\n",
      "med     576\n",
      "high    576\n",
      "Name: safety, dtype: int64\n",
      "unacc    1210\n",
      "acc       384\n",
      "good       69\n",
      "vgood      65\n",
      "Name: target, dtype: int64\n"
     ]
    }
   ],
   "source": [
    "# Printing all the unique classes in the features.\n",
    "for col in categorical:\n",
    "    print(df[col].value_counts())"
   ]
  },
  {
   "cell_type": "markdown",
   "id": "5162b183",
   "metadata": {},
   "source": [
    "# EDA"
   ]
  },
  {
   "cell_type": "code",
   "execution_count": 13,
   "id": "2eba01d5",
   "metadata": {},
   "outputs": [],
   "source": [
    "# Creating pairwise list\n",
    "cols = df.drop('target', axis = 1).columns\n",
    "paircols = []\n",
    "for i in range(len(cols)-1):\n",
    "    for j in range(i+1, len(cols)):\n",
    "        paircols.append([cols[i], cols[j]])"
   ]
  },
  {
   "cell_type": "markdown",
   "id": "2735e5f8",
   "metadata": {},
   "source": [
    "### Univariate Analysis"
   ]
  },
  {
   "cell_type": "code",
   "execution_count": 14,
   "id": "c5953543",
   "metadata": {},
   "outputs": [
    {
     "data": {
      "image/png": "[encoded data removed]",
      "text/plain": [
       "<Figure size 1152x576 with 6 Axes>"
      ]
     },
     "metadata": {},
     "output_type": "display_data"
    }
   ],
   "source": [
    "# Histplots for each feature\n",
    "f,ax=plt.subplots(2,3,figsize=(16,8))\n",
    "for i, col in enumerate(cols):\n",
    "    sns.histplot(binwidth=0.5, x=col, hue=\"target\", data=df, stat=\"count\", multiple=\"stack\", palette=\"ch:0.25\", ax=ax[i%2, i%3])"
   ]
  },
  {
   "cell_type": "markdown",
   "id": "b7b81d03",
   "metadata": {},
   "source": [
    "### Multivariate analysis"
   ]
  },
  {
   "cell_type": "code",
   "execution_count": 15,
   "id": "31d845dd",
   "metadata": {},
   "outputs": [
    {
     "data": {
      "image/png": "[encoded data removed]",
      "text/plain": [
       "<Figure size 1080x1800 with 15 Axes>"
      ]
     },
     "metadata": {},
     "output_type": "display_data"
    }
   ],
   "source": [
    "# Stripplot for each feature\n",
    "f,ax=plt.subplots(5,3,figsize=(15,25))\n",
    "j = -1\n",
    "for i, col in enumerate(paircols):\n",
    "    if i%5 == 0: j = j+1\n",
    "    sns.stripplot(x =col[0], y =col[1], data = df,jitter = True, hue ='target', dodge = True, ax=ax[i%5, j],)\n",
    "    ax[i%5, j].legend(bbox_to_anchor=(0.7, 0.95), loc=2)"
   ]
  },
  {
   "cell_type": "markdown",
   "id": "efc3957b",
   "metadata": {},
   "source": [
    "# Modelling the Decision Tree models"
   ]
  },
  {
   "cell_type": "markdown",
   "id": "3545c242",
   "metadata": {},
   "source": [
    "As the dataset has categorical features and hence they needs to be encoded in the appropriate form. There are two main method of encodig:\n",
    "\n",
    "1. One hot encoding\n",
    "2. Label encoding\n",
    "\n",
    "As we have categorial features that are ordinal in nature i.e that can be ranked (ordered) hence label encoding will solve our purpose.Had there been nominal features we could have preferred one hot encoding."
   ]
  },
  {
   "cell_type": "code",
   "execution_count": 16,
   "id": "b9aeba17",
   "metadata": {},
   "outputs": [],
   "source": [
    "# Getting X and y\n",
    "X = df.drop('target', axis = 1)\n",
    "y = df['target']"
   ]
  },
  {
   "cell_type": "code",
   "execution_count": 17,
   "id": "d16a5689",
   "metadata": {},
   "outputs": [],
   "source": [
    "# importing necessary package for encoding our categorial features\n",
    "import category_encoders as ce\n",
    "\n",
    "encoder = ce.OrdinalEncoder(cols=cols)\n",
    "x= encoder.fit_transform(X)"
   ]
  },
  {
   "cell_type": "code",
   "execution_count": 18,
   "id": "c3157687",
   "metadata": {},
   "outputs": [
    {
     "data": {
      "text/html": [
       "<div>\n",
       "<style scoped>\n",
       "    .dataframe tbody tr th:only-of-type {\n",
       "        vertical-align: middle;\n",
       "    }\n",
       "\n",
       "    .dataframe tbody tr th {\n",
       "        vertical-align: top;\n",
       "    }\n",
       "\n",
       "    .dataframe thead th {\n",
       "        text-align: right;\n",
       "    }\n",
       "</style>\n",
       "<table border=\"1\" class=\"dataframe\">\n",
       "  <thead>\n",
       "    <tr style=\"text-align: right;\">\n",
       "      <th></th>\n",
       "      <th>buying</th>\n",
       "      <th>maint</th>\n",
       "      <th>doors</th>\n",
       "      <th>persons</th>\n",
       "      <th>lug_boot</th>\n",
       "      <th>safety</th>\n",
       "    </tr>\n",
       "  </thead>\n",
       "  <tbody>\n",
       "    <tr>\n",
       "      <th>0</th>\n",
       "      <td>1</td>\n",
       "      <td>1</td>\n",
       "      <td>1</td>\n",
       "      <td>1</td>\n",
       "      <td>1</td>\n",
       "      <td>1</td>\n",
       "    </tr>\n",
       "    <tr>\n",
       "      <th>1</th>\n",
       "      <td>1</td>\n",
       "      <td>1</td>\n",
       "      <td>1</td>\n",
       "      <td>1</td>\n",
       "      <td>1</td>\n",
       "      <td>2</td>\n",
       "    </tr>\n",
       "    <tr>\n",
       "      <th>2</th>\n",
       "      <td>1</td>\n",
       "      <td>1</td>\n",
       "      <td>1</td>\n",
       "      <td>1</td>\n",
       "      <td>1</td>\n",
       "      <td>3</td>\n",
       "    </tr>\n",
       "    <tr>\n",
       "      <th>3</th>\n",
       "      <td>1</td>\n",
       "      <td>1</td>\n",
       "      <td>1</td>\n",
       "      <td>1</td>\n",
       "      <td>2</td>\n",
       "      <td>1</td>\n",
       "    </tr>\n",
       "    <tr>\n",
       "      <th>4</th>\n",
       "      <td>1</td>\n",
       "      <td>1</td>\n",
       "      <td>1</td>\n",
       "      <td>1</td>\n",
       "      <td>2</td>\n",
       "      <td>2</td>\n",
       "    </tr>\n",
       "  </tbody>\n",
       "</table>\n",
       "</div>"
      ],
      "text/plain": [
       "   buying  maint  doors  persons  lug_boot  safety\n",
       "0       1      1      1        1         1       1\n",
       "1       1      1      1        1         1       2\n",
       "2       1      1      1        1         1       3\n",
       "3       1      1      1        1         2       1\n",
       "4       1      1      1        1         2       2"
      ]
     },
     "execution_count": 18,
     "metadata": {},
     "output_type": "execute_result"
    }
   ],
   "source": [
    "x.head()"
   ]
  },
  {
   "cell_type": "code",
   "execution_count": 19,
   "id": "fd67e767",
   "metadata": {},
   "outputs": [],
   "source": [
    "# importing necessary packages\n",
    "from sklearn.metrics import accuracy_score,confusion_matrix,classification_report\n",
    "from sklearn.tree import DecisionTreeClassifier\n",
    "import scikitplot.metrics as skplt\n",
    "from sklearn import tree\n",
    "from sklearn.model_selection import train_test_split"
   ]
  },
  {
   "cell_type": "code",
   "execution_count": 20,
   "id": "50efc9b7",
   "metadata": {},
   "outputs": [],
   "source": [
    "# Splitting data into test train, using a 0.3 split \n",
    "X_train, X_test, y_train, y_test = train_test_split(x, y, test_size=0.3, random_state=42)"
   ]
  },
  {
   "cell_type": "code",
   "execution_count": 21,
   "id": "4f14845e",
   "metadata": {},
   "outputs": [
    {
     "name": "stdout",
     "output_type": "stream",
     "text": [
      "Training Dataset (1209, 6) (1209,)\n",
      "\n",
      " Class label distribution in Training Set\n",
      " unacc    852\n",
      "acc      266\n",
      "good      50\n",
      "vgood     41\n",
      "Name: target, dtype: int64\n",
      "\n",
      "***********\n",
      "\n",
      " CrossValidation Dataset (519, 6) (519,)\n",
      "\n",
      "Class label distribution in Cross Validation Set\n",
      " unacc    358\n",
      "acc      118\n",
      "vgood     24\n",
      "good      19\n",
      "Name: target, dtype: int64\n",
      "\n",
      "***********\n"
     ]
    }
   ],
   "source": [
    "# Exploring class distribution under train ,crossvalidation dataset\n",
    "print('Training Dataset',X_train.shape,y_train.shape)\n",
    "print('\\n Class label distribution in Training Set\\n',y_train.value_counts())\n",
    "print('\\n***********')\n",
    "print(\"\\n CrossValidation Dataset\",X_test.shape,y_test.shape)\n",
    "print('\\nClass label distribution in Cross Validation Set\\n',y_test.value_counts())\n",
    "print('\\n***********')"
   ]
  },
  {
   "cell_type": "markdown",
   "id": "caf7042a",
   "metadata": {},
   "source": [
    "### Random Forest Classifier"
   ]
  },
  {
   "cell_type": "code",
   "execution_count": 22,
   "id": "56ec61dc",
   "metadata": {},
   "outputs": [
    {
     "name": "stdout",
     "output_type": "stream",
     "text": [
      "{'n_estimators': [400, 600, 800, 1000, 1200], 'max_features': ['auto', 'sqrt'], 'max_depth': [2, None], 'min_samples_split': [2, 3, 4, 5, 7, 10], 'min_samples_leaf': [1, 2, 4, 5], 'bootstrap': [True, False]}\n"
     ]
    }
   ],
   "source": [
    "# Importing and defining the random search feature space.\n",
    "from sklearn.ensemble import RandomForestClassifier\n",
    "\n",
    "from sklearn.model_selection import RandomizedSearchCV\n",
    "\n",
    "# Number of trees in random forest\n",
    "n_estimators = [int(x) for x in range(400,1400,200)]\n",
    "# Number of features to consider at every split\n",
    "max_features = ['auto', 'sqrt']\n",
    "# Maximum number of levels in tree\n",
    "max_depth = [int(x) for x in np.linspace(2, 15, num = 1)]\n",
    "max_depth.append(None)\n",
    "# Minimum number of samples required to split a node\n",
    "min_samples_split = [ 2,3, 4, 5, 7,10]\n",
    "# Minimum number of samples required at each leaf node\n",
    "min_samples_leaf = [1, 2, 4, 5]\n",
    "# Method of selecting samples for training each tree\n",
    "bootstrap = [True, False]\n",
    "# Create the random grid\n",
    "random_grid = {'n_estimators': n_estimators,\n",
    "               'max_features': max_features,\n",
    "               'max_depth': max_depth,\n",
    "               'min_samples_split': min_samples_split,\n",
    "               'min_samples_leaf': min_samples_leaf,\n",
    "               'bootstrap': bootstrap}\n",
    "print(random_grid)"
   ]
  },
  {
   "cell_type": "code",
   "execution_count": 23,
   "id": "affb27ef",
   "metadata": {},
   "outputs": [
    {
     "name": "stdout",
     "output_type": "stream",
     "text": [
      "Fitting 3 folds for each of 50 candidates, totalling 150 fits\n"
     ]
    },
    {
     "data": {
      "text/plain": [
       "RandomizedSearchCV(cv=3, estimator=RandomForestClassifier(), n_iter=50,\n",
       "                   n_jobs=-1,\n",
       "                   param_distributions={'bootstrap': [True, False],\n",
       "                                        'max_depth': [2, None],\n",
       "                                        'max_features': ['auto', 'sqrt'],\n",
       "                                        'min_samples_leaf': [1, 2, 4, 5],\n",
       "                                        'min_samples_split': [2, 3, 4, 5, 7,\n",
       "                                                              10],\n",
       "                                        'n_estimators': [400, 600, 800, 1000,\n",
       "                                                         1200]},\n",
       "                   random_state=42, verbose=2)"
      ]
     },
     "execution_count": 23,
     "metadata": {},
     "output_type": "execute_result"
    }
   ],
   "source": [
    "# Use the random grid to search for best hyperparameters\n",
    "# First create the base model to tune\n",
    "rf = RandomForestClassifier()\n",
    "# Random search of parameters, using 3 fold cross validation, \n",
    "# search across 100 different combinations, and use all available cores\n",
    "rf_random = RandomizedSearchCV(estimator = rf, param_distributions = random_grid, n_iter = 50, cv = 3, verbose=2, random_state=42, n_jobs = -1)\n",
    "# Fit the random search model\n",
    "rf_random.fit(X_train, y_train)"
   ]
  },
  {
   "cell_type": "code",
   "execution_count": 24,
   "id": "4a236a9e",
   "metadata": {},
   "outputs": [
    {
     "data": {
      "text/plain": [
       "{'n_estimators': 400,\n",
       " 'min_samples_split': 2,\n",
       " 'min_samples_leaf': 1,\n",
       " 'max_features': 'auto',\n",
       " 'max_depth': None,\n",
       " 'bootstrap': False}"
      ]
     },
     "execution_count": 24,
     "metadata": {},
     "output_type": "execute_result"
    }
   ],
   "source": [
    "# Printing the best hyperparameters\n",
    "\n",
    "rf_random.best_params_"
   ]
  },
  {
   "cell_type": "code",
   "execution_count": 25,
   "id": "7bf9fc9f",
   "metadata": {},
   "outputs": [
    {
     "name": "stdout",
     "output_type": "stream",
     "text": [
      "The best model is  RandomForestClassifier(bootstrap=False, n_estimators=400)\n",
      "\n",
      " The best model parameters are  {'n_estimators': 400, 'min_samples_split': 2, 'min_samples_leaf': 1, 'max_features': 'auto', 'max_depth': None, 'bootstrap': False}\n",
      "\n",
      " The model accuracy on train set is 1.0\n",
      "\n",
      " The model accuracy on test set is 0.9653179190751445\n",
      "\n",
      "\n",
      " Classification Report\n",
      "              precision    recall  f1-score   support\n",
      "\n",
      "         acc       0.95      0.91      0.93       118\n",
      "        good       0.74      0.89      0.81        19\n",
      "       unacc       0.99      0.99      0.99       358\n",
      "       vgood       0.88      0.88      0.88        24\n",
      "\n",
      "    accuracy                           0.97       519\n",
      "   macro avg       0.89      0.92      0.90       519\n",
      "weighted avg       0.97      0.97      0.97       519\n",
      "\n"
     ]
    },
    {
     "data": {
      "text/plain": [
       "<AxesSubplot:title={'center':'Confusion Matrix'}, xlabel='Predicted label', ylabel='True label'>"
      ]
     },
     "execution_count": 25,
     "metadata": {},
     "output_type": "execute_result"
    },
    {
     "data": {
      "image/png": "[encoded data removed]",
      "text/plain": [
       "<Figure size 432x288 with 2 Axes>"
      ]
     },
     "metadata": {},
     "output_type": "display_data"
    }
   ],
   "source": [
    "# Checking accuracies on the train and test data, predicting on the test data.\n",
    "\n",
    "print('The best model is ', rf_random.best_estimator_)\n",
    "print(\"\\n The best model parameters are \",rf_random.best_params_)\n",
    "print(\"\\n The model accuracy on train set is\",rf_random.score(X_train,y_train))\n",
    "print(\"\\n The model accuracy on test set is\",rf_random.score(X_test,y_test))\n",
    "\n",
    "y_predict=rf_random.predict(X_test)\n",
    "accuracy=accuracy_score(y_test,y_predict,normalize=True)*float(100)\n",
    "print('\\n\\n Classification Report')\n",
    "print(classification_report(y_test,y_predict))\n",
    "skplt.plot_confusion_matrix(y_test,y_predict)"
   ]
  },
  {
   "cell_type": "code",
   "execution_count": 26,
   "id": "9df095da",
   "metadata": {},
   "outputs": [
    {
     "data": {
      "text/plain": [
       "RandomForestClassifier(min_samples_split=3, n_estimators=1000)"
      ]
     },
     "execution_count": 26,
     "metadata": {},
     "output_type": "execute_result"
    }
   ],
   "source": [
    "# Defining the model with the best parameters\n",
    "clf = RandomForestClassifier(bootstrap=True, max_depth=None, max_features='auto', min_samples_leaf=1, min_samples_split=3, n_estimators = 1000)\n",
    "clf.fit(X_train, y_train)"
   ]
  },
  {
   "cell_type": "code",
   "execution_count": 27,
   "id": "c452d9c8",
   "metadata": {},
   "outputs": [
    {
     "name": "stdout",
     "output_type": "stream",
     "text": [
      "\n",
      " The model accuracy on train set is 1.0\n",
      "\n",
      " The model accuracy on test set is 0.9633911368015414\n",
      "\n",
      "\n",
      " Classification Report\n",
      "              precision    recall  f1-score   support\n",
      "\n",
      "         acc       0.94      0.91      0.92       118\n",
      "        good       0.77      0.89      0.83        19\n",
      "       unacc       0.99      0.99      0.99       358\n",
      "       vgood       0.84      0.88      0.86        24\n",
      "\n",
      "    accuracy                           0.96       519\n",
      "   macro avg       0.89      0.92      0.90       519\n",
      "weighted avg       0.96      0.96      0.96       519\n",
      "\n"
     ]
    },
    {
     "data": {
      "text/plain": [
       "<AxesSubplot:title={'center':'Confusion Matrix'}, xlabel='Predicted label', ylabel='True label'>"
      ]
     },
     "execution_count": 27,
     "metadata": {},
     "output_type": "execute_result"
    },
    {
     "data": {
      "image/png": "[encoded data removed]",
      "text/plain": [
       "<Figure size 432x288 with 2 Axes>"
      ]
     },
     "metadata": {},
     "output_type": "display_data"
    }
   ],
   "source": [
    "print(\"\\n The model accuracy on train set is\",clf.score(X_train,y_train))\n",
    "print(\"\\n The model accuracy on test set is\",clf.score(X_test,y_test))\n",
    "\n",
    "y_predict=clf.predict(X_test)\n",
    "accuracy=accuracy_score(y_test,y_predict,normalize=True)*float(100)\n",
    "print('\\n\\n Classification Report')\n",
    "print(classification_report(y_test,y_predict))\n",
    "skplt.plot_confusion_matrix(y_test,y_predict)"
   ]
  },
  {
   "cell_type": "code",
   "execution_count": 28,
   "id": "1cbf5788",
   "metadata": {},
   "outputs": [
    {
     "data": {
      "text/plain": [
       "safety      0.308498\n",
       "persons     0.240509\n",
       "maint       0.156148\n",
       "buying      0.150323\n",
       "lug_boot    0.085616\n",
       "doors       0.058907\n",
       "dtype: float64"
      ]
     },
     "execution_count": 28,
     "metadata": {},
     "output_type": "execute_result"
    }
   ],
   "source": [
    "# view the feature scores\n",
    "\n",
    "feature_scores = pd.Series(clf.feature_importances_, index=X_train.columns).sort_values(ascending=False)\n",
    "\n",
    "feature_scores"
   ]
  },
  {
   "cell_type": "code",
   "execution_count": 29,
   "id": "82c31af3",
   "metadata": {},
   "outputs": [
    {
     "data": {
      "image/png": "[encoded data removed]",
      "text/plain": [
       "<Figure size 432x288 with 1 Axes>"
      ]
     },
     "metadata": {},
     "output_type": "display_data"
    }
   ],
   "source": [
    "# Creating a seaborn bar plot\n",
    "\n",
    "sns.barplot(x=feature_scores, y=feature_scores.index)\n",
    "# Add labels to the graph\n",
    "\n",
    "plt.xlabel('Feature Importance Score')\n",
    "plt.ylabel('Features')\n",
    "\n",
    "# Add title to the graph\n",
    "plt.title(\"Visualizing Important Features\")\n",
    "\n",
    "# Visualize the graph\n",
    "plt.show()"
   ]
  },
  {
   "cell_type": "markdown",
   "id": "d5198118",
   "metadata": {},
   "source": [
    "Building a model on selected features without the least important feature"
   ]
  },
  {
   "cell_type": "code",
   "execution_count": 30,
   "id": "fe8f5db8",
   "metadata": {},
   "outputs": [],
   "source": [
    "# declare feature vector and target variable, without the least important feature\n",
    "\n",
    "X1 = df.drop(['target', 'doors'], axis=1)\n",
    "\n",
    "y1 = df['target']"
   ]
  },
  {
   "cell_type": "code",
   "execution_count": 31,
   "id": "2113ec86",
   "metadata": {},
   "outputs": [],
   "source": [
    "# split data into training and testing sets\n",
    "\n",
    "from sklearn.model_selection import train_test_split\n",
    "\n",
    "X_train1, X_test1, y_train1, y_test1 = train_test_split(X1, y1, test_size = 0.33, random_state = 42)"
   ]
  },
  {
   "cell_type": "code",
   "execution_count": 32,
   "id": "7b4e02b5",
   "metadata": {},
   "outputs": [],
   "source": [
    "# encode categorical variables with ordinal encoding\n",
    "\n",
    "encoder = ce.OrdinalEncoder(cols=['buying', 'maint', 'persons', 'lug_boot', 'safety'])\n",
    "\n",
    "\n",
    "X_train1 = encoder.fit_transform(X_train1)\n",
    "\n",
    "X_test1 = encoder.transform(X_test1)"
   ]
  },
  {
   "cell_type": "code",
   "execution_count": 33,
   "id": "aeb92f58",
   "metadata": {},
   "outputs": [
    {
     "data": {
      "text/plain": [
       "RandomForestClassifier(min_samples_split=3, n_estimators=1000)"
      ]
     },
     "execution_count": 33,
     "metadata": {},
     "output_type": "execute_result"
    }
   ],
   "source": [
    "# modelling without the least important feature\n",
    "clf = RandomForestClassifier(bootstrap=True, max_depth=None, max_features='auto', min_samples_leaf=1, min_samples_split=3, n_estimators = 1000)\n",
    "clf.fit(X_train1, y_train1)"
   ]
  },
  {
   "cell_type": "code",
   "execution_count": 34,
   "id": "47877e8b",
   "metadata": {},
   "outputs": [
    {
     "name": "stdout",
     "output_type": "stream",
     "text": [
      "\n",
      " The model accuracy on train set is 0.9688850475367329\n",
      "\n",
      " The model accuracy on test set is 0.9334500875656743\n",
      "\n",
      "\n",
      " Classification Report\n",
      "              precision    recall  f1-score   support\n",
      "\n",
      "         acc       0.89      0.84      0.86       129\n",
      "        good       0.56      0.90      0.69        20\n",
      "       unacc       0.98      0.97      0.98       397\n",
      "       vgood       0.80      0.80      0.80        25\n",
      "\n",
      "    accuracy                           0.93       571\n",
      "   macro avg       0.81      0.88      0.83       571\n",
      "weighted avg       0.94      0.93      0.94       571\n",
      "\n"
     ]
    },
    {
     "data": {
      "text/plain": [
       "<AxesSubplot:title={'center':'Confusion Matrix'}, xlabel='Predicted label', ylabel='True label'>"
      ]
     },
     "execution_count": 34,
     "metadata": {},
     "output_type": "execute_result"
    },
    {
     "data": {
      "image/png": "[encoded data removed]",
      "text/plain": [
       "<Figure size 432x288 with 2 Axes>"
      ]
     },
     "metadata": {},
     "output_type": "display_data"
    }
   ],
   "source": [
    "print(\"\\n The model accuracy on train set is\",clf.score(X_train1,y_train1))\n",
    "print(\"\\n The model accuracy on test set is\",clf.score(X_test1,y_test1))\n",
    "\n",
    "y_predict1=clf.predict(X_test1)\n",
    "accuracy=accuracy_score(y_test1,y_predict1,normalize=True)*float(100)\n",
    "print('\\n\\n Classification Report')\n",
    "print(classification_report(y_test1,y_predict1))\n",
    "skplt.plot_confusion_matrix(y_test1,y_predict1)"
   ]
  },
  {
   "cell_type": "markdown",
   "id": "d98f0596",
   "metadata": {},
   "source": [
    "### Xgboost"
   ]
  },
  {
   "cell_type": "code",
   "execution_count": 35,
   "id": "1ff81c5c",
   "metadata": {},
   "outputs": [],
   "source": [
    "# import machine learning libraries\n",
    "import xgboost as xgb\n",
    "\n",
    "# import packages for hyperparameters tuning\n",
    "from hyperopt import STATUS_OK, Trials, fmin, hp, tpe"
   ]
  },
  {
   "cell_type": "code",
   "execution_count": 36,
   "id": "e75d007c",
   "metadata": {},
   "outputs": [],
   "source": [
    "# Defining the feature space for search\n",
    "space={'max_depth': hp.quniform(\"max_depth\", 3, 18, 1),\n",
    "        'gamma': hp.uniform ('gamma', 1,9),\n",
    "        'reg_alpha' : hp.quniform('reg_alpha', 40,180,1),\n",
    "        'reg_lambda' : hp.uniform('reg_lambda', 0,1),\n",
    "        'colsample_bytree' : hp.uniform('colsample_bytree', 0.5,1),\n",
    "        'min_child_weight' : hp.quniform('min_child_weight', 0, 10, 1),\n",
    "        'n_estimators': 180,\n",
    "        'seed': 42\n",
    "    }"
   ]
  },
  {
   "cell_type": "code",
   "execution_count": 37,
   "id": "f020de95",
   "metadata": {},
   "outputs": [],
   "source": [
    "# Deifning the objective function to minimize as this is required by hyperopt library\n",
    "def objective(space):\n",
    "    clf=xgb.XGBClassifier(\n",
    "                    n_estimators =space['n_estimators'], max_depth = int(space['max_depth']), gamma = space['gamma'],\n",
    "                    reg_alpha = int(space['reg_alpha']),min_child_weight=int(space['min_child_weight']),\n",
    "                    colsample_bytree=int(space['colsample_bytree']))\n",
    "    \n",
    "    evaluation = [( X_train, y_train), ( X_test, y_test)]\n",
    "    \n",
    "    clf.fit(X_train, y_train,\n",
    "            eval_set=evaluation, eval_metric = 'merror',\n",
    "            early_stopping_rounds=10,verbose=2)\n",
    "    \n",
    "\n",
    "    pred = clf.predict(X_test)\n",
    "    accuracy = accuracy_score(y_test, pred)\n",
    "    print (\"SCORE:\", accuracy)\n",
    "    return {'loss': -accuracy, 'status': STATUS_OK }"
   ]
  },
  {
   "cell_type": "code",
   "execution_count": 38,
   "id": "c8d2103d",
   "metadata": {},
   "outputs": [
    {
     "name": "stdout",
     "output_type": "stream",
     "text": [
      "\r",
      "  0%|                                                                          | 0/100 [00:00<?, ?trial/s, best loss=?]"
     ]
    },
    {
     "name": "stderr",
     "output_type": "stream",
     "text": [
      "C:\\Users\\hp\\Anaconda3\\lib\\site-packages\\xgboost\\sklearn.py:1224: UserWarning: The use of label encoder in XGBClassifier is deprecated and will be removed in a future release. To remove this warning, do the following: 1) Pass option use_label_encoder=False when constructing XGBClassifier object; and 2) Encode your labels (y) as integers starting with 0, i.e. 0, 1, 2, ..., [num_class - 1].\n",
      "  warnings.warn(label_encoder_deprecation_msg, UserWarning)\n",
      "\n"
     ]
    },
    {
     "name": "stdout",
     "output_type": "stream",
     "text": [
      "[0]\tvalidation_0-merror:0.29529\tvalidation_1-merror:0.31021                                                            \n",
      "[2]\tvalidation_0-merror:0.29529\tvalidation_1-merror:0.31021                                                            \n",
      "[4]\tvalidation_0-merror:0.29529\tvalidation_1-merror:0.31021                                                            \n",
      "[6]\tvalidation_0-merror:0.29529\tvalidation_1-merror:0.31021                                                            \n",
      "[8]\tvalidation_0-merror:0.29529\tvalidation_1-merror:0.31021                                                            \n",
      "[10]\tvalidation_0-merror:0.29529\tvalidation_1-merror:0.31021                                                           \n",
      "SCORE:                                                                                                                 \n",
      "0.6897880539499036                                                                                                     \n",
      "[0]\tvalidation_0-merror:0.29529\tvalidation_1-merror:0.31021                                                            \n",
      "[2]\tvalidation_0-merror:0.29529\tvalidation_1-merror:0.31021                                                            \n",
      "[4]\tvalidation_0-merror:0.29529\tvalidation_1-merror:0.31021                                                            \n",
      "[6]\tvalidation_0-merror:0.29529\tvalidation_1-merror:0.31021                                                            \n",
      "[8]\tvalidation_0-merror:0.29529\tvalidation_1-merror:0.31021                                                            \n",
      "[10]\tvalidation_0-merror:0.29529\tvalidation_1-merror:0.31021                                                           \n",
      "SCORE:                                                                                                                 \n",
      "0.6897880539499036                                                                                                     \n",
      "[0]\tvalidation_0-merror:0.29529\tvalidation_1-merror:0.31021                                                            \n",
      "[2]\tvalidation_0-merror:0.29529\tvalidation_1-merror:0.31021                                                            \n",
      "[4]\tvalidation_0-merror:0.29529\tvalidation_1-merror:0.31021                                                            \n",
      "[6]\tvalidation_0-merror:0.29529\tvalidation_1-merror:0.31021                                                            \n",
      "[8]\tvalidation_0-merror:0.29529\tvalidation_1-merror:0.31021                                                            \n",
      "[10]\tvalidation_0-merror:0.29529\tvalidation_1-merror:0.31021                                                           \n",
      "  2%|▉                                              | 2/100 [00:00<00:30,  3.26trial/s, best loss: -0.6897880539499036]"
     ]
    },
    {
     "name": "stderr",
     "output_type": "stream",
     "text": [
      "C:\\Users\\hp\\Anaconda3\\lib\\site-packages\\xgboost\\sklearn.py:1224: UserWarning: The use of label encoder in XGBClassifier is deprecated and will be removed in a future release. To remove this warning, do the following: 1) Pass option use_label_encoder=False when constructing XGBClassifier object; and 2) Encode your labels (y) as integers starting with 0, i.e. 0, 1, 2, ..., [num_class - 1].\n",
      "  warnings.warn(label_encoder_deprecation_msg, UserWarning)\n",
      "\n",
      "C:\\Users\\hp\\Anaconda3\\lib\\site-packages\\xgboost\\sklearn.py:1224: UserWarning: The use of label encoder in XGBClassifier is deprecated and will be removed in a future release. To remove this warning, do the following: 1) Pass option use_label_encoder=False when constructing XGBClassifier object; and 2) Encode your labels (y) as integers starting with 0, i.e. 0, 1, 2, ..., [num_class - 1].\n",
      "  warnings.warn(label_encoder_deprecation_msg, UserWarning)\n",
      "\n"
     ]
    },
    {
     "name": "stdout",
     "output_type": "stream",
     "text": [
      "SCORE:                                                                                                                 \n",
      "0.6897880539499036                                                                                                     \n",
      "[0]\tvalidation_0-merror:0.29529\tvalidation_1-merror:0.31021                                                            \n",
      "[2]\tvalidation_0-merror:0.29529\tvalidation_1-merror:0.31021                                                            \n",
      "[4]\tvalidation_0-merror:0.29529\tvalidation_1-merror:0.31021                                                            \n",
      "[6]\tvalidation_0-merror:0.29529\tvalidation_1-merror:0.31021                                                            \n",
      "[8]\tvalidation_0-merror:0.29529\tvalidation_1-merror:0.31021                                                            \n",
      "[10]\tvalidation_0-merror:0.29529\tvalidation_1-merror:0.31021                                                           \n",
      "SCORE:                                                                                                                 \n",
      "0.6897880539499036                                                                                                     \n",
      "[0]\tvalidation_0-merror:0.29529\tvalidation_1-merror:0.31021                                                            \n",
      "[2]\tvalidation_0-merror:0.29529\tvalidation_1-merror:0.31021                                                            \n",
      "[4]\tvalidation_0-merror:0.29529\tvalidation_1-merror:0.31021                                                            \n",
      "[6]\tvalidation_0-merror:0.29529\tvalidation_1-merror:0.31021                                                            \n",
      "[8]\tvalidation_0-merror:0.29529\tvalidation_1-merror:0.31021                                                            \n",
      "[9]\tvalidation_0-merror:0.29529\tvalidation_1-merror:0.31021                                                            \n",
      "SCORE:                                                                                                                 \n",
      "0.6897880539499036                                                                                                     \n",
      "  4%|█▉                                             | 4/100 [00:01<00:16,  5.80trial/s, best loss: -0.6897880539499036]"
     ]
    },
    {
     "name": "stderr",
     "output_type": "stream",
     "text": [
      "C:\\Users\\hp\\Anaconda3\\lib\\site-packages\\xgboost\\sklearn.py:1224: UserWarning: The use of label encoder in XGBClassifier is deprecated and will be removed in a future release. To remove this warning, do the following: 1) Pass option use_label_encoder=False when constructing XGBClassifier object; and 2) Encode your labels (y) as integers starting with 0, i.e. 0, 1, 2, ..., [num_class - 1].\n",
      "  warnings.warn(label_encoder_deprecation_msg, UserWarning)\n",
      "\n",
      "C:\\Users\\hp\\Anaconda3\\lib\\site-packages\\xgboost\\sklearn.py:1224: UserWarning: The use of label encoder in XGBClassifier is deprecated and will be removed in a future release. To remove this warning, do the following: 1) Pass option use_label_encoder=False when constructing XGBClassifier object; and 2) Encode your labels (y) as integers starting with 0, i.e. 0, 1, 2, ..., [num_class - 1].\n",
      "  warnings.warn(label_encoder_deprecation_msg, UserWarning)\n",
      "\n"
     ]
    },
    {
     "name": "stdout",
     "output_type": "stream",
     "text": [
      "[0]\tvalidation_0-merror:0.29529\tvalidation_1-merror:0.31021                                                            \n",
      "[2]\tvalidation_0-merror:0.29529\tvalidation_1-merror:0.31021                                                            \n",
      "[4]\tvalidation_0-merror:0.29529\tvalidation_1-merror:0.31021                                                            \n",
      "[6]\tvalidation_0-merror:0.29529\tvalidation_1-merror:0.31021                                                            \n",
      "[8]\tvalidation_0-merror:0.29529\tvalidation_1-merror:0.31021                                                            \n",
      "[10]\tvalidation_0-merror:0.29529\tvalidation_1-merror:0.31021                                                           \n",
      "SCORE:                                                                                                                 \n",
      "0.6897880539499036                                                                                                     \n",
      "[0]\tvalidation_0-merror:0.29529\tvalidation_1-merror:0.31021                                                            \n",
      "[2]\tvalidation_0-merror:0.29529\tvalidation_1-merror:0.31021                                                            \n",
      "[4]\tvalidation_0-merror:0.29529\tvalidation_1-merror:0.31021                                                            \n",
      "[6]\tvalidation_0-merror:0.29529\tvalidation_1-merror:0.31021                                                            \n",
      "[8]\tvalidation_0-merror:0.29529\tvalidation_1-merror:0.31021                                                            \n",
      "[9]\tvalidation_0-merror:0.29529\tvalidation_1-merror:0.31021                                                            \n",
      "SCORE:                                                                                                                 \n",
      "0.6897880539499036                                                                                                     \n",
      "  6%|██▊                                            | 6/100 [00:01<00:12,  7.62trial/s, best loss: -0.6897880539499036]"
     ]
    },
    {
     "name": "stderr",
     "output_type": "stream",
     "text": [
      "C:\\Users\\hp\\Anaconda3\\lib\\site-packages\\xgboost\\sklearn.py:1224: UserWarning: The use of label encoder in XGBClassifier is deprecated and will be removed in a future release. To remove this warning, do the following: 1) Pass option use_label_encoder=False when constructing XGBClassifier object; and 2) Encode your labels (y) as integers starting with 0, i.e. 0, 1, 2, ..., [num_class - 1].\n",
      "  warnings.warn(label_encoder_deprecation_msg, UserWarning)\n",
      "\n",
      "C:\\Users\\hp\\Anaconda3\\lib\\site-packages\\xgboost\\sklearn.py:1224: UserWarning: The use of label encoder in XGBClassifier is deprecated and will be removed in a future release. To remove this warning, do the following: 1) Pass option use_label_encoder=False when constructing XGBClassifier object; and 2) Encode your labels (y) as integers starting with 0, i.e. 0, 1, 2, ..., [num_class - 1].\n",
      "  warnings.warn(label_encoder_deprecation_msg, UserWarning)\n",
      "\n"
     ]
    },
    {
     "name": "stdout",
     "output_type": "stream",
     "text": [
      "[0]\tvalidation_0-merror:0.29529\tvalidation_1-merror:0.31021                                                            \n",
      "[2]\tvalidation_0-merror:0.29529\tvalidation_1-merror:0.31021                                                            \n",
      "[4]\tvalidation_0-merror:0.29529\tvalidation_1-merror:0.31021                                                            \n",
      "[6]\tvalidation_0-merror:0.29529\tvalidation_1-merror:0.31021                                                            \n",
      "[8]\tvalidation_0-merror:0.29529\tvalidation_1-merror:0.31021                                                            \n",
      "[9]\tvalidation_0-merror:0.29529\tvalidation_1-merror:0.31021                                                            \n",
      "SCORE:                                                                                                                 \n",
      "0.6897880539499036                                                                                                     \n",
      "[0]\tvalidation_0-merror:0.29529\tvalidation_1-merror:0.31021                                                            \n",
      "[2]\tvalidation_0-merror:0.29529\tvalidation_1-merror:0.31021                                                            \n",
      "[4]\tvalidation_0-merror:0.29529\tvalidation_1-merror:0.31021                                                            \n",
      "[6]\tvalidation_0-merror:0.29529\tvalidation_1-merror:0.31021                                                            \n",
      "[8]\tvalidation_0-merror:0.29529\tvalidation_1-merror:0.31021                                                            \n",
      "[9]\tvalidation_0-merror:0.29529\tvalidation_1-merror:0.31021                                                            \n",
      "SCORE:                                                                                                                 \n",
      "0.6897880539499036                                                                                                     \n",
      "  8%|███▊                                           | 8/100 [00:01<00:10,  8.57trial/s, best loss: -0.6897880539499036]"
     ]
    },
    {
     "name": "stderr",
     "output_type": "stream",
     "text": [
      "C:\\Users\\hp\\Anaconda3\\lib\\site-packages\\xgboost\\sklearn.py:1224: UserWarning: The use of label encoder in XGBClassifier is deprecated and will be removed in a future release. To remove this warning, do the following: 1) Pass option use_label_encoder=False when constructing XGBClassifier object; and 2) Encode your labels (y) as integers starting with 0, i.e. 0, 1, 2, ..., [num_class - 1].\n",
      "  warnings.warn(label_encoder_deprecation_msg, UserWarning)\n",
      "\n",
      "C:\\Users\\hp\\Anaconda3\\lib\\site-packages\\xgboost\\sklearn.py:1224: UserWarning: The use of label encoder in XGBClassifier is deprecated and will be removed in a future release. To remove this warning, do the following: 1) Pass option use_label_encoder=False when constructing XGBClassifier object; and 2) Encode your labels (y) as integers starting with 0, i.e. 0, 1, 2, ..., [num_class - 1].\n",
      "  warnings.warn(label_encoder_deprecation_msg, UserWarning)\n",
      "\n"
     ]
    },
    {
     "name": "stdout",
     "output_type": "stream",
     "text": [
      "[0]\tvalidation_0-merror:0.29529\tvalidation_1-merror:0.31021                                                            \n",
      "[2]\tvalidation_0-merror:0.29529\tvalidation_1-merror:0.31021                                                            \n",
      "[4]\tvalidation_0-merror:0.29529\tvalidation_1-merror:0.31021                                                            \n",
      "[6]\tvalidation_0-merror:0.29529\tvalidation_1-merror:0.31021                                                            \n",
      "[8]\tvalidation_0-merror:0.29529\tvalidation_1-merror:0.31021                                                            \n",
      "[9]\tvalidation_0-merror:0.29529\tvalidation_1-merror:0.31021                                                            \n",
      "SCORE:                                                                                                                 \n",
      "0.6897880539499036                                                                                                     \n",
      "[0]\tvalidation_0-merror:0.29529\tvalidation_1-merror:0.31021                                                            \n",
      "[2]\tvalidation_0-merror:0.29529\tvalidation_1-merror:0.31021                                                            \n",
      "[4]\tvalidation_0-merror:0.29529\tvalidation_1-merror:0.31021                                                            \n",
      "[6]\tvalidation_0-merror:0.29529\tvalidation_1-merror:0.31021                                                            \n",
      "[8]\tvalidation_0-merror:0.29529\tvalidation_1-merror:0.31021                                                            \n",
      "[9]\tvalidation_0-merror:0.29529\tvalidation_1-merror:0.31021                                                            \n",
      "SCORE:                                                                                                                 \n",
      "                                                                                                                       \r"
     ]
    },
    {
     "name": "stderr",
     "output_type": "stream",
     "text": [
      "C:\\Users\\hp\\Anaconda3\\lib\\site-packages\\xgboost\\sklearn.py:1224: UserWarning: The use of label encoder in XGBClassifier is deprecated and will be removed in a future release. To remove this warning, do the following: 1) Pass option use_label_encoder=False when constructing XGBClassifier object; and 2) Encode your labels (y) as integers starting with 0, i.e. 0, 1, 2, ..., [num_class - 1].\n",
      "  warnings.warn(label_encoder_deprecation_msg, UserWarning)\n",
      "\n",
      "C:\\Users\\hp\\Anaconda3\\lib\\site-packages\\xgboost\\sklearn.py:1224: UserWarning: The use of label encoder in XGBClassifier is deprecated and will be removed in a future release. To remove this warning, do the following: 1) Pass option use_label_encoder=False when constructing XGBClassifier object; and 2) Encode your labels (y) as integers starting with 0, i.e. 0, 1, 2, ..., [num_class - 1].\n",
      "  warnings.warn(label_encoder_deprecation_msg, UserWarning)\n",
      "\n"
     ]
    },
    {
     "name": "stdout",
     "output_type": "stream",
     "text": [
      "0.6897880539499036\n",
      "[0]\tvalidation_0-merror:0.29529\tvalidation_1-merror:0.31021                                                            \n",
      "[2]\tvalidation_0-merror:0.29529\tvalidation_1-merror:0.31021                                                            \n",
      "[4]\tvalidation_0-merror:0.29529\tvalidation_1-merror:0.31021                                                            \n",
      "[6]\tvalidation_0-merror:0.29529\tvalidation_1-merror:0.31021                                                            \n",
      "[8]\tvalidation_0-merror:0.29529\tvalidation_1-merror:0.31021                                                            \n",
      "[10]\tvalidation_0-merror:0.29529\tvalidation_1-merror:0.31021                                                           \n",
      "SCORE:                                                                                                                 \n",
      "0.6897880539499036                                                                                                     \n",
      "[0]\tvalidation_0-merror:0.29529\tvalidation_1-merror:0.31021                                                            \n",
      "[2]\tvalidation_0-merror:0.29529\tvalidation_1-merror:0.31021                                                            \n",
      "[4]\tvalidation_0-merror:0.29529\tvalidation_1-merror:0.31021                                                            \n",
      "[6]\tvalidation_0-merror:0.29529\tvalidation_1-merror:0.31021                                                            \n",
      "[8]\tvalidation_0-merror:0.29529\tvalidation_1-merror:0.31021                                                            \n",
      "[10]\tvalidation_0-merror:0.29529\tvalidation_1-merror:0.31021                                                           \n",
      "SCORE:                                                                                                                 \n",
      "0.6897880539499036                                                                                                     \n",
      " 13%|█████▉                                        | 13/100 [00:01<00:09,  9.66trial/s, best loss: -0.6897880539499036]"
     ]
    },
    {
     "name": "stderr",
     "output_type": "stream",
     "text": [
      "C:\\Users\\hp\\Anaconda3\\lib\\site-packages\\xgboost\\sklearn.py:1224: UserWarning: The use of label encoder in XGBClassifier is deprecated and will be removed in a future release. To remove this warning, do the following: 1) Pass option use_label_encoder=False when constructing XGBClassifier object; and 2) Encode your labels (y) as integers starting with 0, i.e. 0, 1, 2, ..., [num_class - 1].\n",
      "  warnings.warn(label_encoder_deprecation_msg, UserWarning)\n",
      "\n",
      "C:\\Users\\hp\\Anaconda3\\lib\\site-packages\\xgboost\\sklearn.py:1224: UserWarning: The use of label encoder in XGBClassifier is deprecated and will be removed in a future release. To remove this warning, do the following: 1) Pass option use_label_encoder=False when constructing XGBClassifier object; and 2) Encode your labels (y) as integers starting with 0, i.e. 0, 1, 2, ..., [num_class - 1].\n",
      "  warnings.warn(label_encoder_deprecation_msg, UserWarning)\n",
      "\n"
     ]
    },
    {
     "name": "stdout",
     "output_type": "stream",
     "text": [
      "[0]\tvalidation_0-merror:0.29529\tvalidation_1-merror:0.31021                                                            \n",
      "[2]\tvalidation_0-merror:0.29529\tvalidation_1-merror:0.31021                                                            \n",
      "[4]\tvalidation_0-merror:0.29529\tvalidation_1-merror:0.31021                                                            \n",
      "[6]\tvalidation_0-merror:0.29529\tvalidation_1-merror:0.31021                                                            \n",
      "[8]\tvalidation_0-merror:0.29529\tvalidation_1-merror:0.31021                                                            \n",
      "[9]\tvalidation_0-merror:0.29529\tvalidation_1-merror:0.31021                                                            \n",
      "SCORE:                                                                                                                 \n",
      "0.6897880539499036                                                                                                     \n",
      "[0]\tvalidation_0-merror:0.29529\tvalidation_1-merror:0.31021                                                            \n",
      "[2]\tvalidation_0-merror:0.29529\tvalidation_1-merror:0.31021                                                            \n",
      "[4]\tvalidation_0-merror:0.29529\tvalidation_1-merror:0.31021                                                            \n",
      "[6]\tvalidation_0-merror:0.29529\tvalidation_1-merror:0.31021                                                            \n",
      "[8]\tvalidation_0-merror:0.29529\tvalidation_1-merror:0.31021                                                            \n",
      "[10]\tvalidation_0-merror:0.29529\tvalidation_1-merror:0.31021                                                           \n",
      "SCORE:                                                                                                                 \n",
      "0.6897880539499036                                                                                                     \n",
      " 15%|██████▉                                       | 15/100 [00:01<00:08,  9.93trial/s, best loss: -0.6897880539499036]"
     ]
    },
    {
     "name": "stderr",
     "output_type": "stream",
     "text": [
      "C:\\Users\\hp\\Anaconda3\\lib\\site-packages\\xgboost\\sklearn.py:1224: UserWarning: The use of label encoder in XGBClassifier is deprecated and will be removed in a future release. To remove this warning, do the following: 1) Pass option use_label_encoder=False when constructing XGBClassifier object; and 2) Encode your labels (y) as integers starting with 0, i.e. 0, 1, 2, ..., [num_class - 1].\n",
      "  warnings.warn(label_encoder_deprecation_msg, UserWarning)\n",
      "\n",
      "C:\\Users\\hp\\Anaconda3\\lib\\site-packages\\xgboost\\sklearn.py:1224: UserWarning: The use of label encoder in XGBClassifier is deprecated and will be removed in a future release. To remove this warning, do the following: 1) Pass option use_label_encoder=False when constructing XGBClassifier object; and 2) Encode your labels (y) as integers starting with 0, i.e. 0, 1, 2, ..., [num_class - 1].\n",
      "  warnings.warn(label_encoder_deprecation_msg, UserWarning)\n",
      "\n"
     ]
    },
    {
     "name": "stdout",
     "output_type": "stream",
     "text": [
      "[0]\tvalidation_0-merror:0.29529\tvalidation_1-merror:0.31021                                                            \n",
      "[2]\tvalidation_0-merror:0.29529\tvalidation_1-merror:0.31021                                                            \n",
      "[4]\tvalidation_0-merror:0.29529\tvalidation_1-merror:0.31021                                                            \n",
      "[6]\tvalidation_0-merror:0.29529\tvalidation_1-merror:0.31021                                                            \n",
      "[8]\tvalidation_0-merror:0.29529\tvalidation_1-merror:0.31021                                                            \n",
      "[10]\tvalidation_0-merror:0.29529\tvalidation_1-merror:0.31021                                                           \n",
      "SCORE:                                                                                                                 \n",
      "0.6897880539499036                                                                                                     \n",
      "[0]\tvalidation_0-merror:0.29529\tvalidation_1-merror:0.31021                                                            \n",
      "[2]\tvalidation_0-merror:0.29529\tvalidation_1-merror:0.31021                                                            \n",
      "[4]\tvalidation_0-merror:0.29529\tvalidation_1-merror:0.31021                                                            \n",
      "[6]\tvalidation_0-merror:0.29529\tvalidation_1-merror:0.31021                                                            \n",
      "[8]\tvalidation_0-merror:0.29529\tvalidation_1-merror:0.31021                                                            \n",
      "[10]\tvalidation_0-merror:0.29529\tvalidation_1-merror:0.31021                                                           \n",
      "SCORE:                                                                                                                 \n",
      "0.6897880539499036                                                                                                     \n",
      " 17%|███████▊                                      | 17/100 [00:02<00:08, 10.12trial/s, best loss: -0.6897880539499036]"
     ]
    },
    {
     "name": "stderr",
     "output_type": "stream",
     "text": [
      "C:\\Users\\hp\\Anaconda3\\lib\\site-packages\\xgboost\\sklearn.py:1224: UserWarning: The use of label encoder in XGBClassifier is deprecated and will be removed in a future release. To remove this warning, do the following: 1) Pass option use_label_encoder=False when constructing XGBClassifier object; and 2) Encode your labels (y) as integers starting with 0, i.e. 0, 1, 2, ..., [num_class - 1].\n",
      "  warnings.warn(label_encoder_deprecation_msg, UserWarning)\n",
      "\n",
      "C:\\Users\\hp\\Anaconda3\\lib\\site-packages\\xgboost\\sklearn.py:1224: UserWarning: The use of label encoder in XGBClassifier is deprecated and will be removed in a future release. To remove this warning, do the following: 1) Pass option use_label_encoder=False when constructing XGBClassifier object; and 2) Encode your labels (y) as integers starting with 0, i.e. 0, 1, 2, ..., [num_class - 1].\n",
      "  warnings.warn(label_encoder_deprecation_msg, UserWarning)\n",
      "\n"
     ]
    },
    {
     "name": "stdout",
     "output_type": "stream",
     "text": [
      "[0]\tvalidation_0-merror:0.29529\tvalidation_1-merror:0.31021                                                            \n",
      "[2]\tvalidation_0-merror:0.29529\tvalidation_1-merror:0.31021                                                            \n",
      "[4]\tvalidation_0-merror:0.29529\tvalidation_1-merror:0.31021                                                            \n",
      "[6]\tvalidation_0-merror:0.29529\tvalidation_1-merror:0.31021                                                            \n",
      "[8]\tvalidation_0-merror:0.29529\tvalidation_1-merror:0.31021                                                            \n",
      "[9]\tvalidation_0-merror:0.29529\tvalidation_1-merror:0.31021                                                            \n",
      "SCORE:                                                                                                                 \n",
      "0.6897880539499036                                                                                                     \n",
      "[0]\tvalidation_0-merror:0.29529\tvalidation_1-merror:0.31021                                                            \n",
      "[2]\tvalidation_0-merror:0.29529\tvalidation_1-merror:0.31021                                                            \n",
      "[4]\tvalidation_0-merror:0.29529\tvalidation_1-merror:0.31021                                                            \n",
      "[6]\tvalidation_0-merror:0.29529\tvalidation_1-merror:0.31021                                                            \n",
      "[8]\tvalidation_0-merror:0.29529\tvalidation_1-merror:0.31021                                                            \n",
      "[9]\tvalidation_0-merror:0.29529\tvalidation_1-merror:0.31021                                                            \n",
      "SCORE:                                                                                                                 \n",
      "0.6897880539499036                                                                                                     \n",
      " 19%|████████▋                                     | 19/100 [00:02<00:07, 10.38trial/s, best loss: -0.6897880539499036]"
     ]
    },
    {
     "name": "stderr",
     "output_type": "stream",
     "text": [
      "C:\\Users\\hp\\Anaconda3\\lib\\site-packages\\xgboost\\sklearn.py:1224: UserWarning: The use of label encoder in XGBClassifier is deprecated and will be removed in a future release. To remove this warning, do the following: 1) Pass option use_label_encoder=False when constructing XGBClassifier object; and 2) Encode your labels (y) as integers starting with 0, i.e. 0, 1, 2, ..., [num_class - 1].\n",
      "  warnings.warn(label_encoder_deprecation_msg, UserWarning)\n",
      "\n",
      "C:\\Users\\hp\\Anaconda3\\lib\\site-packages\\xgboost\\sklearn.py:1224: UserWarning: The use of label encoder in XGBClassifier is deprecated and will be removed in a future release. To remove this warning, do the following: 1) Pass option use_label_encoder=False when constructing XGBClassifier object; and 2) Encode your labels (y) as integers starting with 0, i.e. 0, 1, 2, ..., [num_class - 1].\n",
      "  warnings.warn(label_encoder_deprecation_msg, UserWarning)\n",
      "\n",
      "C:\\Users\\hp\\Anaconda3\\lib\\site-packages\\xgboost\\sklearn.py:1224: UserWarning: The use of label encoder in XGBClassifier is deprecated and will be removed in a future release. To remove this warning, do the following: 1) Pass option use_label_encoder=False when constructing XGBClassifier object; and 2) Encode your labels (y) as integers starting with 0, i.e. 0, 1, 2, ..., [num_class - 1].\n",
      "  warnings.warn(label_encoder_deprecation_msg, UserWarning)\n",
      "\n"
     ]
    },
    {
     "name": "stdout",
     "output_type": "stream",
     "text": [
      "[0]\tvalidation_0-merror:0.29529\tvalidation_1-merror:0.31021                                                            \n",
      "[2]\tvalidation_0-merror:0.29529\tvalidation_1-merror:0.31021                                                            \n",
      "[4]\tvalidation_0-merror:0.29529\tvalidation_1-merror:0.31021                                                            \n",
      "[6]\tvalidation_0-merror:0.29529\tvalidation_1-merror:0.31021                                                            \n",
      "[8]\tvalidation_0-merror:0.29529\tvalidation_1-merror:0.31021                                                            \n",
      "[9]\tvalidation_0-merror:0.29529\tvalidation_1-merror:0.31021                                                            \n",
      "SCORE:                                                                                                                 \n",
      "0.6897880539499036                                                                                                     \n",
      "[0]\tvalidation_0-merror:0.29529\tvalidation_1-merror:0.31021                                                            \n",
      "[2]\tvalidation_0-merror:0.29529\tvalidation_1-merror:0.31021                                                            \n",
      "[4]\tvalidation_0-merror:0.29529\tvalidation_1-merror:0.31021                                                            \n",
      "[6]\tvalidation_0-merror:0.29529\tvalidation_1-merror:0.31021                                                            \n",
      "[8]\tvalidation_0-merror:0.29529\tvalidation_1-merror:0.31021                                                            \n",
      "[9]\tvalidation_0-merror:0.29529\tvalidation_1-merror:0.31021                                                            \n",
      "SCORE:                                                                                                                 \n",
      "0.6897880539499036                                                                                                     \n",
      "[0]\tvalidation_0-merror:0.29529\tvalidation_1-merror:0.31021                                                            \n",
      "[2]\tvalidation_0-merror:0.29529\tvalidation_1-merror:0.31021                                                            \n",
      "[4]\tvalidation_0-merror:0.29529\tvalidation_1-merror:0.31021                                                            \n",
      "[6]\tvalidation_0-merror:0.29529\tvalidation_1-merror:0.31021                                                            \n",
      "[8]\tvalidation_0-merror:0.29529\tvalidation_1-merror:0.31021                                                            \n",
      "[10]\tvalidation_0-merror:0.29529\tvalidation_1-merror:0.31021                                                           \n"
     ]
    },
    {
     "name": "stderr",
     "output_type": "stream",
     "text": [
      "C:\\Users\\hp\\Anaconda3\\lib\\site-packages\\xgboost\\sklearn.py:1224: UserWarning: The use of label encoder in XGBClassifier is deprecated and will be removed in a future release. To remove this warning, do the following: 1) Pass option use_label_encoder=False when constructing XGBClassifier object; and 2) Encode your labels (y) as integers starting with 0, i.e. 0, 1, 2, ..., [num_class - 1].\n",
      "  warnings.warn(label_encoder_deprecation_msg, UserWarning)\n",
      "\n",
      "C:\\Users\\hp\\Anaconda3\\lib\\site-packages\\xgboost\\sklearn.py:1224: UserWarning: The use of label encoder in XGBClassifier is deprecated and will be removed in a future release. To remove this warning, do the following: 1) Pass option use_label_encoder=False when constructing XGBClassifier object; and 2) Encode your labels (y) as integers starting with 0, i.e. 0, 1, 2, ..., [num_class - 1].\n",
      "  warnings.warn(label_encoder_deprecation_msg, UserWarning)\n",
      "\n"
     ]
    },
    {
     "name": "stdout",
     "output_type": "stream",
     "text": [
      "SCORE:                                                                                                                 \n",
      "0.6897880539499036                                                                                                     \n",
      "[0]\tvalidation_0-merror:0.29529\tvalidation_1-merror:0.31021                                                            \n",
      "[2]\tvalidation_0-merror:0.29529\tvalidation_1-merror:0.31021                                                            \n",
      "[4]\tvalidation_0-merror:0.29529\tvalidation_1-merror:0.31021                                                            \n",
      "[6]\tvalidation_0-merror:0.29529\tvalidation_1-merror:0.31021                                                            \n",
      "[8]\tvalidation_0-merror:0.29529\tvalidation_1-merror:0.31021                                                            \n",
      "[9]\tvalidation_0-merror:0.29529\tvalidation_1-merror:0.31021                                                            \n",
      "SCORE:                                                                                                                 \n",
      "0.6897880539499036                                                                                                     \n",
      "[0]\tvalidation_0-merror:0.29529\tvalidation_1-merror:0.31021                                                            \n",
      "[2]\tvalidation_0-merror:0.29529\tvalidation_1-merror:0.31021                                                            \n",
      "[4]\tvalidation_0-merror:0.29529\tvalidation_1-merror:0.31021                                                            \n",
      "[6]\tvalidation_0-merror:0.29529\tvalidation_1-merror:0.31021                                                            \n",
      "[8]\tvalidation_0-merror:0.29529\tvalidation_1-merror:0.31021                                                            \n",
      " 23%|██████████▌                                   | 23/100 [00:02<00:08,  8.78trial/s, best loss: -0.6897880539499036]"
     ]
    },
    {
     "name": "stderr",
     "output_type": "stream",
     "text": [
      "C:\\Users\\hp\\Anaconda3\\lib\\site-packages\\xgboost\\sklearn.py:1224: UserWarning: The use of label encoder in XGBClassifier is deprecated and will be removed in a future release. To remove this warning, do the following: 1) Pass option use_label_encoder=False when constructing XGBClassifier object; and 2) Encode your labels (y) as integers starting with 0, i.e. 0, 1, 2, ..., [num_class - 1].\n",
      "  warnings.warn(label_encoder_deprecation_msg, UserWarning)\n",
      "\n",
      "C:\\Users\\hp\\Anaconda3\\lib\\site-packages\\xgboost\\sklearn.py:1224: UserWarning: The use of label encoder in XGBClassifier is deprecated and will be removed in a future release. To remove this warning, do the following: 1) Pass option use_label_encoder=False when constructing XGBClassifier object; and 2) Encode your labels (y) as integers starting with 0, i.e. 0, 1, 2, ..., [num_class - 1].\n",
      "  warnings.warn(label_encoder_deprecation_msg, UserWarning)\n",
      "\n"
     ]
    },
    {
     "name": "stdout",
     "output_type": "stream",
     "text": [
      "[10]\tvalidation_0-merror:0.29529\tvalidation_1-merror:0.31021                                                           \n",
      "SCORE:                                                                                                                 \n",
      "0.6897880539499036                                                                                                     \n",
      "[0]\tvalidation_0-merror:0.29529\tvalidation_1-merror:0.31021                                                            \n",
      "[2]\tvalidation_0-merror:0.29529\tvalidation_1-merror:0.31021                                                            \n",
      "[4]\tvalidation_0-merror:0.29529\tvalidation_1-merror:0.31021                                                            \n",
      "[6]\tvalidation_0-merror:0.29529\tvalidation_1-merror:0.31021                                                            \n",
      "[8]\tvalidation_0-merror:0.29529\tvalidation_1-merror:0.31021                                                            \n",
      "[9]\tvalidation_0-merror:0.29529\tvalidation_1-merror:0.31021                                                            \n",
      "SCORE:                                                                                                                 \n",
      "0.6897880539499036                                                                                                     \n",
      "[0]\tvalidation_0-merror:0.29529\tvalidation_1-merror:0.31021                                                            \n",
      "[2]\tvalidation_0-merror:0.29529\tvalidation_1-merror:0.31021                                                            \n",
      "[4]\tvalidation_0-merror:0.29529\tvalidation_1-merror:0.31021                                                            \n",
      "[6]\tvalidation_0-merror:0.29529\tvalidation_1-merror:0.31021                                                            \n",
      " 25%|███████████▌                                  | 25/100 [00:03<00:09,  8.09trial/s, best loss: -0.6897880539499036]"
     ]
    },
    {
     "name": "stderr",
     "output_type": "stream",
     "text": [
      "C:\\Users\\hp\\Anaconda3\\lib\\site-packages\\xgboost\\sklearn.py:1224: UserWarning: The use of label encoder in XGBClassifier is deprecated and will be removed in a future release. To remove this warning, do the following: 1) Pass option use_label_encoder=False when constructing XGBClassifier object; and 2) Encode your labels (y) as integers starting with 0, i.e. 0, 1, 2, ..., [num_class - 1].\n",
      "  warnings.warn(label_encoder_deprecation_msg, UserWarning)\n",
      "\n",
      "C:\\Users\\hp\\Anaconda3\\lib\\site-packages\\xgboost\\sklearn.py:1224: UserWarning: The use of label encoder in XGBClassifier is deprecated and will be removed in a future release. To remove this warning, do the following: 1) Pass option use_label_encoder=False when constructing XGBClassifier object; and 2) Encode your labels (y) as integers starting with 0, i.e. 0, 1, 2, ..., [num_class - 1].\n",
      "  warnings.warn(label_encoder_deprecation_msg, UserWarning)\n",
      "\n"
     ]
    },
    {
     "name": "stdout",
     "output_type": "stream",
     "text": [
      "[8]\tvalidation_0-merror:0.29529\tvalidation_1-merror:0.31021                                                            \n",
      "[10]\tvalidation_0-merror:0.29529\tvalidation_1-merror:0.31021                                                           \n",
      "SCORE:                                                                                                                 \n",
      "0.6897880539499036                                                                                                     \n",
      "[0]\tvalidation_0-merror:0.29529\tvalidation_1-merror:0.31021                                                            \n",
      "[2]\tvalidation_0-merror:0.29529\tvalidation_1-merror:0.31021                                                            \n",
      "[4]\tvalidation_0-merror:0.29529\tvalidation_1-merror:0.31021                                                            \n",
      "[6]\tvalidation_0-merror:0.29529\tvalidation_1-merror:0.31021                                                            \n",
      "[8]\tvalidation_0-merror:0.29529\tvalidation_1-merror:0.31021                                                            \n",
      "[9]\tvalidation_0-merror:0.29529\tvalidation_1-merror:0.31021                                                            \n",
      "SCORE:                                                                                                                 \n",
      "0.6897880539499036                                                                                                     \n",
      "[0]\tvalidation_0-merror:0.29529\tvalidation_1-merror:0.31021                                                            \n",
      "[2]\tvalidation_0-merror:0.29529\tvalidation_1-merror:0.31021                                                            \n",
      "[4]\tvalidation_0-merror:0.29529\tvalidation_1-merror:0.31021                                                            \n",
      "[6]\tvalidation_0-merror:0.29529\tvalidation_1-merror:0.31021                                                            \n",
      "[8]\tvalidation_0-merror:0.29529\tvalidation_1-merror:0.31021                                                            \n",
      "[9]\tvalidation_0-merror:0.29529\tvalidation_1-merror:0.31021                                                            \n",
      " 27%|████████████▍                                 | 27/100 [00:03<00:09,  7.73trial/s, best loss: -0.6897880539499036]"
     ]
    },
    {
     "name": "stderr",
     "output_type": "stream",
     "text": [
      "C:\\Users\\hp\\Anaconda3\\lib\\site-packages\\xgboost\\sklearn.py:1224: UserWarning: The use of label encoder in XGBClassifier is deprecated and will be removed in a future release. To remove this warning, do the following: 1) Pass option use_label_encoder=False when constructing XGBClassifier object; and 2) Encode your labels (y) as integers starting with 0, i.e. 0, 1, 2, ..., [num_class - 1].\n",
      "  warnings.warn(label_encoder_deprecation_msg, UserWarning)\n",
      "\n",
      "C:\\Users\\hp\\Anaconda3\\lib\\site-packages\\xgboost\\sklearn.py:1224: UserWarning: The use of label encoder in XGBClassifier is deprecated and will be removed in a future release. To remove this warning, do the following: 1) Pass option use_label_encoder=False when constructing XGBClassifier object; and 2) Encode your labels (y) as integers starting with 0, i.e. 0, 1, 2, ..., [num_class - 1].\n",
      "  warnings.warn(label_encoder_deprecation_msg, UserWarning)\n",
      "\n"
     ]
    },
    {
     "name": "stdout",
     "output_type": "stream",
     "text": [
      "SCORE:                                                                                                                 \n",
      "0.6897880539499036                                                                                                     \n",
      "[0]\tvalidation_0-merror:0.29529\tvalidation_1-merror:0.31021                                                            \n",
      "[2]\tvalidation_0-merror:0.29529\tvalidation_1-merror:0.31021                                                            \n",
      "[4]\tvalidation_0-merror:0.29529\tvalidation_1-merror:0.31021                                                            \n",
      "[6]\tvalidation_0-merror:0.29529\tvalidation_1-merror:0.31021                                                            \n",
      "[8]\tvalidation_0-merror:0.29529\tvalidation_1-merror:0.31021                                                            \n",
      "[9]\tvalidation_0-merror:0.29529\tvalidation_1-merror:0.31021                                                            \n",
      "SCORE:                                                                                                                 \n",
      "0.6897880539499036                                                                                                     \n",
      "[0]\tvalidation_0-merror:0.29529\tvalidation_1-merror:0.31021                                                            \n",
      "[2]\tvalidation_0-merror:0.29529\tvalidation_1-merror:0.31021                                                            \n",
      "[4]\tvalidation_0-merror:0.29529\tvalidation_1-merror:0.31021                                                            \n",
      "[6]\tvalidation_0-merror:0.29529\tvalidation_1-merror:0.31021                                                            \n",
      "[8]\tvalidation_0-merror:0.29529\tvalidation_1-merror:0.31021                                                            \n",
      "[10]\tvalidation_0-merror:0.29529\tvalidation_1-merror:0.31021                                                           \n",
      " 29%|█████████████▎                                | 29/100 [00:03<00:09,  7.71trial/s, best loss: -0.6897880539499036]"
     ]
    },
    {
     "name": "stderr",
     "output_type": "stream",
     "text": [
      "C:\\Users\\hp\\Anaconda3\\lib\\site-packages\\xgboost\\sklearn.py:1224: UserWarning: The use of label encoder in XGBClassifier is deprecated and will be removed in a future release. To remove this warning, do the following: 1) Pass option use_label_encoder=False when constructing XGBClassifier object; and 2) Encode your labels (y) as integers starting with 0, i.e. 0, 1, 2, ..., [num_class - 1].\n",
      "  warnings.warn(label_encoder_deprecation_msg, UserWarning)\n",
      "\n",
      "C:\\Users\\hp\\Anaconda3\\lib\\site-packages\\xgboost\\sklearn.py:1224: UserWarning: The use of label encoder in XGBClassifier is deprecated and will be removed in a future release. To remove this warning, do the following: 1) Pass option use_label_encoder=False when constructing XGBClassifier object; and 2) Encode your labels (y) as integers starting with 0, i.e. 0, 1, 2, ..., [num_class - 1].\n",
      "  warnings.warn(label_encoder_deprecation_msg, UserWarning)\n",
      "\n"
     ]
    },
    {
     "name": "stdout",
     "output_type": "stream",
     "text": [
      "SCORE:                                                                                                                 \n",
      "0.6897880539499036                                                                                                     \n",
      "[0]\tvalidation_0-merror:0.29529\tvalidation_1-merror:0.31021                                                            \n",
      "[2]\tvalidation_0-merror:0.29529\tvalidation_1-merror:0.31021                                                            \n",
      "[4]\tvalidation_0-merror:0.29529\tvalidation_1-merror:0.31021                                                            \n",
      "[6]\tvalidation_0-merror:0.29529\tvalidation_1-merror:0.31021                                                            \n",
      "[8]\tvalidation_0-merror:0.29529\tvalidation_1-merror:0.31021                                                            \n",
      "[9]\tvalidation_0-merror:0.29529\tvalidation_1-merror:0.31021                                                            \n",
      "SCORE:                                                                                                                 \n",
      "0.6897880539499036                                                                                                     \n",
      "[0]\tvalidation_0-merror:0.29529\tvalidation_1-merror:0.31021                                                            \n",
      "[2]\tvalidation_0-merror:0.29529\tvalidation_1-merror:0.31021                                                            \n",
      " 31%|██████████████▎                               | 31/100 [00:04<00:09,  7.24trial/s, best loss: -0.6897880539499036]"
     ]
    },
    {
     "name": "stderr",
     "output_type": "stream",
     "text": [
      "C:\\Users\\hp\\Anaconda3\\lib\\site-packages\\xgboost\\sklearn.py:1224: UserWarning: The use of label encoder in XGBClassifier is deprecated and will be removed in a future release. To remove this warning, do the following: 1) Pass option use_label_encoder=False when constructing XGBClassifier object; and 2) Encode your labels (y) as integers starting with 0, i.e. 0, 1, 2, ..., [num_class - 1].\n",
      "  warnings.warn(label_encoder_deprecation_msg, UserWarning)\n",
      "\n",
      "C:\\Users\\hp\\Anaconda3\\lib\\site-packages\\xgboost\\sklearn.py:1224: UserWarning: The use of label encoder in XGBClassifier is deprecated and will be removed in a future release. To remove this warning, do the following: 1) Pass option use_label_encoder=False when constructing XGBClassifier object; and 2) Encode your labels (y) as integers starting with 0, i.e. 0, 1, 2, ..., [num_class - 1].\n",
      "  warnings.warn(label_encoder_deprecation_msg, UserWarning)\n",
      "\n"
     ]
    },
    {
     "name": "stdout",
     "output_type": "stream",
     "text": [
      "[4]\tvalidation_0-merror:0.29529\tvalidation_1-merror:0.31021                                                            \n",
      "[6]\tvalidation_0-merror:0.29529\tvalidation_1-merror:0.31021                                                            \n",
      "[8]\tvalidation_0-merror:0.29529\tvalidation_1-merror:0.31021                                                            \n",
      "[10]\tvalidation_0-merror:0.29529\tvalidation_1-merror:0.31021                                                           \n",
      "SCORE:                                                                                                                 \n",
      "0.6897880539499036                                                                                                     \n",
      "[0]\tvalidation_0-merror:0.29529\tvalidation_1-merror:0.31021                                                            \n",
      "[2]\tvalidation_0-merror:0.29529\tvalidation_1-merror:0.31021                                                            \n",
      "[4]\tvalidation_0-merror:0.29529\tvalidation_1-merror:0.31021                                                            \n",
      "[6]\tvalidation_0-merror:0.29529\tvalidation_1-merror:0.31021                                                            \n",
      "[8]\tvalidation_0-merror:0.29529\tvalidation_1-merror:0.31021                                                            \n",
      "[9]\tvalidation_0-merror:0.29529\tvalidation_1-merror:0.31021                                                            \n",
      "SCORE:                                                                                                                 \n",
      "0.6897880539499036                                                                                                     \n",
      "[0]\tvalidation_0-merror:0.29529\tvalidation_1-merror:0.31021                                                            \n",
      "[2]\tvalidation_0-merror:0.29529\tvalidation_1-merror:0.31021                                                            \n",
      " 33%|███████████████▏                              | 33/100 [00:04<00:09,  6.93trial/s, best loss: -0.6897880539499036]"
     ]
    },
    {
     "name": "stderr",
     "output_type": "stream",
     "text": [
      "C:\\Users\\hp\\Anaconda3\\lib\\site-packages\\xgboost\\sklearn.py:1224: UserWarning: The use of label encoder in XGBClassifier is deprecated and will be removed in a future release. To remove this warning, do the following: 1) Pass option use_label_encoder=False when constructing XGBClassifier object; and 2) Encode your labels (y) as integers starting with 0, i.e. 0, 1, 2, ..., [num_class - 1].\n",
      "  warnings.warn(label_encoder_deprecation_msg, UserWarning)\n",
      "\n",
      "C:\\Users\\hp\\Anaconda3\\lib\\site-packages\\xgboost\\sklearn.py:1224: UserWarning: The use of label encoder in XGBClassifier is deprecated and will be removed in a future release. To remove this warning, do the following: 1) Pass option use_label_encoder=False when constructing XGBClassifier object; and 2) Encode your labels (y) as integers starting with 0, i.e. 0, 1, 2, ..., [num_class - 1].\n",
      "  warnings.warn(label_encoder_deprecation_msg, UserWarning)\n",
      "\n"
     ]
    },
    {
     "name": "stdout",
     "output_type": "stream",
     "text": [
      "[4]\tvalidation_0-merror:0.29529\tvalidation_1-merror:0.31021                                                            \n",
      "[6]\tvalidation_0-merror:0.29529\tvalidation_1-merror:0.31021                                                            \n",
      "[8]\tvalidation_0-merror:0.29529\tvalidation_1-merror:0.31021                                                            \n",
      "[10]\tvalidation_0-merror:0.29529\tvalidation_1-merror:0.31021                                                           \n",
      "SCORE:                                                                                                                 \n",
      "0.6897880539499036                                                                                                     \n",
      "[0]\tvalidation_0-merror:0.29529\tvalidation_1-merror:0.31021                                                            \n",
      "[2]\tvalidation_0-merror:0.29529\tvalidation_1-merror:0.31021                                                            \n",
      "[4]\tvalidation_0-merror:0.29529\tvalidation_1-merror:0.31021                                                            \n",
      "[6]\tvalidation_0-merror:0.29529\tvalidation_1-merror:0.31021                                                            \n",
      "[8]\tvalidation_0-merror:0.29529\tvalidation_1-merror:0.31021                                                            \n",
      "[9]\tvalidation_0-merror:0.29529\tvalidation_1-merror:0.31021                                                            \n",
      "SCORE:                                                                                                                 \n",
      "0.6897880539499036                                                                                                     \n",
      "[0]\tvalidation_0-merror:0.29529\tvalidation_1-merror:0.31021                                                            \n",
      "                                                                                                                       \r"
     ]
    },
    {
     "name": "stderr",
     "output_type": "stream",
     "text": [
      "C:\\Users\\hp\\Anaconda3\\lib\\site-packages\\xgboost\\sklearn.py:1224: UserWarning: The use of label encoder in XGBClassifier is deprecated and will be removed in a future release. To remove this warning, do the following: 1) Pass option use_label_encoder=False when constructing XGBClassifier object; and 2) Encode your labels (y) as integers starting with 0, i.e. 0, 1, 2, ..., [num_class - 1].\n",
      "  warnings.warn(label_encoder_deprecation_msg, UserWarning)\n",
      "\n",
      "C:\\Users\\hp\\Anaconda3\\lib\\site-packages\\xgboost\\sklearn.py:1224: UserWarning: The use of label encoder in XGBClassifier is deprecated and will be removed in a future release. To remove this warning, do the following: 1) Pass option use_label_encoder=False when constructing XGBClassifier object; and 2) Encode your labels (y) as integers starting with 0, i.e. 0, 1, 2, ..., [num_class - 1].\n",
      "  warnings.warn(label_encoder_deprecation_msg, UserWarning)\n",
      "\n"
     ]
    },
    {
     "name": "stdout",
     "output_type": "stream",
     "text": [
      "[2]\tvalidation_0-merror:0.29529\tvalidation_1-merror:0.31021\n",
      "[4]\tvalidation_0-merror:0.29529\tvalidation_1-merror:0.31021                                                            \n",
      "[6]\tvalidation_0-merror:0.29529\tvalidation_1-merror:0.31021                                                            \n",
      "[8]\tvalidation_0-merror:0.29529\tvalidation_1-merror:0.31021                                                            \n",
      "[10]\tvalidation_0-merror:0.29529\tvalidation_1-merror:0.31021                                                           \n",
      "SCORE:                                                                                                                 \n",
      "0.6897880539499036                                                                                                     \n",
      "[0]\tvalidation_0-merror:0.29529\tvalidation_1-merror:0.31021                                                            \n",
      "[2]\tvalidation_0-merror:0.29529\tvalidation_1-merror:0.31021                                                            \n",
      "[4]\tvalidation_0-merror:0.29529\tvalidation_1-merror:0.31021                                                            \n",
      "[6]\tvalidation_0-merror:0.29529\tvalidation_1-merror:0.31021                                                            \n",
      "[8]\tvalidation_0-merror:0.29529\tvalidation_1-merror:0.31021                                                            \n",
      "[10]\tvalidation_0-merror:0.29529\tvalidation_1-merror:0.31021                                                           \n",
      "SCORE:                                                                                                                 \n",
      "0.6897880539499036                                                                                                     \n",
      " 37%|█████████████████                             | 37/100 [00:04<00:10,  6.07trial/s, best loss: -0.6897880539499036]"
     ]
    },
    {
     "name": "stderr",
     "output_type": "stream",
     "text": [
      "C:\\Users\\hp\\Anaconda3\\lib\\site-packages\\xgboost\\sklearn.py:1224: UserWarning: The use of label encoder in XGBClassifier is deprecated and will be removed in a future release. To remove this warning, do the following: 1) Pass option use_label_encoder=False when constructing XGBClassifier object; and 2) Encode your labels (y) as integers starting with 0, i.e. 0, 1, 2, ..., [num_class - 1].\n",
      "  warnings.warn(label_encoder_deprecation_msg, UserWarning)\n",
      "\n"
     ]
    },
    {
     "name": "stdout",
     "output_type": "stream",
     "text": [
      "[0]\tvalidation_0-merror:0.29529\tvalidation_1-merror:0.31021                                                            \n",
      "[2]\tvalidation_0-merror:0.29529\tvalidation_1-merror:0.31021                                                            \n",
      "[4]\tvalidation_0-merror:0.29529\tvalidation_1-merror:0.31021                                                            \n",
      "[6]\tvalidation_0-merror:0.29529\tvalidation_1-merror:0.31021                                                            \n",
      "[8]\tvalidation_0-merror:0.29529\tvalidation_1-merror:0.31021                                                            \n",
      "[9]\tvalidation_0-merror:0.29529\tvalidation_1-merror:0.31021                                                            \n",
      "SCORE:                                                                                                                 \n",
      "0.6897880539499036                                                                                                     \n",
      "[0]\tvalidation_0-merror:0.29529\tvalidation_1-merror:0.31021                                                            \n",
      "[2]\tvalidation_0-merror:0.29529\tvalidation_1-merror:0.31021                                                            \n",
      " 38%|█████████████████▍                            | 38/100 [00:05<00:10,  6.19trial/s, best loss: -0.6897880539499036]"
     ]
    },
    {
     "name": "stderr",
     "output_type": "stream",
     "text": [
      "C:\\Users\\hp\\Anaconda3\\lib\\site-packages\\xgboost\\sklearn.py:1224: UserWarning: The use of label encoder in XGBClassifier is deprecated and will be removed in a future release. To remove this warning, do the following: 1) Pass option use_label_encoder=False when constructing XGBClassifier object; and 2) Encode your labels (y) as integers starting with 0, i.e. 0, 1, 2, ..., [num_class - 1].\n",
      "  warnings.warn(label_encoder_deprecation_msg, UserWarning)\n",
      "\n",
      "C:\\Users\\hp\\Anaconda3\\lib\\site-packages\\xgboost\\sklearn.py:1224: UserWarning: The use of label encoder in XGBClassifier is deprecated and will be removed in a future release. To remove this warning, do the following: 1) Pass option use_label_encoder=False when constructing XGBClassifier object; and 2) Encode your labels (y) as integers starting with 0, i.e. 0, 1, 2, ..., [num_class - 1].\n",
      "  warnings.warn(label_encoder_deprecation_msg, UserWarning)\n",
      "\n"
     ]
    },
    {
     "name": "stdout",
     "output_type": "stream",
     "text": [
      "[4]\tvalidation_0-merror:0.29529\tvalidation_1-merror:0.31021                                                            \n",
      "[6]\tvalidation_0-merror:0.29529\tvalidation_1-merror:0.31021                                                            \n",
      "[8]\tvalidation_0-merror:0.29529\tvalidation_1-merror:0.31021                                                            \n",
      "[10]\tvalidation_0-merror:0.29529\tvalidation_1-merror:0.31021                                                           \n",
      "SCORE:                                                                                                                 \n",
      "0.6897880539499036                                                                                                     \n",
      "[0]\tvalidation_0-merror:0.29529\tvalidation_1-merror:0.31021                                                            \n",
      "[2]\tvalidation_0-merror:0.29529\tvalidation_1-merror:0.31021                                                            \n",
      "[4]\tvalidation_0-merror:0.29529\tvalidation_1-merror:0.31021                                                            \n",
      "[6]\tvalidation_0-merror:0.29529\tvalidation_1-merror:0.31021                                                            \n",
      "[8]\tvalidation_0-merror:0.29529\tvalidation_1-merror:0.31021                                                            \n",
      "[9]\tvalidation_0-merror:0.29529\tvalidation_1-merror:0.31021                                                            \n",
      "SCORE:                                                                                                                 \n",
      "0.6897880539499036                                                                                                     \n",
      "[0]\tvalidation_0-merror:0.29529\tvalidation_1-merror:0.31021                                                            \n",
      " 40%|██████████████████▍                           | 40/100 [00:05<00:09,  6.34trial/s, best loss: -0.6897880539499036]"
     ]
    },
    {
     "name": "stderr",
     "output_type": "stream",
     "text": [
      "C:\\Users\\hp\\Anaconda3\\lib\\site-packages\\xgboost\\sklearn.py:1224: UserWarning: The use of label encoder in XGBClassifier is deprecated and will be removed in a future release. To remove this warning, do the following: 1) Pass option use_label_encoder=False when constructing XGBClassifier object; and 2) Encode your labels (y) as integers starting with 0, i.e. 0, 1, 2, ..., [num_class - 1].\n",
      "  warnings.warn(label_encoder_deprecation_msg, UserWarning)\n",
      "\n",
      "C:\\Users\\hp\\Anaconda3\\lib\\site-packages\\xgboost\\sklearn.py:1224: UserWarning: The use of label encoder in XGBClassifier is deprecated and will be removed in a future release. To remove this warning, do the following: 1) Pass option use_label_encoder=False when constructing XGBClassifier object; and 2) Encode your labels (y) as integers starting with 0, i.e. 0, 1, 2, ..., [num_class - 1].\n",
      "  warnings.warn(label_encoder_deprecation_msg, UserWarning)\n",
      "\n"
     ]
    },
    {
     "name": "stdout",
     "output_type": "stream",
     "text": [
      "[2]\tvalidation_0-merror:0.29529\tvalidation_1-merror:0.31021                                                            \n",
      "[4]\tvalidation_0-merror:0.29529\tvalidation_1-merror:0.31021                                                            \n",
      "[6]\tvalidation_0-merror:0.29529\tvalidation_1-merror:0.31021                                                            \n",
      "[8]\tvalidation_0-merror:0.29529\tvalidation_1-merror:0.31021                                                            \n",
      "[10]\tvalidation_0-merror:0.29529\tvalidation_1-merror:0.31021                                                           \n",
      "SCORE:                                                                                                                 \n",
      "0.6897880539499036                                                                                                     \n",
      "[0]\tvalidation_0-merror:0.29529\tvalidation_1-merror:0.31021                                                            \n",
      "[2]\tvalidation_0-merror:0.29529\tvalidation_1-merror:0.31021                                                            \n",
      "[4]\tvalidation_0-merror:0.29529\tvalidation_1-merror:0.31021                                                            \n",
      "[6]\tvalidation_0-merror:0.29529\tvalidation_1-merror:0.31021                                                            \n",
      "[8]\tvalidation_0-merror:0.29529\tvalidation_1-merror:0.31021                                                            \n",
      "[9]\tvalidation_0-merror:0.29529\tvalidation_1-merror:0.31021                                                            \n",
      "SCORE:                                                                                                                 \n",
      "0.6897880539499036                                                                                                     \n",
      "[0]\tvalidation_0-merror:0.29529\tvalidation_1-merror:0.31021                                                            \n",
      "                                                                                                                       \r"
     ]
    },
    {
     "name": "stderr",
     "output_type": "stream",
     "text": [
      "C:\\Users\\hp\\Anaconda3\\lib\\site-packages\\xgboost\\sklearn.py:1224: UserWarning: The use of label encoder in XGBClassifier is deprecated and will be removed in a future release. To remove this warning, do the following: 1) Pass option use_label_encoder=False when constructing XGBClassifier object; and 2) Encode your labels (y) as integers starting with 0, i.e. 0, 1, 2, ..., [num_class - 1].\n",
      "  warnings.warn(label_encoder_deprecation_msg, UserWarning)\n",
      "\n",
      "C:\\Users\\hp\\Anaconda3\\lib\\site-packages\\xgboost\\sklearn.py:1224: UserWarning: The use of label encoder in XGBClassifier is deprecated and will be removed in a future release. To remove this warning, do the following: 1) Pass option use_label_encoder=False when constructing XGBClassifier object; and 2) Encode your labels (y) as integers starting with 0, i.e. 0, 1, 2, ..., [num_class - 1].\n",
      "  warnings.warn(label_encoder_deprecation_msg, UserWarning)\n",
      "\n"
     ]
    },
    {
     "name": "stdout",
     "output_type": "stream",
     "text": [
      "[2]\tvalidation_0-merror:0.29529\tvalidation_1-merror:0.31021\n",
      "[4]\tvalidation_0-merror:0.29529\tvalidation_1-merror:0.31021                                                            \n",
      "[6]\tvalidation_0-merror:0.29529\tvalidation_1-merror:0.31021                                                            \n",
      "[8]\tvalidation_0-merror:0.29529\tvalidation_1-merror:0.31021                                                            \n",
      "[9]\tvalidation_0-merror:0.29529\tvalidation_1-merror:0.31021                                                            \n",
      "SCORE:                                                                                                                 \n",
      "0.6897880539499036                                                                                                     \n",
      "[0]\tvalidation_0-merror:0.29529\tvalidation_1-merror:0.31021                                                            \n",
      "[2]\tvalidation_0-merror:0.29529\tvalidation_1-merror:0.31021                                                            \n",
      "[4]\tvalidation_0-merror:0.29529\tvalidation_1-merror:0.31021                                                            \n",
      "[6]\tvalidation_0-merror:0.29529\tvalidation_1-merror:0.31021                                                            \n",
      "[8]\tvalidation_0-merror:0.29529\tvalidation_1-merror:0.31021                                                            \n",
      "[10]\tvalidation_0-merror:0.29529\tvalidation_1-merror:0.31021                                                           \n",
      "SCORE:                                                                                                                 \n",
      "0.6897880539499036                                                                                                     \n",
      " 44%|████████████████████▏                         | 44/100 [00:06<00:09,  5.96trial/s, best loss: -0.6897880539499036]"
     ]
    },
    {
     "name": "stderr",
     "output_type": "stream",
     "text": [
      "C:\\Users\\hp\\Anaconda3\\lib\\site-packages\\xgboost\\sklearn.py:1224: UserWarning: The use of label encoder in XGBClassifier is deprecated and will be removed in a future release. To remove this warning, do the following: 1) Pass option use_label_encoder=False when constructing XGBClassifier object; and 2) Encode your labels (y) as integers starting with 0, i.e. 0, 1, 2, ..., [num_class - 1].\n",
      "  warnings.warn(label_encoder_deprecation_msg, UserWarning)\n",
      "\n",
      "C:\\Users\\hp\\Anaconda3\\lib\\site-packages\\xgboost\\sklearn.py:1224: UserWarning: The use of label encoder in XGBClassifier is deprecated and will be removed in a future release. To remove this warning, do the following: 1) Pass option use_label_encoder=False when constructing XGBClassifier object; and 2) Encode your labels (y) as integers starting with 0, i.e. 0, 1, 2, ..., [num_class - 1].\n",
      "  warnings.warn(label_encoder_deprecation_msg, UserWarning)\n"
     ]
    },
    {
     "name": "stdout",
     "output_type": "stream",
     "text": [
      "[0]\tvalidation_0-merror:0.29529\tvalidation_1-merror:0.31021                                                            \n",
      "[2]\tvalidation_0-merror:0.29529\tvalidation_1-merror:0.31021                                                            \n",
      "[4]\tvalidation_0-merror:0.29529\tvalidation_1-merror:0.31021                                                            \n",
      "[6]\tvalidation_0-merror:0.29529\tvalidation_1-merror:0.31021                                                            \n",
      "[8]\tvalidation_0-merror:0.29529\tvalidation_1-merror:0.31021                                                            \n",
      "[10]\tvalidation_0-merror:0.29529\tvalidation_1-merror:0.31021                                                           \n",
      "SCORE:                                                                                                                 \n",
      "0.6897880539499036                                                                                                     \n",
      " 45%|████████████████████▋                         | 45/100 [00:06<00:11,  4.95trial/s, best loss: -0.6897880539499036]"
     ]
    },
    {
     "name": "stderr",
     "output_type": "stream",
     "text": [
      "\n"
     ]
    },
    {
     "name": "stdout",
     "output_type": "stream",
     "text": [
      "[0]\tvalidation_0-merror:0.29529\tvalidation_1-merror:0.31021                                                            \n",
      "[2]\tvalidation_0-merror:0.29529\tvalidation_1-merror:0.31021                                                            \n",
      "[4]\tvalidation_0-merror:0.29529\tvalidation_1-merror:0.31021                                                            \n",
      "[6]\tvalidation_0-merror:0.29529\tvalidation_1-merror:0.31021                                                            \n",
      "[8]\tvalidation_0-merror:0.29529\tvalidation_1-merror:0.31021                                                            \n",
      "[10]\tvalidation_0-merror:0.29529\tvalidation_1-merror:0.31021                                                           \n",
      "SCORE:                                                                                                                 \n",
      "0.6897880539499036                                                                                                     \n",
      "[0]\tvalidation_0-merror:0.29529\tvalidation_1-merror:0.31021                                                            \n",
      "[2]\tvalidation_0-merror:0.29529\tvalidation_1-merror:0.31021                                                            \n",
      " 46%|█████████████████████▏                        | 46/100 [00:06<00:10,  5.34trial/s, best loss: -0.6897880539499036]"
     ]
    },
    {
     "name": "stderr",
     "output_type": "stream",
     "text": [
      "C:\\Users\\hp\\Anaconda3\\lib\\site-packages\\xgboost\\sklearn.py:1224: UserWarning: The use of label encoder in XGBClassifier is deprecated and will be removed in a future release. To remove this warning, do the following: 1) Pass option use_label_encoder=False when constructing XGBClassifier object; and 2) Encode your labels (y) as integers starting with 0, i.e. 0, 1, 2, ..., [num_class - 1].\n",
      "  warnings.warn(label_encoder_deprecation_msg, UserWarning)\n",
      "\n",
      "C:\\Users\\hp\\Anaconda3\\lib\\site-packages\\xgboost\\sklearn.py:1224: UserWarning: The use of label encoder in XGBClassifier is deprecated and will be removed in a future release. To remove this warning, do the following: 1) Pass option use_label_encoder=False when constructing XGBClassifier object; and 2) Encode your labels (y) as integers starting with 0, i.e. 0, 1, 2, ..., [num_class - 1].\n",
      "  warnings.warn(label_encoder_deprecation_msg, UserWarning)\n",
      "\n"
     ]
    },
    {
     "name": "stdout",
     "output_type": "stream",
     "text": [
      "[4]\tvalidation_0-merror:0.29529\tvalidation_1-merror:0.31021                                                            \n",
      "[6]\tvalidation_0-merror:0.29529\tvalidation_1-merror:0.31021                                                            \n",
      "[8]\tvalidation_0-merror:0.29529\tvalidation_1-merror:0.31021                                                            \n",
      "[10]\tvalidation_0-merror:0.29529\tvalidation_1-merror:0.31021                                                           \n",
      "SCORE:                                                                                                                 \n",
      "0.6897880539499036                                                                                                     \n",
      "[0]\tvalidation_0-merror:0.29529\tvalidation_1-merror:0.31021                                                            \n",
      "[2]\tvalidation_0-merror:0.29529\tvalidation_1-merror:0.31021                                                            \n",
      "[4]\tvalidation_0-merror:0.29529\tvalidation_1-merror:0.31021                                                            \n",
      "[6]\tvalidation_0-merror:0.29529\tvalidation_1-merror:0.31021                                                            \n",
      "[8]\tvalidation_0-merror:0.29529\tvalidation_1-merror:0.31021                                                            \n",
      "[9]\tvalidation_0-merror:0.29529\tvalidation_1-merror:0.31021                                                            \n",
      "SCORE:                                                                                                                 \n",
      "0.6897880539499036                                                                                                     \n",
      "[0]\tvalidation_0-merror:0.29529\tvalidation_1-merror:0.31021                                                            \n",
      "[2]\tvalidation_0-merror:0.29529\tvalidation_1-merror:0.31021                                                            \n",
      "[4]\tvalidation_0-merror:0.29529\tvalidation_1-merror:0.31021                                                            \n",
      " 48%|██████████████████████                        | 48/100 [00:06<00:09,  5.70trial/s, best loss: -0.6897880539499036]"
     ]
    },
    {
     "name": "stderr",
     "output_type": "stream",
     "text": [
      "C:\\Users\\hp\\Anaconda3\\lib\\site-packages\\xgboost\\sklearn.py:1224: UserWarning: The use of label encoder in XGBClassifier is deprecated and will be removed in a future release. To remove this warning, do the following: 1) Pass option use_label_encoder=False when constructing XGBClassifier object; and 2) Encode your labels (y) as integers starting with 0, i.e. 0, 1, 2, ..., [num_class - 1].\n",
      "  warnings.warn(label_encoder_deprecation_msg, UserWarning)\n",
      "\n",
      "C:\\Users\\hp\\Anaconda3\\lib\\site-packages\\xgboost\\sklearn.py:1224: UserWarning: The use of label encoder in XGBClassifier is deprecated and will be removed in a future release. To remove this warning, do the following: 1) Pass option use_label_encoder=False when constructing XGBClassifier object; and 2) Encode your labels (y) as integers starting with 0, i.e. 0, 1, 2, ..., [num_class - 1].\n",
      "  warnings.warn(label_encoder_deprecation_msg, UserWarning)\n",
      "\n"
     ]
    },
    {
     "name": "stdout",
     "output_type": "stream",
     "text": [
      "[6]\tvalidation_0-merror:0.29529\tvalidation_1-merror:0.31021                                                            \n",
      "[8]\tvalidation_0-merror:0.29529\tvalidation_1-merror:0.31021                                                            \n",
      "[9]\tvalidation_0-merror:0.29529\tvalidation_1-merror:0.31021                                                            \n",
      "SCORE:                                                                                                                 \n",
      "0.6897880539499036                                                                                                     \n",
      "[0]\tvalidation_0-merror:0.29529\tvalidation_1-merror:0.31021                                                            \n",
      "[2]\tvalidation_0-merror:0.29529\tvalidation_1-merror:0.31021                                                            \n",
      "[4]\tvalidation_0-merror:0.29529\tvalidation_1-merror:0.31021                                                            \n",
      "[6]\tvalidation_0-merror:0.29529\tvalidation_1-merror:0.31021                                                            \n",
      "[8]\tvalidation_0-merror:0.29529\tvalidation_1-merror:0.31021                                                            \n",
      "[10]\tvalidation_0-merror:0.29529\tvalidation_1-merror:0.31021                                                           \n",
      "SCORE:                                                                                                                 \n",
      "0.6897880539499036                                                                                                     \n",
      " 50%|███████████████████████                       | 50/100 [00:07<00:09,  5.52trial/s, best loss: -0.6897880539499036]"
     ]
    },
    {
     "name": "stderr",
     "output_type": "stream",
     "text": [
      "C:\\Users\\hp\\Anaconda3\\lib\\site-packages\\xgboost\\sklearn.py:1224: UserWarning: The use of label encoder in XGBClassifier is deprecated and will be removed in a future release. To remove this warning, do the following: 1) Pass option use_label_encoder=False when constructing XGBClassifier object; and 2) Encode your labels (y) as integers starting with 0, i.e. 0, 1, 2, ..., [num_class - 1].\n",
      "  warnings.warn(label_encoder_deprecation_msg, UserWarning)\n",
      "\n",
      "C:\\Users\\hp\\Anaconda3\\lib\\site-packages\\xgboost\\sklearn.py:1224: UserWarning: The use of label encoder in XGBClassifier is deprecated and will be removed in a future release. To remove this warning, do the following: 1) Pass option use_label_encoder=False when constructing XGBClassifier object; and 2) Encode your labels (y) as integers starting with 0, i.e. 0, 1, 2, ..., [num_class - 1].\n",
      "  warnings.warn(label_encoder_deprecation_msg, UserWarning)\n",
      "\n"
     ]
    },
    {
     "name": "stdout",
     "output_type": "stream",
     "text": [
      "[0]\tvalidation_0-merror:0.29529\tvalidation_1-merror:0.31021                                                            \n",
      "[2]\tvalidation_0-merror:0.29529\tvalidation_1-merror:0.31021                                                            \n",
      "[4]\tvalidation_0-merror:0.29529\tvalidation_1-merror:0.31021                                                            \n",
      "[6]\tvalidation_0-merror:0.29529\tvalidation_1-merror:0.31021                                                            \n",
      "[8]\tvalidation_0-merror:0.29529\tvalidation_1-merror:0.31021                                                            \n",
      "[10]\tvalidation_0-merror:0.29529\tvalidation_1-merror:0.31021                                                           \n",
      "SCORE:                                                                                                                 \n",
      "0.6897880539499036                                                                                                     \n",
      "[0]\tvalidation_0-merror:0.29529\tvalidation_1-merror:0.31021                                                            \n",
      "[2]\tvalidation_0-merror:0.29529\tvalidation_1-merror:0.31021                                                            \n",
      "[4]\tvalidation_0-merror:0.29529\tvalidation_1-merror:0.31021                                                            \n",
      "[6]\tvalidation_0-merror:0.29529\tvalidation_1-merror:0.31021                                                            \n",
      "[8]\tvalidation_0-merror:0.29529\tvalidation_1-merror:0.31021                                                            \n",
      "[10]\tvalidation_0-merror:0.29529\tvalidation_1-merror:0.31021                                                           \n",
      "SCORE:                                                                                                                 \n",
      "0.6897880539499036                                                                                                     \n",
      " 52%|███████████████████████▉                      | 52/100 [00:07<00:08,  5.67trial/s, best loss: -0.6897880539499036]"
     ]
    },
    {
     "name": "stderr",
     "output_type": "stream",
     "text": [
      "C:\\Users\\hp\\Anaconda3\\lib\\site-packages\\xgboost\\sklearn.py:1224: UserWarning: The use of label encoder in XGBClassifier is deprecated and will be removed in a future release. To remove this warning, do the following: 1) Pass option use_label_encoder=False when constructing XGBClassifier object; and 2) Encode your labels (y) as integers starting with 0, i.e. 0, 1, 2, ..., [num_class - 1].\n",
      "  warnings.warn(label_encoder_deprecation_msg, UserWarning)\n",
      "\n",
      "C:\\Users\\hp\\Anaconda3\\lib\\site-packages\\xgboost\\sklearn.py:1224: UserWarning: The use of label encoder in XGBClassifier is deprecated and will be removed in a future release. To remove this warning, do the following: 1) Pass option use_label_encoder=False when constructing XGBClassifier object; and 2) Encode your labels (y) as integers starting with 0, i.e. 0, 1, 2, ..., [num_class - 1].\n",
      "  warnings.warn(label_encoder_deprecation_msg, UserWarning)\n",
      "\n"
     ]
    },
    {
     "name": "stdout",
     "output_type": "stream",
     "text": [
      "[0]\tvalidation_0-merror:0.29529\tvalidation_1-merror:0.31021                                                            \n",
      "[2]\tvalidation_0-merror:0.29529\tvalidation_1-merror:0.31021                                                            \n",
      "[4]\tvalidation_0-merror:0.29529\tvalidation_1-merror:0.31021                                                            \n",
      "[6]\tvalidation_0-merror:0.29529\tvalidation_1-merror:0.31021                                                            \n",
      "[8]\tvalidation_0-merror:0.29529\tvalidation_1-merror:0.31021                                                            \n",
      "[9]\tvalidation_0-merror:0.29529\tvalidation_1-merror:0.31021                                                            \n",
      "SCORE:                                                                                                                 \n",
      "0.6897880539499036                                                                                                     \n",
      "[0]\tvalidation_0-merror:0.29529\tvalidation_1-merror:0.31021                                                            \n",
      "[2]\tvalidation_0-merror:0.29529\tvalidation_1-merror:0.31021                                                            \n",
      "[4]\tvalidation_0-merror:0.29529\tvalidation_1-merror:0.31021                                                            \n",
      "[6]\tvalidation_0-merror:0.29529\tvalidation_1-merror:0.31021                                                            \n",
      "[8]\tvalidation_0-merror:0.29529\tvalidation_1-merror:0.31021                                                            \n",
      "[9]\tvalidation_0-merror:0.29529\tvalidation_1-merror:0.31021                                                            \n",
      "SCORE:                                                                                                                 \n",
      "0.6897880539499036                                                                                                     \n",
      " 54%|████████████████████████▊                     | 54/100 [00:07<00:09,  4.99trial/s, best loss: -0.6897880539499036]"
     ]
    },
    {
     "name": "stderr",
     "output_type": "stream",
     "text": [
      "C:\\Users\\hp\\Anaconda3\\lib\\site-packages\\xgboost\\sklearn.py:1224: UserWarning: The use of label encoder in XGBClassifier is deprecated and will be removed in a future release. To remove this warning, do the following: 1) Pass option use_label_encoder=False when constructing XGBClassifier object; and 2) Encode your labels (y) as integers starting with 0, i.e. 0, 1, 2, ..., [num_class - 1].\n",
      "  warnings.warn(label_encoder_deprecation_msg, UserWarning)\n",
      "\n"
     ]
    },
    {
     "name": "stdout",
     "output_type": "stream",
     "text": [
      "[0]\tvalidation_0-merror:0.29529\tvalidation_1-merror:0.31021                                                            \n",
      "[2]\tvalidation_0-merror:0.29529\tvalidation_1-merror:0.31021                                                            \n",
      "[4]\tvalidation_0-merror:0.29529\tvalidation_1-merror:0.31021                                                            \n",
      "[6]\tvalidation_0-merror:0.29529\tvalidation_1-merror:0.31021                                                            \n",
      "[8]\tvalidation_0-merror:0.29529\tvalidation_1-merror:0.31021                                                            \n",
      "[10]\tvalidation_0-merror:0.29529\tvalidation_1-merror:0.31021                                                           \n",
      "SCORE:                                                                                                                 \n",
      "0.6897880539499036                                                                                                     \n",
      "[0]\tvalidation_0-merror:0.29529\tvalidation_1-merror:0.31021                                                            \n",
      " 55%|█████████████████████████▎                    | 55/100 [00:08<00:08,  5.32trial/s, best loss: -0.6897880539499036]"
     ]
    },
    {
     "name": "stderr",
     "output_type": "stream",
     "text": [
      "C:\\Users\\hp\\Anaconda3\\lib\\site-packages\\xgboost\\sklearn.py:1224: UserWarning: The use of label encoder in XGBClassifier is deprecated and will be removed in a future release. To remove this warning, do the following: 1) Pass option use_label_encoder=False when constructing XGBClassifier object; and 2) Encode your labels (y) as integers starting with 0, i.e. 0, 1, 2, ..., [num_class - 1].\n",
      "  warnings.warn(label_encoder_deprecation_msg, UserWarning)\n",
      "\n",
      "C:\\Users\\hp\\Anaconda3\\lib\\site-packages\\xgboost\\sklearn.py:1224: UserWarning: The use of label encoder in XGBClassifier is deprecated and will be removed in a future release. To remove this warning, do the following: 1) Pass option use_label_encoder=False when constructing XGBClassifier object; and 2) Encode your labels (y) as integers starting with 0, i.e. 0, 1, 2, ..., [num_class - 1].\n",
      "  warnings.warn(label_encoder_deprecation_msg, UserWarning)\n",
      "\n"
     ]
    },
    {
     "name": "stdout",
     "output_type": "stream",
     "text": [
      "[2]\tvalidation_0-merror:0.29529\tvalidation_1-merror:0.31021                                                            \n",
      "[4]\tvalidation_0-merror:0.29529\tvalidation_1-merror:0.31021                                                            \n",
      "[6]\tvalidation_0-merror:0.29529\tvalidation_1-merror:0.31021                                                            \n",
      "[8]\tvalidation_0-merror:0.29529\tvalidation_1-merror:0.31021                                                            \n",
      "[10]\tvalidation_0-merror:0.29529\tvalidation_1-merror:0.31021                                                           \n",
      "SCORE:                                                                                                                 \n",
      "0.6897880539499036                                                                                                     \n",
      "[0]\tvalidation_0-merror:0.29529\tvalidation_1-merror:0.31021                                                            \n",
      "[2]\tvalidation_0-merror:0.29529\tvalidation_1-merror:0.31021                                                            \n",
      "[4]\tvalidation_0-merror:0.29529\tvalidation_1-merror:0.31021                                                            \n",
      "[6]\tvalidation_0-merror:0.29529\tvalidation_1-merror:0.31021                                                            \n",
      "[8]\tvalidation_0-merror:0.29529\tvalidation_1-merror:0.31021                                                            \n",
      "[10]\tvalidation_0-merror:0.29529\tvalidation_1-merror:0.31021                                                           \n",
      "SCORE:                                                                                                                 \n",
      "0.6897880539499036                                                                                                     \n",
      "[0]\tvalidation_0-merror:0.29529\tvalidation_1-merror:0.31021                                                            \n",
      "[2]\tvalidation_0-merror:0.29529\tvalidation_1-merror:0.31021                                                            \n",
      "[4]\tvalidation_0-merror:0.29529\tvalidation_1-merror:0.31021                                                            \n",
      " 57%|██████████████████████████▏                   | 57/100 [00:08<00:07,  5.99trial/s, best loss: -0.6897880539499036]"
     ]
    },
    {
     "name": "stderr",
     "output_type": "stream",
     "text": [
      "C:\\Users\\hp\\Anaconda3\\lib\\site-packages\\xgboost\\sklearn.py:1224: UserWarning: The use of label encoder in XGBClassifier is deprecated and will be removed in a future release. To remove this warning, do the following: 1) Pass option use_label_encoder=False when constructing XGBClassifier object; and 2) Encode your labels (y) as integers starting with 0, i.e. 0, 1, 2, ..., [num_class - 1].\n",
      "  warnings.warn(label_encoder_deprecation_msg, UserWarning)\n",
      "\n",
      "C:\\Users\\hp\\Anaconda3\\lib\\site-packages\\xgboost\\sklearn.py:1224: UserWarning: The use of label encoder in XGBClassifier is deprecated and will be removed in a future release. To remove this warning, do the following: 1) Pass option use_label_encoder=False when constructing XGBClassifier object; and 2) Encode your labels (y) as integers starting with 0, i.e. 0, 1, 2, ..., [num_class - 1].\n",
      "  warnings.warn(label_encoder_deprecation_msg, UserWarning)\n",
      "\n"
     ]
    },
    {
     "name": "stdout",
     "output_type": "stream",
     "text": [
      "[6]\tvalidation_0-merror:0.29529\tvalidation_1-merror:0.31021                                                            \n",
      "[8]\tvalidation_0-merror:0.29529\tvalidation_1-merror:0.31021                                                            \n",
      "[10]\tvalidation_0-merror:0.29529\tvalidation_1-merror:0.31021                                                           \n",
      "SCORE:                                                                                                                 \n",
      "0.6897880539499036                                                                                                     \n",
      "[0]\tvalidation_0-merror:0.29529\tvalidation_1-merror:0.31021                                                            \n",
      "[2]\tvalidation_0-merror:0.29529\tvalidation_1-merror:0.31021                                                            \n",
      "[4]\tvalidation_0-merror:0.29529\tvalidation_1-merror:0.31021                                                            \n",
      "[6]\tvalidation_0-merror:0.29529\tvalidation_1-merror:0.31021                                                            \n",
      "[8]\tvalidation_0-merror:0.29529\tvalidation_1-merror:0.31021                                                            \n",
      "[9]\tvalidation_0-merror:0.29529\tvalidation_1-merror:0.31021                                                            \n",
      "SCORE:                                                                                                                 \n",
      "                                                                                                                       \r"
     ]
    },
    {
     "name": "stderr",
     "output_type": "stream",
     "text": [
      "C:\\Users\\hp\\Anaconda3\\lib\\site-packages\\xgboost\\sklearn.py:1224: UserWarning: The use of label encoder in XGBClassifier is deprecated and will be removed in a future release. To remove this warning, do the following: 1) Pass option use_label_encoder=False when constructing XGBClassifier object; and 2) Encode your labels (y) as integers starting with 0, i.e. 0, 1, 2, ..., [num_class - 1].\n",
      "  warnings.warn(label_encoder_deprecation_msg, UserWarning)\n",
      "\n"
     ]
    },
    {
     "name": "stdout",
     "output_type": "stream",
     "text": [
      "0.6897880539499036\n",
      "[0]\tvalidation_0-merror:0.29529\tvalidation_1-merror:0.31021                                                            \n",
      "[2]\tvalidation_0-merror:0.29529\tvalidation_1-merror:0.31021                                                            \n",
      " 59%|███████████████████████████▏                  | 59/100 [00:09<00:07,  5.25trial/s, best loss: -0.6897880539499036]"
     ]
    },
    {
     "name": "stderr",
     "output_type": "stream",
     "text": [
      "C:\\Users\\hp\\Anaconda3\\lib\\site-packages\\xgboost\\sklearn.py:1224: UserWarning: The use of label encoder in XGBClassifier is deprecated and will be removed in a future release. To remove this warning, do the following: 1) Pass option use_label_encoder=False when constructing XGBClassifier object; and 2) Encode your labels (y) as integers starting with 0, i.e. 0, 1, 2, ..., [num_class - 1].\n",
      "  warnings.warn(label_encoder_deprecation_msg, UserWarning)\n",
      "\n"
     ]
    },
    {
     "name": "stdout",
     "output_type": "stream",
     "text": [
      "[4]\tvalidation_0-merror:0.29529\tvalidation_1-merror:0.31021                                                            \n",
      "[6]\tvalidation_0-merror:0.29529\tvalidation_1-merror:0.31021                                                            \n",
      "[8]\tvalidation_0-merror:0.29529\tvalidation_1-merror:0.31021                                                            \n",
      "[10]\tvalidation_0-merror:0.29529\tvalidation_1-merror:0.31021                                                           \n",
      "SCORE:                                                                                                                 \n",
      "0.6897880539499036                                                                                                     \n",
      "[0]\tvalidation_0-merror:0.29529\tvalidation_1-merror:0.31021                                                            \n",
      "[2]\tvalidation_0-merror:0.29529\tvalidation_1-merror:0.31021                                                            \n",
      "[4]\tvalidation_0-merror:0.29529\tvalidation_1-merror:0.31021                                                            \n",
      "[6]\tvalidation_0-merror:0.29529\tvalidation_1-merror:0.31021                                                            \n",
      "[8]\tvalidation_0-merror:0.29529\tvalidation_1-merror:0.31021                                                            \n",
      "[9]\tvalidation_0-merror:0.29529\tvalidation_1-merror:0.31021                                                            \n",
      "SCORE:                                                                                                                 \n",
      "0.6897880539499036                                                                                                     \n",
      " 61%|████████████████████████████                  | 61/100 [00:09<00:10,  3.67trial/s, best loss: -0.6897880539499036]"
     ]
    },
    {
     "name": "stderr",
     "output_type": "stream",
     "text": [
      "C:\\Users\\hp\\Anaconda3\\lib\\site-packages\\xgboost\\sklearn.py:1224: UserWarning: The use of label encoder in XGBClassifier is deprecated and will be removed in a future release. To remove this warning, do the following: 1) Pass option use_label_encoder=False when constructing XGBClassifier object; and 2) Encode your labels (y) as integers starting with 0, i.e. 0, 1, 2, ..., [num_class - 1].\n",
      "  warnings.warn(label_encoder_deprecation_msg, UserWarning)\n",
      "\n",
      "C:\\Users\\hp\\Anaconda3\\lib\\site-packages\\xgboost\\sklearn.py:1224: UserWarning: The use of label encoder in XGBClassifier is deprecated and will be removed in a future release. To remove this warning, do the following: 1) Pass option use_label_encoder=False when constructing XGBClassifier object; and 2) Encode your labels (y) as integers starting with 0, i.e. 0, 1, 2, ..., [num_class - 1].\n",
      "  warnings.warn(label_encoder_deprecation_msg, UserWarning)\n"
     ]
    },
    {
     "name": "stdout",
     "output_type": "stream",
     "text": [
      "[0]\tvalidation_0-merror:0.29529\tvalidation_1-merror:0.31021                                                            \n",
      "[2]\tvalidation_0-merror:0.29529\tvalidation_1-merror:0.31021                                                            \n",
      "[4]\tvalidation_0-merror:0.29529\tvalidation_1-merror:0.31021                                                            \n",
      "[6]\tvalidation_0-merror:0.29529\tvalidation_1-merror:0.31021                                                            \n",
      "[8]\tvalidation_0-merror:0.29529\tvalidation_1-merror:0.31021                                                            \n",
      "[10]\tvalidation_0-merror:0.29529\tvalidation_1-merror:0.31021                                                           \n",
      " 61%|████████████████████████████                  | 61/100 [00:09<00:10,  3.67trial/s, best loss: -0.6897880539499036]"
     ]
    },
    {
     "name": "stderr",
     "output_type": "stream",
     "text": [
      "\n"
     ]
    },
    {
     "name": "stdout",
     "output_type": "stream",
     "text": [
      "SCORE:                                                                                                                 \n",
      "0.6897880539499036                                                                                                     \n",
      "[0]\tvalidation_0-merror:0.29529\tvalidation_1-merror:0.31021                                                            \n",
      "[2]\tvalidation_0-merror:0.29529\tvalidation_1-merror:0.31021                                                            \n",
      "[4]\tvalidation_0-merror:0.29529\tvalidation_1-merror:0.31021                                                            \n",
      "[6]\tvalidation_0-merror:0.29529\tvalidation_1-merror:0.31021                                                            \n",
      "[8]\tvalidation_0-merror:0.29529\tvalidation_1-merror:0.31021                                                            \n",
      "[9]\tvalidation_0-merror:0.29529\tvalidation_1-merror:0.31021                                                            \n",
      "SCORE:                                                                                                                 \n",
      "0.6897880539499036                                                                                                     \n",
      " 63%|████████████████████████████▉                 | 63/100 [00:10<00:10,  3.46trial/s, best loss: -0.6897880539499036]"
     ]
    },
    {
     "name": "stderr",
     "output_type": "stream",
     "text": [
      "C:\\Users\\hp\\Anaconda3\\lib\\site-packages\\xgboost\\sklearn.py:1224: UserWarning: The use of label encoder in XGBClassifier is deprecated and will be removed in a future release. To remove this warning, do the following: 1) Pass option use_label_encoder=False when constructing XGBClassifier object; and 2) Encode your labels (y) as integers starting with 0, i.e. 0, 1, 2, ..., [num_class - 1].\n",
      "  warnings.warn(label_encoder_deprecation_msg, UserWarning)\n",
      "\n"
     ]
    },
    {
     "name": "stdout",
     "output_type": "stream",
     "text": [
      "[0]\tvalidation_0-merror:0.29529\tvalidation_1-merror:0.31021                                                            \n",
      "[2]\tvalidation_0-merror:0.29529\tvalidation_1-merror:0.31021                                                            \n",
      "[4]\tvalidation_0-merror:0.29529\tvalidation_1-merror:0.31021                                                            \n",
      "[6]\tvalidation_0-merror:0.29529\tvalidation_1-merror:0.31021                                                            \n",
      "[8]\tvalidation_0-merror:0.29529\tvalidation_1-merror:0.31021                                                            \n",
      "[9]\tvalidation_0-merror:0.29529\tvalidation_1-merror:0.31021                                                            \n",
      "SCORE:                                                                                                                 \n",
      "0.6897880539499036                                                                                                     \n",
      " 64%|█████████████████████████████▍                | 64/100 [00:10<00:09,  3.69trial/s, best loss: -0.6897880539499036]"
     ]
    },
    {
     "name": "stderr",
     "output_type": "stream",
     "text": [
      "C:\\Users\\hp\\Anaconda3\\lib\\site-packages\\xgboost\\sklearn.py:1224: UserWarning: The use of label encoder in XGBClassifier is deprecated and will be removed in a future release. To remove this warning, do the following: 1) Pass option use_label_encoder=False when constructing XGBClassifier object; and 2) Encode your labels (y) as integers starting with 0, i.e. 0, 1, 2, ..., [num_class - 1].\n",
      "  warnings.warn(label_encoder_deprecation_msg, UserWarning)\n",
      "\n"
     ]
    },
    {
     "name": "stdout",
     "output_type": "stream",
     "text": [
      "[0]\tvalidation_0-merror:0.29529\tvalidation_1-merror:0.31021                                                            \n",
      "[2]\tvalidation_0-merror:0.29529\tvalidation_1-merror:0.31021                                                            \n",
      "[4]\tvalidation_0-merror:0.29529\tvalidation_1-merror:0.31021                                                            \n",
      "[6]\tvalidation_0-merror:0.29529\tvalidation_1-merror:0.31021                                                            \n",
      " 64%|█████████████████████████████▍                | 64/100 [00:10<00:09,  3.69trial/s, best loss: -0.6897880539499036]"
     ]
    },
    {
     "name": "stderr",
     "output_type": "stream",
     "text": [
      "C:\\Users\\hp\\Anaconda3\\lib\\site-packages\\xgboost\\sklearn.py:1224: UserWarning: The use of label encoder in XGBClassifier is deprecated and will be removed in a future release. To remove this warning, do the following: 1) Pass option use_label_encoder=False when constructing XGBClassifier object; and 2) Encode your labels (y) as integers starting with 0, i.e. 0, 1, 2, ..., [num_class - 1].\n",
      "  warnings.warn(label_encoder_deprecation_msg, UserWarning)\n",
      "\n"
     ]
    },
    {
     "name": "stdout",
     "output_type": "stream",
     "text": [
      "[8]\tvalidation_0-merror:0.29529\tvalidation_1-merror:0.31021                                                            \n",
      "[10]\tvalidation_0-merror:0.29529\tvalidation_1-merror:0.31021                                                           \n",
      "SCORE:                                                                                                                 \n",
      "0.6897880539499036                                                                                                     \n",
      "[0]\tvalidation_0-merror:0.29529\tvalidation_1-merror:0.31021                                                            \n",
      "[2]\tvalidation_0-merror:0.29529\tvalidation_1-merror:0.31021                                                            \n",
      "[4]\tvalidation_0-merror:0.29529\tvalidation_1-merror:0.31021                                                            \n",
      "[6]\tvalidation_0-merror:0.29529\tvalidation_1-merror:0.31021                                                            \n",
      "[8]\tvalidation_0-merror:0.29529\tvalidation_1-merror:0.31021                                                            \n",
      "[10]\tvalidation_0-merror:0.29529\tvalidation_1-merror:0.31021                                                           \n",
      "SCORE:                                                                                                                 \n",
      "0.6897880539499036                                                                                                     \n",
      "[0]\tvalidation_0-merror:0.29529\tvalidation_1-merror:0.31021                                                            \n",
      " 66%|██████████████████████████████▎               | 66/100 [00:11<00:08,  3.78trial/s, best loss: -0.6897880539499036]"
     ]
    },
    {
     "name": "stderr",
     "output_type": "stream",
     "text": [
      "C:\\Users\\hp\\Anaconda3\\lib\\site-packages\\xgboost\\sklearn.py:1224: UserWarning: The use of label encoder in XGBClassifier is deprecated and will be removed in a future release. To remove this warning, do the following: 1) Pass option use_label_encoder=False when constructing XGBClassifier object; and 2) Encode your labels (y) as integers starting with 0, i.e. 0, 1, 2, ..., [num_class - 1].\n",
      "  warnings.warn(label_encoder_deprecation_msg, UserWarning)\n",
      "\n",
      "C:\\Users\\hp\\Anaconda3\\lib\\site-packages\\xgboost\\sklearn.py:1224: UserWarning: The use of label encoder in XGBClassifier is deprecated and will be removed in a future release. To remove this warning, do the following: 1) Pass option use_label_encoder=False when constructing XGBClassifier object; and 2) Encode your labels (y) as integers starting with 0, i.e. 0, 1, 2, ..., [num_class - 1].\n",
      "  warnings.warn(label_encoder_deprecation_msg, UserWarning)\n",
      "\n"
     ]
    },
    {
     "name": "stdout",
     "output_type": "stream",
     "text": [
      "[2]\tvalidation_0-merror:0.29529\tvalidation_1-merror:0.31021                                                            \n",
      "[4]\tvalidation_0-merror:0.29529\tvalidation_1-merror:0.31021                                                            \n",
      "[6]\tvalidation_0-merror:0.29529\tvalidation_1-merror:0.31021                                                            \n",
      "[8]\tvalidation_0-merror:0.29529\tvalidation_1-merror:0.31021                                                            \n",
      "[10]\tvalidation_0-merror:0.29529\tvalidation_1-merror:0.31021                                                           \n",
      "SCORE:                                                                                                                 \n",
      "0.6897880539499036                                                                                                     \n",
      "[0]\tvalidation_0-merror:0.29529\tvalidation_1-merror:0.31021                                                            \n",
      "[2]\tvalidation_0-merror:0.29529\tvalidation_1-merror:0.31021                                                            \n",
      "[4]\tvalidation_0-merror:0.29529\tvalidation_1-merror:0.31021                                                            \n",
      "[6]\tvalidation_0-merror:0.29529\tvalidation_1-merror:0.31021                                                            \n",
      "[8]\tvalidation_0-merror:0.29529\tvalidation_1-merror:0.31021                                                            \n",
      "[9]\tvalidation_0-merror:0.29529\tvalidation_1-merror:0.31021                                                            \n",
      "SCORE:                                                                                                                 \n",
      "0.6897880539499036                                                                                                     \n",
      "[0]\tvalidation_0-merror:0.29529\tvalidation_1-merror:0.31021                                                            \n",
      "[2]\tvalidation_0-merror:0.29529\tvalidation_1-merror:0.31021                                                            \n",
      "                                                                                                                       \r"
     ]
    },
    {
     "name": "stderr",
     "output_type": "stream",
     "text": [
      "C:\\Users\\hp\\Anaconda3\\lib\\site-packages\\xgboost\\sklearn.py:1224: UserWarning: The use of label encoder in XGBClassifier is deprecated and will be removed in a future release. To remove this warning, do the following: 1) Pass option use_label_encoder=False when constructing XGBClassifier object; and 2) Encode your labels (y) as integers starting with 0, i.e. 0, 1, 2, ..., [num_class - 1].\n",
      "  warnings.warn(label_encoder_deprecation_msg, UserWarning)\n",
      "\n",
      "C:\\Users\\hp\\Anaconda3\\lib\\site-packages\\xgboost\\sklearn.py:1224: UserWarning: The use of label encoder in XGBClassifier is deprecated and will be removed in a future release. To remove this warning, do the following: 1) Pass option use_label_encoder=False when constructing XGBClassifier object; and 2) Encode your labels (y) as integers starting with 0, i.e. 0, 1, 2, ..., [num_class - 1].\n",
      "  warnings.warn(label_encoder_deprecation_msg, UserWarning)\n",
      "\n"
     ]
    },
    {
     "name": "stdout",
     "output_type": "stream",
     "text": [
      "[4]\tvalidation_0-merror:0.29529\tvalidation_1-merror:0.31021\n",
      "[6]\tvalidation_0-merror:0.29529\tvalidation_1-merror:0.31021                                                            \n",
      "[8]\tvalidation_0-merror:0.29529\tvalidation_1-merror:0.31021                                                            \n",
      "[9]\tvalidation_0-merror:0.29529\tvalidation_1-merror:0.31021                                                            \n",
      "SCORE:                                                                                                                 \n",
      "0.6897880539499036                                                                                                     \n",
      "[0]\tvalidation_0-merror:0.29529\tvalidation_1-merror:0.31021                                                            \n",
      "[2]\tvalidation_0-merror:0.29529\tvalidation_1-merror:0.31021                                                            \n",
      "[4]\tvalidation_0-merror:0.29529\tvalidation_1-merror:0.31021                                                            \n",
      "[6]\tvalidation_0-merror:0.29529\tvalidation_1-merror:0.31021                                                            \n",
      "[8]\tvalidation_0-merror:0.29529\tvalidation_1-merror:0.31021                                                            \n",
      "[10]\tvalidation_0-merror:0.29529\tvalidation_1-merror:0.31021                                                           \n",
      "SCORE:                                                                                                                 \n",
      "0.6897880539499036                                                                                                     \n",
      "[0]\tvalidation_0-merror:0.29529\tvalidation_1-merror:0.31021                                                            \n",
      "[2]\tvalidation_0-merror:0.29529\tvalidation_1-merror:0.31021                                                            \n",
      " 70%|████████████████████████████████▏             | 70/100 [00:11<00:05,  5.57trial/s, best loss: -0.6897880539499036]"
     ]
    },
    {
     "name": "stderr",
     "output_type": "stream",
     "text": [
      "C:\\Users\\hp\\Anaconda3\\lib\\site-packages\\xgboost\\sklearn.py:1224: UserWarning: The use of label encoder in XGBClassifier is deprecated and will be removed in a future release. To remove this warning, do the following: 1) Pass option use_label_encoder=False when constructing XGBClassifier object; and 2) Encode your labels (y) as integers starting with 0, i.e. 0, 1, 2, ..., [num_class - 1].\n",
      "  warnings.warn(label_encoder_deprecation_msg, UserWarning)\n",
      "\n",
      "C:\\Users\\hp\\Anaconda3\\lib\\site-packages\\xgboost\\sklearn.py:1224: UserWarning: The use of label encoder in XGBClassifier is deprecated and will be removed in a future release. To remove this warning, do the following: 1) Pass option use_label_encoder=False when constructing XGBClassifier object; and 2) Encode your labels (y) as integers starting with 0, i.e. 0, 1, 2, ..., [num_class - 1].\n",
      "  warnings.warn(label_encoder_deprecation_msg, UserWarning)\n",
      "\n"
     ]
    },
    {
     "name": "stdout",
     "output_type": "stream",
     "text": [
      "[4]\tvalidation_0-merror:0.29529\tvalidation_1-merror:0.31021                                                            \n",
      "[6]\tvalidation_0-merror:0.29529\tvalidation_1-merror:0.31021                                                            \n",
      "[8]\tvalidation_0-merror:0.29529\tvalidation_1-merror:0.31021                                                            \n",
      "[10]\tvalidation_0-merror:0.29529\tvalidation_1-merror:0.31021                                                           \n",
      "SCORE:                                                                                                                 \n",
      "0.6897880539499036                                                                                                     \n",
      "[0]\tvalidation_0-merror:0.29529\tvalidation_1-merror:0.31021                                                            \n",
      "[2]\tvalidation_0-merror:0.29529\tvalidation_1-merror:0.31021                                                            \n",
      "[4]\tvalidation_0-merror:0.29529\tvalidation_1-merror:0.31021                                                            \n",
      "[6]\tvalidation_0-merror:0.29529\tvalidation_1-merror:0.31021                                                            \n",
      "[8]\tvalidation_0-merror:0.29529\tvalidation_1-merror:0.31021                                                            \n",
      "[10]\tvalidation_0-merror:0.29529\tvalidation_1-merror:0.31021                                                           \n",
      "SCORE:                                                                                                                 \n",
      "0.6897880539499036                                                                                                     \n",
      "[0]\tvalidation_0-merror:0.29529\tvalidation_1-merror:0.31021                                                            \n",
      "[2]\tvalidation_0-merror:0.29529\tvalidation_1-merror:0.31021                                                            \n",
      " 72%|█████████████████████████████████             | 72/100 [00:12<00:04,  6.13trial/s, best loss: -0.6897880539499036]"
     ]
    },
    {
     "name": "stderr",
     "output_type": "stream",
     "text": [
      "C:\\Users\\hp\\Anaconda3\\lib\\site-packages\\xgboost\\sklearn.py:1224: UserWarning: The use of label encoder in XGBClassifier is deprecated and will be removed in a future release. To remove this warning, do the following: 1) Pass option use_label_encoder=False when constructing XGBClassifier object; and 2) Encode your labels (y) as integers starting with 0, i.e. 0, 1, 2, ..., [num_class - 1].\n",
      "  warnings.warn(label_encoder_deprecation_msg, UserWarning)\n",
      "\n",
      "C:\\Users\\hp\\Anaconda3\\lib\\site-packages\\xgboost\\sklearn.py:1224: UserWarning: The use of label encoder in XGBClassifier is deprecated and will be removed in a future release. To remove this warning, do the following: 1) Pass option use_label_encoder=False when constructing XGBClassifier object; and 2) Encode your labels (y) as integers starting with 0, i.e. 0, 1, 2, ..., [num_class - 1].\n",
      "  warnings.warn(label_encoder_deprecation_msg, UserWarning)\n",
      "\n"
     ]
    },
    {
     "name": "stdout",
     "output_type": "stream",
     "text": [
      "[4]\tvalidation_0-merror:0.29529\tvalidation_1-merror:0.31021                                                            \n",
      "[6]\tvalidation_0-merror:0.29529\tvalidation_1-merror:0.31021                                                            \n",
      "[8]\tvalidation_0-merror:0.29529\tvalidation_1-merror:0.31021                                                            \n",
      "[10]\tvalidation_0-merror:0.29529\tvalidation_1-merror:0.31021                                                           \n",
      "SCORE:                                                                                                                 \n",
      "0.6897880539499036                                                                                                     \n",
      "[0]\tvalidation_0-merror:0.29529\tvalidation_1-merror:0.31021                                                            \n",
      "[2]\tvalidation_0-merror:0.29529\tvalidation_1-merror:0.31021                                                            \n",
      "[4]\tvalidation_0-merror:0.29529\tvalidation_1-merror:0.31021                                                            \n",
      "[6]\tvalidation_0-merror:0.29529\tvalidation_1-merror:0.31021                                                            \n",
      "[8]\tvalidation_0-merror:0.29529\tvalidation_1-merror:0.31021                                                            \n",
      "[9]\tvalidation_0-merror:0.29529\tvalidation_1-merror:0.31021                                                            \n",
      "SCORE:                                                                                                                 \n",
      "0.6897880539499036                                                                                                     \n",
      "[0]\tvalidation_0-merror:0.29529\tvalidation_1-merror:0.31021                                                            \n",
      " 74%|██████████████████████████████████            | 74/100 [00:12<00:04,  6.16trial/s, best loss: -0.6897880539499036]"
     ]
    },
    {
     "name": "stderr",
     "output_type": "stream",
     "text": [
      "C:\\Users\\hp\\Anaconda3\\lib\\site-packages\\xgboost\\sklearn.py:1224: UserWarning: The use of label encoder in XGBClassifier is deprecated and will be removed in a future release. To remove this warning, do the following: 1) Pass option use_label_encoder=False when constructing XGBClassifier object; and 2) Encode your labels (y) as integers starting with 0, i.e. 0, 1, 2, ..., [num_class - 1].\n",
      "  warnings.warn(label_encoder_deprecation_msg, UserWarning)\n",
      "\n",
      "C:\\Users\\hp\\Anaconda3\\lib\\site-packages\\xgboost\\sklearn.py:1224: UserWarning: The use of label encoder in XGBClassifier is deprecated and will be removed in a future release. To remove this warning, do the following: 1) Pass option use_label_encoder=False when constructing XGBClassifier object; and 2) Encode your labels (y) as integers starting with 0, i.e. 0, 1, 2, ..., [num_class - 1].\n",
      "  warnings.warn(label_encoder_deprecation_msg, UserWarning)\n",
      "\n"
     ]
    },
    {
     "name": "stdout",
     "output_type": "stream",
     "text": [
      "[2]\tvalidation_0-merror:0.29529\tvalidation_1-merror:0.31021                                                            \n",
      "[4]\tvalidation_0-merror:0.29529\tvalidation_1-merror:0.31021                                                            \n",
      "[6]\tvalidation_0-merror:0.29529\tvalidation_1-merror:0.31021                                                            \n",
      "[8]\tvalidation_0-merror:0.29529\tvalidation_1-merror:0.31021                                                            \n",
      "[10]\tvalidation_0-merror:0.29529\tvalidation_1-merror:0.31021                                                           \n",
      "SCORE:                                                                                                                 \n",
      "0.6897880539499036                                                                                                     \n",
      "[0]\tvalidation_0-merror:0.29529\tvalidation_1-merror:0.31021                                                            \n",
      "[2]\tvalidation_0-merror:0.29529\tvalidation_1-merror:0.31021                                                            \n",
      "[4]\tvalidation_0-merror:0.29529\tvalidation_1-merror:0.31021                                                            \n",
      "[6]\tvalidation_0-merror:0.29529\tvalidation_1-merror:0.31021                                                            \n",
      "[8]\tvalidation_0-merror:0.29529\tvalidation_1-merror:0.31021                                                            \n",
      "[9]\tvalidation_0-merror:0.29529\tvalidation_1-merror:0.31021                                                            \n",
      "SCORE:                                                                                                                 \n",
      "0.6897880539499036                                                                                                     \n",
      "[0]\tvalidation_0-merror:0.29529\tvalidation_1-merror:0.31021                                                            \n",
      "                                                                                                                       \r"
     ]
    },
    {
     "name": "stderr",
     "output_type": "stream",
     "text": [
      "C:\\Users\\hp\\Anaconda3\\lib\\site-packages\\xgboost\\sklearn.py:1224: UserWarning: The use of label encoder in XGBClassifier is deprecated and will be removed in a future release. To remove this warning, do the following: 1) Pass option use_label_encoder=False when constructing XGBClassifier object; and 2) Encode your labels (y) as integers starting with 0, i.e. 0, 1, 2, ..., [num_class - 1].\n",
      "  warnings.warn(label_encoder_deprecation_msg, UserWarning)\n",
      "\n",
      "C:\\Users\\hp\\Anaconda3\\lib\\site-packages\\xgboost\\sklearn.py:1224: UserWarning: The use of label encoder in XGBClassifier is deprecated and will be removed in a future release. To remove this warning, do the following: 1) Pass option use_label_encoder=False when constructing XGBClassifier object; and 2) Encode your labels (y) as integers starting with 0, i.e. 0, 1, 2, ..., [num_class - 1].\n",
      "  warnings.warn(label_encoder_deprecation_msg, UserWarning)\n",
      "\n"
     ]
    },
    {
     "name": "stdout",
     "output_type": "stream",
     "text": [
      "[2]\tvalidation_0-merror:0.29529\tvalidation_1-merror:0.31021\n",
      "[4]\tvalidation_0-merror:0.29529\tvalidation_1-merror:0.31021                                                            \n",
      "[6]\tvalidation_0-merror:0.29529\tvalidation_1-merror:0.31021                                                            \n",
      "[8]\tvalidation_0-merror:0.29529\tvalidation_1-merror:0.31021                                                            \n",
      "[10]\tvalidation_0-merror:0.29529\tvalidation_1-merror:0.31021                                                           \n",
      "SCORE:                                                                                                                 \n",
      "0.6897880539499036                                                                                                     \n",
      "[0]\tvalidation_0-merror:0.29529\tvalidation_1-merror:0.31021                                                            \n",
      "[2]\tvalidation_0-merror:0.29529\tvalidation_1-merror:0.31021                                                            \n",
      "[4]\tvalidation_0-merror:0.29529\tvalidation_1-merror:0.31021                                                            \n",
      "[6]\tvalidation_0-merror:0.29529\tvalidation_1-merror:0.31021                                                            \n",
      "[8]\tvalidation_0-merror:0.29529\tvalidation_1-merror:0.31021                                                            \n",
      "[10]\tvalidation_0-merror:0.29529\tvalidation_1-merror:0.31021                                                           \n",
      "SCORE:                                                                                                                 \n",
      "0.6897880539499036                                                                                                     \n",
      "[0]\tvalidation_0-merror:0.29529\tvalidation_1-merror:0.31021                                                            \n",
      " 78%|███████████████████████████████████▉          | 78/100 [00:13<00:03,  6.02trial/s, best loss: -0.6897880539499036]"
     ]
    },
    {
     "name": "stderr",
     "output_type": "stream",
     "text": [
      "C:\\Users\\hp\\Anaconda3\\lib\\site-packages\\xgboost\\sklearn.py:1224: UserWarning: The use of label encoder in XGBClassifier is deprecated and will be removed in a future release. To remove this warning, do the following: 1) Pass option use_label_encoder=False when constructing XGBClassifier object; and 2) Encode your labels (y) as integers starting with 0, i.e. 0, 1, 2, ..., [num_class - 1].\n",
      "  warnings.warn(label_encoder_deprecation_msg, UserWarning)\n",
      "\n",
      "C:\\Users\\hp\\Anaconda3\\lib\\site-packages\\xgboost\\sklearn.py:1224: UserWarning: The use of label encoder in XGBClassifier is deprecated and will be removed in a future release. To remove this warning, do the following: 1) Pass option use_label_encoder=False when constructing XGBClassifier object; and 2) Encode your labels (y) as integers starting with 0, i.e. 0, 1, 2, ..., [num_class - 1].\n",
      "  warnings.warn(label_encoder_deprecation_msg, UserWarning)\n",
      "\n"
     ]
    },
    {
     "name": "stdout",
     "output_type": "stream",
     "text": [
      "[2]\tvalidation_0-merror:0.29529\tvalidation_1-merror:0.31021                                                            \n",
      "[4]\tvalidation_0-merror:0.29529\tvalidation_1-merror:0.31021                                                            \n",
      "[6]\tvalidation_0-merror:0.29529\tvalidation_1-merror:0.31021                                                            \n",
      "[8]\tvalidation_0-merror:0.29529\tvalidation_1-merror:0.31021                                                            \n",
      "[9]\tvalidation_0-merror:0.29529\tvalidation_1-merror:0.31021                                                            \n",
      "SCORE:                                                                                                                 \n",
      "0.6897880539499036                                                                                                     \n",
      "[0]\tvalidation_0-merror:0.29529\tvalidation_1-merror:0.31021                                                            \n",
      "[2]\tvalidation_0-merror:0.29529\tvalidation_1-merror:0.31021                                                            \n",
      "[4]\tvalidation_0-merror:0.29529\tvalidation_1-merror:0.31021                                                            \n",
      "[6]\tvalidation_0-merror:0.29529\tvalidation_1-merror:0.31021                                                            \n",
      " 79%|████████████████████████████████████▎         | 79/100 [00:13<00:03,  5.91trial/s, best loss: -0.6897880539499036]"
     ]
    },
    {
     "name": "stderr",
     "output_type": "stream",
     "text": [
      "C:\\Users\\hp\\Anaconda3\\lib\\site-packages\\xgboost\\sklearn.py:1224: UserWarning: The use of label encoder in XGBClassifier is deprecated and will be removed in a future release. To remove this warning, do the following: 1) Pass option use_label_encoder=False when constructing XGBClassifier object; and 2) Encode your labels (y) as integers starting with 0, i.e. 0, 1, 2, ..., [num_class - 1].\n",
      "  warnings.warn(label_encoder_deprecation_msg, UserWarning)\n",
      "\n"
     ]
    },
    {
     "name": "stdout",
     "output_type": "stream",
     "text": [
      "[8]\tvalidation_0-merror:0.29529\tvalidation_1-merror:0.31021                                                            \n",
      "[10]\tvalidation_0-merror:0.29529\tvalidation_1-merror:0.31021                                                           \n",
      "SCORE:                                                                                                                 \n",
      "0.6897880539499036                                                                                                     \n",
      "[0]\tvalidation_0-merror:0.29529\tvalidation_1-merror:0.31021                                                            \n",
      "[2]\tvalidation_0-merror:0.29529\tvalidation_1-merror:0.31021                                                            \n",
      "[4]\tvalidation_0-merror:0.29529\tvalidation_1-merror:0.31021                                                            \n",
      "[6]\tvalidation_0-merror:0.29529\tvalidation_1-merror:0.31021                                                            \n",
      "[8]\tvalidation_0-merror:0.29529\tvalidation_1-merror:0.31021                                                            \n",
      "[10]\tvalidation_0-merror:0.29529\tvalidation_1-merror:0.31021                                                           \n",
      "SCORE:                                                                                                                 \n",
      "0.6897880539499036                                                                                                     \n",
      " 81%|█████████████████████████████████████▎        | 81/100 [00:13<00:04,  4.14trial/s, best loss: -0.6897880539499036]"
     ]
    },
    {
     "name": "stderr",
     "output_type": "stream",
     "text": [
      "C:\\Users\\hp\\Anaconda3\\lib\\site-packages\\xgboost\\sklearn.py:1224: UserWarning: The use of label encoder in XGBClassifier is deprecated and will be removed in a future release. To remove this warning, do the following: 1) Pass option use_label_encoder=False when constructing XGBClassifier object; and 2) Encode your labels (y) as integers starting with 0, i.e. 0, 1, 2, ..., [num_class - 1].\n",
      "  warnings.warn(label_encoder_deprecation_msg, UserWarning)\n",
      "\n",
      "C:\\Users\\hp\\Anaconda3\\lib\\site-packages\\xgboost\\sklearn.py:1224: UserWarning: The use of label encoder in XGBClassifier is deprecated and will be removed in a future release. To remove this warning, do the following: 1) Pass option use_label_encoder=False when constructing XGBClassifier object; and 2) Encode your labels (y) as integers starting with 0, i.e. 0, 1, 2, ..., [num_class - 1].\n",
      "  warnings.warn(label_encoder_deprecation_msg, UserWarning)\n",
      "\n"
     ]
    },
    {
     "name": "stdout",
     "output_type": "stream",
     "text": [
      "[0]\tvalidation_0-merror:0.29529\tvalidation_1-merror:0.31021                                                            \n",
      "[2]\tvalidation_0-merror:0.29529\tvalidation_1-merror:0.31021                                                            \n",
      "[4]\tvalidation_0-merror:0.29529\tvalidation_1-merror:0.31021                                                            \n",
      "[6]\tvalidation_0-merror:0.29529\tvalidation_1-merror:0.31021                                                            \n",
      "[8]\tvalidation_0-merror:0.29529\tvalidation_1-merror:0.31021                                                            \n",
      "[9]\tvalidation_0-merror:0.29529\tvalidation_1-merror:0.31021                                                            \n",
      "SCORE:                                                                                                                 \n",
      "0.6897880539499036                                                                                                     \n",
      "[0]\tvalidation_0-merror:0.29529\tvalidation_1-merror:0.31021                                                            \n",
      "[2]\tvalidation_0-merror:0.29529\tvalidation_1-merror:0.31021                                                            \n",
      "[4]\tvalidation_0-merror:0.29529\tvalidation_1-merror:0.31021                                                            \n",
      "[6]\tvalidation_0-merror:0.29529\tvalidation_1-merror:0.31021                                                            \n",
      "[8]\tvalidation_0-merror:0.29529\tvalidation_1-merror:0.31021                                                            \n",
      "[10]\tvalidation_0-merror:0.29529\tvalidation_1-merror:0.31021                                                           \n",
      "SCORE:                                                                                                                 \n",
      "0.6897880539499036                                                                                                     \n",
      " 83%|██████████████████████████████████████▏       | 83/100 [00:14<00:04,  3.94trial/s, best loss: -0.6897880539499036]"
     ]
    },
    {
     "name": "stderr",
     "output_type": "stream",
     "text": [
      "C:\\Users\\hp\\Anaconda3\\lib\\site-packages\\xgboost\\sklearn.py:1224: UserWarning: The use of label encoder in XGBClassifier is deprecated and will be removed in a future release. To remove this warning, do the following: 1) Pass option use_label_encoder=False when constructing XGBClassifier object; and 2) Encode your labels (y) as integers starting with 0, i.e. 0, 1, 2, ..., [num_class - 1].\n",
      "  warnings.warn(label_encoder_deprecation_msg, UserWarning)\n",
      "\n"
     ]
    },
    {
     "name": "stdout",
     "output_type": "stream",
     "text": [
      "[0]\tvalidation_0-merror:0.29529\tvalidation_1-merror:0.31021                                                            \n",
      "[2]\tvalidation_0-merror:0.29529\tvalidation_1-merror:0.31021                                                            \n",
      "[4]\tvalidation_0-merror:0.29529\tvalidation_1-merror:0.31021                                                            \n",
      "[6]\tvalidation_0-merror:0.29529\tvalidation_1-merror:0.31021                                                            \n",
      "[8]\tvalidation_0-merror:0.29529\tvalidation_1-merror:0.31021                                                            \n",
      "[10]\tvalidation_0-merror:0.29529\tvalidation_1-merror:0.31021                                                           \n",
      " 83%|██████████████████████████████████████▏       | 83/100 [00:14<00:04,  3.94trial/s, best loss: -0.6897880539499036]"
     ]
    },
    {
     "name": "stderr",
     "output_type": "stream",
     "text": [
      "C:\\Users\\hp\\Anaconda3\\lib\\site-packages\\xgboost\\sklearn.py:1224: UserWarning: The use of label encoder in XGBClassifier is deprecated and will be removed in a future release. To remove this warning, do the following: 1) Pass option use_label_encoder=False when constructing XGBClassifier object; and 2) Encode your labels (y) as integers starting with 0, i.e. 0, 1, 2, ..., [num_class - 1].\n",
      "  warnings.warn(label_encoder_deprecation_msg, UserWarning)\n",
      "\n"
     ]
    },
    {
     "name": "stdout",
     "output_type": "stream",
     "text": [
      "SCORE:                                                                                                                 \n",
      "0.6897880539499036                                                                                                     \n",
      "[0]\tvalidation_0-merror:0.29529\tvalidation_1-merror:0.31021                                                            \n",
      "[2]\tvalidation_0-merror:0.29529\tvalidation_1-merror:0.31021                                                            \n",
      "[4]\tvalidation_0-merror:0.29529\tvalidation_1-merror:0.31021                                                            \n",
      "[6]\tvalidation_0-merror:0.29529\tvalidation_1-merror:0.31021                                                            \n",
      "[8]\tvalidation_0-merror:0.29529\tvalidation_1-merror:0.31021                                                            \n",
      "[10]\tvalidation_0-merror:0.29529\tvalidation_1-merror:0.31021                                                           \n",
      "SCORE:                                                                                                                 \n",
      "0.6897880539499036                                                                                                     \n",
      " 85%|███████████████████████████████████████       | 85/100 [00:14<00:04,  3.67trial/s, best loss: -0.6897880539499036]"
     ]
    },
    {
     "name": "stderr",
     "output_type": "stream",
     "text": [
      "C:\\Users\\hp\\Anaconda3\\lib\\site-packages\\xgboost\\sklearn.py:1224: UserWarning: The use of label encoder in XGBClassifier is deprecated and will be removed in a future release. To remove this warning, do the following: 1) Pass option use_label_encoder=False when constructing XGBClassifier object; and 2) Encode your labels (y) as integers starting with 0, i.e. 0, 1, 2, ..., [num_class - 1].\n",
      "  warnings.warn(label_encoder_deprecation_msg, UserWarning)\n",
      "\n"
     ]
    },
    {
     "name": "stdout",
     "output_type": "stream",
     "text": [
      "[0]\tvalidation_0-merror:0.29529\tvalidation_1-merror:0.31021                                                            \n",
      "[2]\tvalidation_0-merror:0.29529\tvalidation_1-merror:0.31021                                                            \n",
      "[4]\tvalidation_0-merror:0.29529\tvalidation_1-merror:0.31021                                                            \n",
      "[6]\tvalidation_0-merror:0.29529\tvalidation_1-merror:0.31021                                                            \n",
      "[8]\tvalidation_0-merror:0.29529\tvalidation_1-merror:0.31021                                                            \n",
      "[10]\tvalidation_0-merror:0.29529\tvalidation_1-merror:0.31021                                                           \n",
      "SCORE:                                                                                                                 \n",
      "0.6897880539499036                                                                                                     \n",
      " 86%|███████████████████████████████████████▌      | 86/100 [00:15<00:03,  4.05trial/s, best loss: -0.6897880539499036]"
     ]
    },
    {
     "name": "stderr",
     "output_type": "stream",
     "text": [
      "C:\\Users\\hp\\Anaconda3\\lib\\site-packages\\xgboost\\sklearn.py:1224: UserWarning: The use of label encoder in XGBClassifier is deprecated and will be removed in a future release. To remove this warning, do the following: 1) Pass option use_label_encoder=False when constructing XGBClassifier object; and 2) Encode your labels (y) as integers starting with 0, i.e. 0, 1, 2, ..., [num_class - 1].\n",
      "  warnings.warn(label_encoder_deprecation_msg, UserWarning)\n",
      "\n",
      "C:\\Users\\hp\\Anaconda3\\lib\\site-packages\\xgboost\\sklearn.py:1224: UserWarning: The use of label encoder in XGBClassifier is deprecated and will be removed in a future release. To remove this warning, do the following: 1) Pass option use_label_encoder=False when constructing XGBClassifier object; and 2) Encode your labels (y) as integers starting with 0, i.e. 0, 1, 2, ..., [num_class - 1].\n",
      "  warnings.warn(label_encoder_deprecation_msg, UserWarning)\n",
      "\n"
     ]
    },
    {
     "name": "stdout",
     "output_type": "stream",
     "text": [
      "[0]\tvalidation_0-merror:0.29529\tvalidation_1-merror:0.31021                                                            \n",
      "[2]\tvalidation_0-merror:0.29529\tvalidation_1-merror:0.31021                                                            \n",
      "[4]\tvalidation_0-merror:0.29529\tvalidation_1-merror:0.31021                                                            \n",
      "[6]\tvalidation_0-merror:0.29529\tvalidation_1-merror:0.31021                                                            \n",
      "[8]\tvalidation_0-merror:0.29529\tvalidation_1-merror:0.31021                                                            \n",
      "[9]\tvalidation_0-merror:0.29529\tvalidation_1-merror:0.31021                                                            \n",
      "SCORE:                                                                                                                 \n",
      "0.6897880539499036                                                                                                     \n",
      "[0]\tvalidation_0-merror:0.29529\tvalidation_1-merror:0.31021                                                            \n",
      "[2]\tvalidation_0-merror:0.29529\tvalidation_1-merror:0.31021                                                            \n",
      "[4]\tvalidation_0-merror:0.29529\tvalidation_1-merror:0.31021                                                            \n",
      "[6]\tvalidation_0-merror:0.29529\tvalidation_1-merror:0.31021                                                            \n",
      "[8]\tvalidation_0-merror:0.29529\tvalidation_1-merror:0.31021                                                            \n",
      "[10]\tvalidation_0-merror:0.29529\tvalidation_1-merror:0.31021                                                           \n",
      "SCORE:                                                                                                                 \n",
      "0.6897880539499036                                                                                                     \n",
      " 88%|████████████████████████████████████████▍     | 88/100 [00:15<00:02,  4.12trial/s, best loss: -0.6897880539499036]"
     ]
    },
    {
     "name": "stderr",
     "output_type": "stream",
     "text": [
      "C:\\Users\\hp\\Anaconda3\\lib\\site-packages\\xgboost\\sklearn.py:1224: UserWarning: The use of label encoder in XGBClassifier is deprecated and will be removed in a future release. To remove this warning, do the following: 1) Pass option use_label_encoder=False when constructing XGBClassifier object; and 2) Encode your labels (y) as integers starting with 0, i.e. 0, 1, 2, ..., [num_class - 1].\n",
      "  warnings.warn(label_encoder_deprecation_msg, UserWarning)\n",
      "\n"
     ]
    },
    {
     "name": "stdout",
     "output_type": "stream",
     "text": [
      "[0]\tvalidation_0-merror:0.29529\tvalidation_1-merror:0.31021                                                            \n",
      "[2]\tvalidation_0-merror:0.29529\tvalidation_1-merror:0.31021                                                            \n",
      " 88%|████████████████████████████████████████▍     | 88/100 [00:15<00:02,  4.12trial/s, best loss: -0.6897880539499036]"
     ]
    },
    {
     "name": "stderr",
     "output_type": "stream",
     "text": [
      "C:\\Users\\hp\\Anaconda3\\lib\\site-packages\\xgboost\\sklearn.py:1224: UserWarning: The use of label encoder in XGBClassifier is deprecated and will be removed in a future release. To remove this warning, do the following: 1) Pass option use_label_encoder=False when constructing XGBClassifier object; and 2) Encode your labels (y) as integers starting with 0, i.e. 0, 1, 2, ..., [num_class - 1].\n",
      "  warnings.warn(label_encoder_deprecation_msg, UserWarning)\n",
      "\n"
     ]
    },
    {
     "name": "stdout",
     "output_type": "stream",
     "text": [
      "[4]\tvalidation_0-merror:0.29529\tvalidation_1-merror:0.31021                                                            \n",
      "[6]\tvalidation_0-merror:0.29529\tvalidation_1-merror:0.31021                                                            \n",
      "[8]\tvalidation_0-merror:0.29529\tvalidation_1-merror:0.31021                                                            \n",
      "[10]\tvalidation_0-merror:0.29529\tvalidation_1-merror:0.31021                                                           \n",
      "SCORE:                                                                                                                 \n",
      "0.6897880539499036                                                                                                     \n",
      "[0]\tvalidation_0-merror:0.29529\tvalidation_1-merror:0.31021                                                            \n",
      "[2]\tvalidation_0-merror:0.29529\tvalidation_1-merror:0.31021                                                            \n",
      "[4]\tvalidation_0-merror:0.29529\tvalidation_1-merror:0.31021                                                            \n",
      "[6]\tvalidation_0-merror:0.29529\tvalidation_1-merror:0.31021                                                            \n",
      "[8]\tvalidation_0-merror:0.29529\tvalidation_1-merror:0.31021                                                            \n",
      "[9]\tvalidation_0-merror:0.29529\tvalidation_1-merror:0.31021                                                            \n",
      "SCORE:                                                                                                                 \n",
      "0.6897880539499036                                                                                                     \n",
      " 90%|█████████████████████████████████████████▍    | 90/100 [00:16<00:02,  3.37trial/s, best loss: -0.6897880539499036]"
     ]
    },
    {
     "name": "stderr",
     "output_type": "stream",
     "text": [
      "C:\\Users\\hp\\Anaconda3\\lib\\site-packages\\xgboost\\sklearn.py:1224: UserWarning: The use of label encoder in XGBClassifier is deprecated and will be removed in a future release. To remove this warning, do the following: 1) Pass option use_label_encoder=False when constructing XGBClassifier object; and 2) Encode your labels (y) as integers starting with 0, i.e. 0, 1, 2, ..., [num_class - 1].\n",
      "  warnings.warn(label_encoder_deprecation_msg, UserWarning)\n",
      "\n"
     ]
    },
    {
     "name": "stdout",
     "output_type": "stream",
     "text": [
      "[0]\tvalidation_0-merror:0.29529\tvalidation_1-merror:0.31021                                                            \n",
      "[2]\tvalidation_0-merror:0.29529\tvalidation_1-merror:0.31021                                                            \n",
      "[4]\tvalidation_0-merror:0.29529\tvalidation_1-merror:0.31021                                                            \n",
      "[6]\tvalidation_0-merror:0.29529\tvalidation_1-merror:0.31021                                                            \n",
      "[8]\tvalidation_0-merror:0.29529\tvalidation_1-merror:0.31021                                                            \n",
      "[9]\tvalidation_0-merror:0.29529\tvalidation_1-merror:0.31021                                                            \n",
      "SCORE:                                                                                                                 \n",
      "0.6897880539499036                                                                                                     \n",
      "[0]\tvalidation_0-merror:0.29529\tvalidation_1-merror:0.31021                                                            \n",
      " 91%|█████████████████████████████████████████▊    | 91/100 [00:16<00:02,  3.88trial/s, best loss: -0.6897880539499036]"
     ]
    },
    {
     "name": "stderr",
     "output_type": "stream",
     "text": [
      "C:\\Users\\hp\\Anaconda3\\lib\\site-packages\\xgboost\\sklearn.py:1224: UserWarning: The use of label encoder in XGBClassifier is deprecated and will be removed in a future release. To remove this warning, do the following: 1) Pass option use_label_encoder=False when constructing XGBClassifier object; and 2) Encode your labels (y) as integers starting with 0, i.e. 0, 1, 2, ..., [num_class - 1].\n",
      "  warnings.warn(label_encoder_deprecation_msg, UserWarning)\n",
      "\n",
      "C:\\Users\\hp\\Anaconda3\\lib\\site-packages\\xgboost\\sklearn.py:1224: UserWarning: The use of label encoder in XGBClassifier is deprecated and will be removed in a future release. To remove this warning, do the following: 1) Pass option use_label_encoder=False when constructing XGBClassifier object; and 2) Encode your labels (y) as integers starting with 0, i.e. 0, 1, 2, ..., [num_class - 1].\n",
      "  warnings.warn(label_encoder_deprecation_msg, UserWarning)\n",
      "\n"
     ]
    },
    {
     "name": "stdout",
     "output_type": "stream",
     "text": [
      "[2]\tvalidation_0-merror:0.29529\tvalidation_1-merror:0.31021                                                            \n",
      "[4]\tvalidation_0-merror:0.29529\tvalidation_1-merror:0.31021                                                            \n",
      "[6]\tvalidation_0-merror:0.29529\tvalidation_1-merror:0.31021                                                            \n",
      "[8]\tvalidation_0-merror:0.29529\tvalidation_1-merror:0.31021                                                            \n",
      "[9]\tvalidation_0-merror:0.29529\tvalidation_1-merror:0.31021                                                            \n",
      "SCORE:                                                                                                                 \n",
      "0.6897880539499036                                                                                                     \n",
      "[0]\tvalidation_0-merror:0.29529\tvalidation_1-merror:0.31021                                                            \n",
      "[2]\tvalidation_0-merror:0.29529\tvalidation_1-merror:0.31021                                                            \n",
      "[4]\tvalidation_0-merror:0.29529\tvalidation_1-merror:0.31021                                                            \n",
      "[6]\tvalidation_0-merror:0.29529\tvalidation_1-merror:0.31021                                                            \n",
      "[8]\tvalidation_0-merror:0.29529\tvalidation_1-merror:0.31021                                                            \n",
      "[10]\tvalidation_0-merror:0.29529\tvalidation_1-merror:0.31021                                                           \n",
      "SCORE:                                                                                                                 \n",
      "0.6897880539499036                                                                                                     \n",
      "[0]\tvalidation_0-merror:0.29529\tvalidation_1-merror:0.31021                                                            \n",
      " 93%|██████████████████████████████████████████▊   | 93/100 [00:16<00:01,  4.71trial/s, best loss: -0.6897880539499036]"
     ]
    },
    {
     "name": "stderr",
     "output_type": "stream",
     "text": [
      "C:\\Users\\hp\\Anaconda3\\lib\\site-packages\\xgboost\\sklearn.py:1224: UserWarning: The use of label encoder in XGBClassifier is deprecated and will be removed in a future release. To remove this warning, do the following: 1) Pass option use_label_encoder=False when constructing XGBClassifier object; and 2) Encode your labels (y) as integers starting with 0, i.e. 0, 1, 2, ..., [num_class - 1].\n",
      "  warnings.warn(label_encoder_deprecation_msg, UserWarning)\n",
      "\n",
      "C:\\Users\\hp\\Anaconda3\\lib\\site-packages\\xgboost\\sklearn.py:1224: UserWarning: The use of label encoder in XGBClassifier is deprecated and will be removed in a future release. To remove this warning, do the following: 1) Pass option use_label_encoder=False when constructing XGBClassifier object; and 2) Encode your labels (y) as integers starting with 0, i.e. 0, 1, 2, ..., [num_class - 1].\n",
      "  warnings.warn(label_encoder_deprecation_msg, UserWarning)\n",
      "\n"
     ]
    },
    {
     "name": "stdout",
     "output_type": "stream",
     "text": [
      "[2]\tvalidation_0-merror:0.29529\tvalidation_1-merror:0.31021                                                            \n",
      "[4]\tvalidation_0-merror:0.29529\tvalidation_1-merror:0.31021                                                            \n",
      "[6]\tvalidation_0-merror:0.29529\tvalidation_1-merror:0.31021                                                            \n",
      "[8]\tvalidation_0-merror:0.29529\tvalidation_1-merror:0.31021                                                            \n",
      "[9]\tvalidation_0-merror:0.29529\tvalidation_1-merror:0.31021                                                            \n",
      "SCORE:                                                                                                                 \n",
      "0.6897880539499036                                                                                                     \n",
      "[0]\tvalidation_0-merror:0.29529\tvalidation_1-merror:0.31021                                                            \n",
      "[2]\tvalidation_0-merror:0.29529\tvalidation_1-merror:0.31021                                                            \n",
      "[4]\tvalidation_0-merror:0.29529\tvalidation_1-merror:0.31021                                                            \n",
      "[6]\tvalidation_0-merror:0.29529\tvalidation_1-merror:0.31021                                                            \n",
      "[8]\tvalidation_0-merror:0.29529\tvalidation_1-merror:0.31021                                                            \n",
      "[10]\tvalidation_0-merror:0.29529\tvalidation_1-merror:0.31021                                                           \n",
      "SCORE:                                                                                                                 \n",
      "0.6897880539499036                                                                                                     \n",
      " 95%|███████████████████████████████████████████▋  | 95/100 [00:17<00:00,  5.25trial/s, best loss: -0.6897880539499036]"
     ]
    },
    {
     "name": "stderr",
     "output_type": "stream",
     "text": [
      "C:\\Users\\hp\\Anaconda3\\lib\\site-packages\\xgboost\\sklearn.py:1224: UserWarning: The use of label encoder in XGBClassifier is deprecated and will be removed in a future release. To remove this warning, do the following: 1) Pass option use_label_encoder=False when constructing XGBClassifier object; and 2) Encode your labels (y) as integers starting with 0, i.e. 0, 1, 2, ..., [num_class - 1].\n",
      "  warnings.warn(label_encoder_deprecation_msg, UserWarning)\n",
      "\n",
      "C:\\Users\\hp\\Anaconda3\\lib\\site-packages\\xgboost\\sklearn.py:1224: UserWarning: The use of label encoder in XGBClassifier is deprecated and will be removed in a future release. To remove this warning, do the following: 1) Pass option use_label_encoder=False when constructing XGBClassifier object; and 2) Encode your labels (y) as integers starting with 0, i.e. 0, 1, 2, ..., [num_class - 1].\n",
      "  warnings.warn(label_encoder_deprecation_msg, UserWarning)\n",
      "\n"
     ]
    },
    {
     "name": "stdout",
     "output_type": "stream",
     "text": [
      "[0]\tvalidation_0-merror:0.29529\tvalidation_1-merror:0.31021                                                            \n",
      "[2]\tvalidation_0-merror:0.29529\tvalidation_1-merror:0.31021                                                            \n",
      "[4]\tvalidation_0-merror:0.29529\tvalidation_1-merror:0.31021                                                            \n",
      "[6]\tvalidation_0-merror:0.29529\tvalidation_1-merror:0.31021                                                            \n",
      "[8]\tvalidation_0-merror:0.29529\tvalidation_1-merror:0.31021                                                            \n",
      "[9]\tvalidation_0-merror:0.29529\tvalidation_1-merror:0.31021                                                            \n",
      "SCORE:                                                                                                                 \n",
      "0.6897880539499036                                                                                                     \n",
      "[0]\tvalidation_0-merror:0.29529\tvalidation_1-merror:0.31021                                                            \n",
      "[2]\tvalidation_0-merror:0.29529\tvalidation_1-merror:0.31021                                                            \n",
      "[4]\tvalidation_0-merror:0.29529\tvalidation_1-merror:0.31021                                                            \n",
      "[6]\tvalidation_0-merror:0.29529\tvalidation_1-merror:0.31021                                                            \n",
      "[8]\tvalidation_0-merror:0.29529\tvalidation_1-merror:0.31021                                                            \n",
      "[10]\tvalidation_0-merror:0.29529\tvalidation_1-merror:0.31021                                                           \n",
      "SCORE:                                                                                                                 \n",
      "0.6897880539499036                                                                                                     \n",
      "[0]\tvalidation_0-merror:0.29529\tvalidation_1-merror:0.31021                                                            \n",
      "[2]\tvalidation_0-merror:0.29529\tvalidation_1-merror:0.31021                                                            \n",
      " 97%|████████████████████████████████████████████▌ | 97/100 [00:17<00:00,  5.69trial/s, best loss: -0.6897880539499036]"
     ]
    },
    {
     "name": "stderr",
     "output_type": "stream",
     "text": [
      "C:\\Users\\hp\\Anaconda3\\lib\\site-packages\\xgboost\\sklearn.py:1224: UserWarning: The use of label encoder in XGBClassifier is deprecated and will be removed in a future release. To remove this warning, do the following: 1) Pass option use_label_encoder=False when constructing XGBClassifier object; and 2) Encode your labels (y) as integers starting with 0, i.e. 0, 1, 2, ..., [num_class - 1].\n",
      "  warnings.warn(label_encoder_deprecation_msg, UserWarning)\n",
      "\n",
      "C:\\Users\\hp\\Anaconda3\\lib\\site-packages\\xgboost\\sklearn.py:1224: UserWarning: The use of label encoder in XGBClassifier is deprecated and will be removed in a future release. To remove this warning, do the following: 1) Pass option use_label_encoder=False when constructing XGBClassifier object; and 2) Encode your labels (y) as integers starting with 0, i.e. 0, 1, 2, ..., [num_class - 1].\n",
      "  warnings.warn(label_encoder_deprecation_msg, UserWarning)\n",
      "\n"
     ]
    },
    {
     "name": "stdout",
     "output_type": "stream",
     "text": [
      "[4]\tvalidation_0-merror:0.29529\tvalidation_1-merror:0.31021                                                            \n",
      "[6]\tvalidation_0-merror:0.29529\tvalidation_1-merror:0.31021                                                            \n",
      "[8]\tvalidation_0-merror:0.29529\tvalidation_1-merror:0.31021                                                            \n",
      "[10]\tvalidation_0-merror:0.29529\tvalidation_1-merror:0.31021                                                           \n",
      "SCORE:                                                                                                                 \n",
      "0.6897880539499036                                                                                                     \n",
      "[0]\tvalidation_0-merror:0.29529\tvalidation_1-merror:0.31021                                                            \n",
      "[2]\tvalidation_0-merror:0.29529\tvalidation_1-merror:0.31021                                                            \n",
      "[4]\tvalidation_0-merror:0.29529\tvalidation_1-merror:0.31021                                                            \n",
      "[6]\tvalidation_0-merror:0.29529\tvalidation_1-merror:0.31021                                                            \n",
      "[8]\tvalidation_0-merror:0.29529\tvalidation_1-merror:0.31021                                                            \n",
      "[9]\tvalidation_0-merror:0.29529\tvalidation_1-merror:0.31021                                                            \n",
      "SCORE:                                                                                                                 \n",
      "0.6897880539499036                                                                                                     \n",
      "[0]\tvalidation_0-merror:0.29529\tvalidation_1-merror:0.31021                                                            \n",
      "                                                                                                                       \r"
     ]
    },
    {
     "name": "stderr",
     "output_type": "stream",
     "text": [
      "C:\\Users\\hp\\Anaconda3\\lib\\site-packages\\xgboost\\sklearn.py:1224: UserWarning: The use of label encoder in XGBClassifier is deprecated and will be removed in a future release. To remove this warning, do the following: 1) Pass option use_label_encoder=False when constructing XGBClassifier object; and 2) Encode your labels (y) as integers starting with 0, i.e. 0, 1, 2, ..., [num_class - 1].\n",
      "  warnings.warn(label_encoder_deprecation_msg, UserWarning)\n",
      "\n",
      "C:\\Users\\hp\\Anaconda3\\lib\\site-packages\\xgboost\\sklearn.py:1224: UserWarning: The use of label encoder in XGBClassifier is deprecated and will be removed in a future release. To remove this warning, do the following: 1) Pass option use_label_encoder=False when constructing XGBClassifier object; and 2) Encode your labels (y) as integers starting with 0, i.e. 0, 1, 2, ..., [num_class - 1].\n",
      "  warnings.warn(label_encoder_deprecation_msg, UserWarning)\n",
      "\n"
     ]
    },
    {
     "name": "stdout",
     "output_type": "stream",
     "text": [
      "[2]\tvalidation_0-merror:0.29529\tvalidation_1-merror:0.31021\n",
      "[4]\tvalidation_0-merror:0.29529\tvalidation_1-merror:0.31021                                                            \n",
      "[6]\tvalidation_0-merror:0.29529\tvalidation_1-merror:0.31021                                                            \n",
      "[8]\tvalidation_0-merror:0.29529\tvalidation_1-merror:0.31021                                                            \n",
      "[9]\tvalidation_0-merror:0.29529\tvalidation_1-merror:0.31021                                                            \n",
      "SCORE:                                                                                                                 \n",
      "0.6897880539499036                                                                                                     \n",
      "100%|█████████████████████████████████████████████| 100/100 [00:18<00:00,  5.55trial/s, best loss: -0.6897880539499036]\n"
     ]
    }
   ],
   "source": [
    "# Getting the optimum\n",
    "trials = Trials()\n",
    "\n",
    "best_hyperparams = fmin(fn = objective,\n",
    "                        space = space,\n",
    "                        algo = tpe.suggest,\n",
    "                        max_evals = 100,\n",
    "                        trials = trials)"
   ]
  },
  {
   "cell_type": "code",
   "execution_count": 39,
   "id": "113d0cef",
   "metadata": {},
   "outputs": [
    {
     "name": "stdout",
     "output_type": "stream",
     "text": [
      "The best hyperparameters are :  \n",
      "\n",
      "{'colsample_bytree': 0.5356402785750933, 'gamma': 8.930986603401166, 'max_depth': 9.0, 'min_child_weight': 1.0, 'reg_alpha': 119.0, 'reg_lambda': 0.09812781449273855}\n"
     ]
    }
   ],
   "source": [
    "# Getting the best model\n",
    "print(\"The best hyperparameters are : \",\"\\n\")\n",
    "print(best_hyperparams)"
   ]
  },
  {
   "cell_type": "code",
   "execution_count": 40,
   "id": "5aa71b6c",
   "metadata": {},
   "outputs": [
    {
     "name": "stdout",
     "output_type": "stream",
     "text": [
      "[08:15:56] WARNING: C:/Users/Administrator/workspace/xgboost-win64_release_1.5.0/src/learner.cc:1115: Starting in XGBoost 1.3.0, the default evaluation metric used with the objective 'multi:softprob' was changed from 'merror' to 'mlogloss'. Explicitly set eval_metric if you'd like to restore the old behavior.\n",
      "[0]\tvalidation_0-mlogloss:0.94153\tvalidation_1-mlogloss:0.94379\n",
      "[2]\tvalidation_0-mlogloss:0.53773\tvalidation_1-mlogloss:0.55620\n",
      "[4]\tvalidation_0-mlogloss:0.34786\tvalidation_1-mlogloss:0.37244\n",
      "[6]\tvalidation_0-mlogloss:0.23741\tvalidation_1-mlogloss:0.26699\n",
      "[8]\tvalidation_0-mlogloss:0.17458\tvalidation_1-mlogloss:0.21000\n",
      "[10]\tvalidation_0-mlogloss:0.13339\tvalidation_1-mlogloss:0.17272\n",
      "[12]\tvalidation_0-mlogloss:0.10732\tvalidation_1-mlogloss:0.14942\n",
      "[14]\tvalidation_0-mlogloss:0.08744\tvalidation_1-mlogloss:0.12898\n"
     ]
    },
    {
     "name": "stderr",
     "output_type": "stream",
     "text": [
      "C:\\Users\\hp\\Anaconda3\\lib\\site-packages\\xgboost\\core.py:502: FutureWarning: Pass `objective` as keyword args.  Passing these as positional arguments will be considered as error in future releases.\n",
      "  format(\", \".join(args_msg)), FutureWarning\n",
      "C:\\Users\\hp\\Anaconda3\\lib\\site-packages\\xgboost\\sklearn.py:1224: UserWarning: The use of label encoder in XGBClassifier is deprecated and will be removed in a future release. To remove this warning, do the following: 1) Pass option use_label_encoder=False when constructing XGBClassifier object; and 2) Encode your labels (y) as integers starting with 0, i.e. 0, 1, 2, ..., [num_class - 1].\n",
      "  warnings.warn(label_encoder_deprecation_msg, UserWarning)\n"
     ]
    },
    {
     "name": "stdout",
     "output_type": "stream",
     "text": [
      "[16]\tvalidation_0-mlogloss:0.07224\tvalidation_1-mlogloss:0.11262\n",
      "[18]\tvalidation_0-mlogloss:0.06176\tvalidation_1-mlogloss:0.10467\n",
      "[20]\tvalidation_0-mlogloss:0.05197\tvalidation_1-mlogloss:0.09462\n",
      "[22]\tvalidation_0-mlogloss:0.04259\tvalidation_1-mlogloss:0.08466\n",
      "[24]\tvalidation_0-mlogloss:0.03656\tvalidation_1-mlogloss:0.08024\n",
      "[26]\tvalidation_0-mlogloss:0.03204\tvalidation_1-mlogloss:0.07596\n",
      "[28]\tvalidation_0-mlogloss:0.02850\tvalidation_1-mlogloss:0.07431\n",
      "[30]\tvalidation_0-mlogloss:0.02557\tvalidation_1-mlogloss:0.07131\n",
      "[32]\tvalidation_0-mlogloss:0.02324\tvalidation_1-mlogloss:0.07019\n",
      "[34]\tvalidation_0-mlogloss:0.02097\tvalidation_1-mlogloss:0.06757\n",
      "[36]\tvalidation_0-mlogloss:0.01961\tvalidation_1-mlogloss:0.06629\n",
      "[38]\tvalidation_0-mlogloss:0.01840\tvalidation_1-mlogloss:0.06548\n",
      "[40]\tvalidation_0-mlogloss:0.01672\tvalidation_1-mlogloss:0.06358\n",
      "[42]\tvalidation_0-mlogloss:0.01589\tvalidation_1-mlogloss:0.06396\n",
      "[44]\tvalidation_0-mlogloss:0.01541\tvalidation_1-mlogloss:0.06414\n",
      "[46]\tvalidation_0-mlogloss:0.01478\tvalidation_1-mlogloss:0.06455\n",
      "[48]\tvalidation_0-mlogloss:0.01420\tvalidation_1-mlogloss:0.06383\n",
      "[50]\tvalidation_0-mlogloss:0.01369\tvalidation_1-mlogloss:0.06387\n"
     ]
    },
    {
     "data": {
      "text/plain": [
       "XGBClassifier(base_score=0.5, booster='gbtree', colsample_bylevel=1,\n",
       "              colsample_bynode=1, colsample_bytree=1, enable_categorical=False,\n",
       "              gamma=0, gpu_id=-1, importance_type=None,\n",
       "              interaction_constraints='', learning_rate=0.300000012,\n",
       "              max_delta_step=0, max_depth=6, min_child_weight=1, missing=nan,\n",
       "              monotone_constraints='()', n_estimators=100, n_jobs=4,\n",
       "              num_parallel_tree=1, objective='multi:softprob', predictor='auto',\n",
       "              random_state=0, reg_alpha=0, reg_lambda=1, scale_pos_weight=None,\n",
       "              subsample=1, tree_method='exact', validate_parameters=1,\n",
       "              verbosity=None)"
      ]
     },
     "execution_count": 40,
     "metadata": {},
     "output_type": "execute_result"
    }
   ],
   "source": [
    "# Best model\n",
    "clf=xgb.XGBClassifier(best_hyperparams)\n",
    "evaluation = [( X_train, y_train), ( X_test, y_test)]\n",
    "clf.fit(X_train, y_train,\n",
    "            eval_set=evaluation,\n",
    "            early_stopping_rounds=10,verbose=2)"
   ]
  },
  {
   "cell_type": "code",
   "execution_count": 41,
   "id": "eb6a097c",
   "metadata": {},
   "outputs": [
    {
     "name": "stdout",
     "output_type": "stream",
     "text": [
      "\n",
      " The model accuracy on train set is 1.0\n",
      "\n",
      " The model accuracy on test set is 0.9807321772639692\n",
      "\n",
      "\n",
      " Classification Report\n",
      "              precision    recall  f1-score   support\n",
      "\n",
      "         acc       0.97      0.95      0.96       118\n",
      "        good       0.77      0.89      0.83        19\n",
      "       unacc       1.00      1.00      1.00       358\n",
      "       vgood       0.92      0.96      0.94        24\n",
      "\n",
      "    accuracy                           0.98       519\n",
      "   macro avg       0.92      0.95      0.93       519\n",
      "weighted avg       0.98      0.98      0.98       519\n",
      "\n"
     ]
    },
    {
     "data": {
      "text/plain": [
       "<AxesSubplot:title={'center':'Confusion Matrix'}, xlabel='Predicted label', ylabel='True label'>"
      ]
     },
     "execution_count": 41,
     "metadata": {},
     "output_type": "execute_result"
    },
    {
     "data": {
      "image/png": "[encoded data removed]",
      "text/plain": [
       "<Figure size 432x288 with 2 Axes>"
      ]
     },
     "metadata": {},
     "output_type": "display_data"
    }
   ],
   "source": [
    "print(\"\\n The model accuracy on train set is\",clf.score(X_train,y_train))\n",
    "print(\"\\n The model accuracy on test set is\",clf.score(X_test,y_test))\n",
    "\n",
    "y_predict=clf.predict(X_test)\n",
    "accuracy=accuracy_score(y_test,y_predict,normalize=True)*float(100)\n",
    "print('\\n\\n Classification Report')\n",
    "print(classification_report(y_test,y_predict))\n",
    "skplt.plot_confusion_matrix(y_test,y_predict)"
   ]
  },
  {
   "cell_type": "markdown",
   "id": "280a3539",
   "metadata": {},
   "source": [
    "## Updates"
   ]
  },
  {
   "cell_type": "code",
   "execution_count": 42,
   "id": "5f6de11f",
   "metadata": {},
   "outputs": [],
   "source": [
    "import category_encoders as ce\n",
    "encoder = ce.OrdinalEncoder(cols=['buying', 'maint', 'doors', 'persons', 'lug_boot', 'safety'])\n",
    "df = encoder.fit_transform(df)"
   ]
  },
  {
   "cell_type": "code",
   "execution_count": 43,
   "id": "c457526e",
   "metadata": {},
   "outputs": [
    {
     "name": "stdout",
     "output_type": "stream",
     "text": [
      "(1728, 7)\n"
     ]
    },
    {
     "data": {
      "text/html": [
       "<div>\n",
       "<style scoped>\n",
       "    .dataframe tbody tr th:only-of-type {\n",
       "        vertical-align: middle;\n",
       "    }\n",
       "\n",
       "    .dataframe tbody tr th {\n",
       "        vertical-align: top;\n",
       "    }\n",
       "\n",
       "    .dataframe thead th {\n",
       "        text-align: right;\n",
       "    }\n",
       "</style>\n",
       "<table border=\"1\" class=\"dataframe\">\n",
       "  <thead>\n",
       "    <tr style=\"text-align: right;\">\n",
       "      <th></th>\n",
       "      <th>buying</th>\n",
       "      <th>maint</th>\n",
       "      <th>doors</th>\n",
       "      <th>persons</th>\n",
       "      <th>lug_boot</th>\n",
       "      <th>safety</th>\n",
       "      <th>target</th>\n",
       "    </tr>\n",
       "  </thead>\n",
       "  <tbody>\n",
       "    <tr>\n",
       "      <th>0</th>\n",
       "      <td>1</td>\n",
       "      <td>1</td>\n",
       "      <td>1</td>\n",
       "      <td>1</td>\n",
       "      <td>1</td>\n",
       "      <td>1</td>\n",
       "      <td>unacc</td>\n",
       "    </tr>\n",
       "    <tr>\n",
       "      <th>1</th>\n",
       "      <td>1</td>\n",
       "      <td>1</td>\n",
       "      <td>1</td>\n",
       "      <td>1</td>\n",
       "      <td>1</td>\n",
       "      <td>2</td>\n",
       "      <td>unacc</td>\n",
       "    </tr>\n",
       "  </tbody>\n",
       "</table>\n",
       "</div>"
      ],
      "text/plain": [
       "   buying  maint  doors  persons  lug_boot  safety target\n",
       "0       1      1      1        1         1       1  unacc\n",
       "1       1      1      1        1         1       2  unacc"
      ]
     },
     "metadata": {},
     "output_type": "display_data"
    },
    {
     "data": {
      "text/html": [
       "<div>\n",
       "<style scoped>\n",
       "    .dataframe tbody tr th:only-of-type {\n",
       "        vertical-align: middle;\n",
       "    }\n",
       "\n",
       "    .dataframe tbody tr th {\n",
       "        vertical-align: top;\n",
       "    }\n",
       "\n",
       "    .dataframe thead th {\n",
       "        text-align: right;\n",
       "    }\n",
       "</style>\n",
       "<table border=\"1\" class=\"dataframe\">\n",
       "  <thead>\n",
       "    <tr style=\"text-align: right;\">\n",
       "      <th></th>\n",
       "      <th>0</th>\n",
       "      <th>1</th>\n",
       "      <th>2</th>\n",
       "      <th>3</th>\n",
       "      <th>4</th>\n",
       "      <th>5</th>\n",
       "      <th>6</th>\n",
       "      <th>7</th>\n",
       "      <th>8</th>\n",
       "      <th>9</th>\n",
       "      <th>...</th>\n",
       "      <th>200</th>\n",
       "      <th>201</th>\n",
       "      <th>202</th>\n",
       "      <th>203</th>\n",
       "      <th>204</th>\n",
       "      <th>205</th>\n",
       "      <th>206</th>\n",
       "      <th>207</th>\n",
       "      <th>208</th>\n",
       "      <th>209</th>\n",
       "    </tr>\n",
       "  </thead>\n",
       "  <tbody>\n",
       "    <tr>\n",
       "      <th>0</th>\n",
       "      <td>1.0</td>\n",
       "      <td>1.0</td>\n",
       "      <td>1.0</td>\n",
       "      <td>1.0</td>\n",
       "      <td>1.0</td>\n",
       "      <td>1.0</td>\n",
       "      <td>1.0</td>\n",
       "      <td>1.0</td>\n",
       "      <td>1.0</td>\n",
       "      <td>1.0</td>\n",
       "      <td>...</td>\n",
       "      <td>1.0</td>\n",
       "      <td>1.0</td>\n",
       "      <td>1.0</td>\n",
       "      <td>1.0</td>\n",
       "      <td>1.0</td>\n",
       "      <td>1.0</td>\n",
       "      <td>1.0</td>\n",
       "      <td>1.0</td>\n",
       "      <td>1.0</td>\n",
       "      <td>1.0</td>\n",
       "    </tr>\n",
       "    <tr>\n",
       "      <th>1</th>\n",
       "      <td>1.0</td>\n",
       "      <td>1.0</td>\n",
       "      <td>1.0</td>\n",
       "      <td>1.0</td>\n",
       "      <td>1.0</td>\n",
       "      <td>1.0</td>\n",
       "      <td>2.0</td>\n",
       "      <td>1.0</td>\n",
       "      <td>1.0</td>\n",
       "      <td>1.0</td>\n",
       "      <td>...</td>\n",
       "      <td>4.0</td>\n",
       "      <td>1.0</td>\n",
       "      <td>2.0</td>\n",
       "      <td>4.0</td>\n",
       "      <td>8.0</td>\n",
       "      <td>1.0</td>\n",
       "      <td>2.0</td>\n",
       "      <td>4.0</td>\n",
       "      <td>8.0</td>\n",
       "      <td>16.0</td>\n",
       "    </tr>\n",
       "  </tbody>\n",
       "</table>\n",
       "<p>2 rows × 210 columns</p>\n",
       "</div>"
      ],
      "text/plain": [
       "   0    1    2    3    4    5    6    7    8    9    ...  200  201  202  203  \\\n",
       "0  1.0  1.0  1.0  1.0  1.0  1.0  1.0  1.0  1.0  1.0  ...  1.0  1.0  1.0  1.0   \n",
       "1  1.0  1.0  1.0  1.0  1.0  1.0  2.0  1.0  1.0  1.0  ...  4.0  1.0  2.0  4.0   \n",
       "\n",
       "   204  205  206  207  208   209  \n",
       "0  1.0  1.0  1.0  1.0  1.0   1.0  \n",
       "1  8.0  1.0  2.0  4.0  8.0  16.0  \n",
       "\n",
       "[2 rows x 210 columns]"
      ]
     },
     "metadata": {},
     "output_type": "display_data"
    }
   ],
   "source": [
    "from sklearn.preprocessing import PolynomialFeatures\n",
    "\n",
    "# summarize the shape of the dataset\n",
    "print(df.shape)\n",
    "# summarize each variable\n",
    "display(df.head(2))\n",
    "\n",
    "# perform a polynomial features transform of the dataset\n",
    "trans = PolynomialFeatures(degree=4)\n",
    "data = trans.fit_transform(df.iloc[:,:-1])\n",
    "\n",
    "# convert the array back to a dataframe\n",
    "dataset = pd.DataFrame(data)\n",
    "\n",
    "# summarize\n",
    "display(dataset.head(2))"
   ]
  },
  {
   "cell_type": "code",
   "execution_count": 44,
   "id": "827f536c",
   "metadata": {},
   "outputs": [],
   "source": [
    "# Getting X and y\n",
    "X = dataset\n",
    "y = df['target']"
   ]
  },
  {
   "cell_type": "code",
   "execution_count": 45,
   "id": "4846548f",
   "metadata": {},
   "outputs": [
    {
     "data": {
      "text/html": [
       "<div>\n",
       "<style scoped>\n",
       "    .dataframe tbody tr th:only-of-type {\n",
       "        vertical-align: middle;\n",
       "    }\n",
       "\n",
       "    .dataframe tbody tr th {\n",
       "        vertical-align: top;\n",
       "    }\n",
       "\n",
       "    .dataframe thead th {\n",
       "        text-align: right;\n",
       "    }\n",
       "</style>\n",
       "<table border=\"1\" class=\"dataframe\">\n",
       "  <thead>\n",
       "    <tr style=\"text-align: right;\">\n",
       "      <th></th>\n",
       "      <th>0</th>\n",
       "      <th>1</th>\n",
       "      <th>2</th>\n",
       "      <th>3</th>\n",
       "      <th>4</th>\n",
       "      <th>5</th>\n",
       "      <th>6</th>\n",
       "      <th>7</th>\n",
       "      <th>8</th>\n",
       "      <th>9</th>\n",
       "      <th>...</th>\n",
       "      <th>200</th>\n",
       "      <th>201</th>\n",
       "      <th>202</th>\n",
       "      <th>203</th>\n",
       "      <th>204</th>\n",
       "      <th>205</th>\n",
       "      <th>206</th>\n",
       "      <th>207</th>\n",
       "      <th>208</th>\n",
       "      <th>209</th>\n",
       "    </tr>\n",
       "  </thead>\n",
       "  <tbody>\n",
       "    <tr>\n",
       "      <th>0</th>\n",
       "      <td>1.0</td>\n",
       "      <td>1.0</td>\n",
       "      <td>1.0</td>\n",
       "      <td>1.0</td>\n",
       "      <td>1.0</td>\n",
       "      <td>1.0</td>\n",
       "      <td>1.0</td>\n",
       "      <td>1.0</td>\n",
       "      <td>1.0</td>\n",
       "      <td>1.0</td>\n",
       "      <td>...</td>\n",
       "      <td>1.0</td>\n",
       "      <td>1.0</td>\n",
       "      <td>1.0</td>\n",
       "      <td>1.0</td>\n",
       "      <td>1.0</td>\n",
       "      <td>1.0</td>\n",
       "      <td>1.0</td>\n",
       "      <td>1.0</td>\n",
       "      <td>1.0</td>\n",
       "      <td>1.0</td>\n",
       "    </tr>\n",
       "    <tr>\n",
       "      <th>1</th>\n",
       "      <td>1.0</td>\n",
       "      <td>1.0</td>\n",
       "      <td>1.0</td>\n",
       "      <td>1.0</td>\n",
       "      <td>1.0</td>\n",
       "      <td>1.0</td>\n",
       "      <td>2.0</td>\n",
       "      <td>1.0</td>\n",
       "      <td>1.0</td>\n",
       "      <td>1.0</td>\n",
       "      <td>...</td>\n",
       "      <td>4.0</td>\n",
       "      <td>1.0</td>\n",
       "      <td>2.0</td>\n",
       "      <td>4.0</td>\n",
       "      <td>8.0</td>\n",
       "      <td>1.0</td>\n",
       "      <td>2.0</td>\n",
       "      <td>4.0</td>\n",
       "      <td>8.0</td>\n",
       "      <td>16.0</td>\n",
       "    </tr>\n",
       "    <tr>\n",
       "      <th>2</th>\n",
       "      <td>1.0</td>\n",
       "      <td>1.0</td>\n",
       "      <td>1.0</td>\n",
       "      <td>1.0</td>\n",
       "      <td>1.0</td>\n",
       "      <td>1.0</td>\n",
       "      <td>3.0</td>\n",
       "      <td>1.0</td>\n",
       "      <td>1.0</td>\n",
       "      <td>1.0</td>\n",
       "      <td>...</td>\n",
       "      <td>9.0</td>\n",
       "      <td>1.0</td>\n",
       "      <td>3.0</td>\n",
       "      <td>9.0</td>\n",
       "      <td>27.0</td>\n",
       "      <td>1.0</td>\n",
       "      <td>3.0</td>\n",
       "      <td>9.0</td>\n",
       "      <td>27.0</td>\n",
       "      <td>81.0</td>\n",
       "    </tr>\n",
       "    <tr>\n",
       "      <th>3</th>\n",
       "      <td>1.0</td>\n",
       "      <td>1.0</td>\n",
       "      <td>1.0</td>\n",
       "      <td>1.0</td>\n",
       "      <td>1.0</td>\n",
       "      <td>2.0</td>\n",
       "      <td>1.0</td>\n",
       "      <td>1.0</td>\n",
       "      <td>1.0</td>\n",
       "      <td>1.0</td>\n",
       "      <td>...</td>\n",
       "      <td>1.0</td>\n",
       "      <td>8.0</td>\n",
       "      <td>4.0</td>\n",
       "      <td>2.0</td>\n",
       "      <td>1.0</td>\n",
       "      <td>16.0</td>\n",
       "      <td>8.0</td>\n",
       "      <td>4.0</td>\n",
       "      <td>2.0</td>\n",
       "      <td>1.0</td>\n",
       "    </tr>\n",
       "    <tr>\n",
       "      <th>4</th>\n",
       "      <td>1.0</td>\n",
       "      <td>1.0</td>\n",
       "      <td>1.0</td>\n",
       "      <td>1.0</td>\n",
       "      <td>1.0</td>\n",
       "      <td>2.0</td>\n",
       "      <td>2.0</td>\n",
       "      <td>1.0</td>\n",
       "      <td>1.0</td>\n",
       "      <td>1.0</td>\n",
       "      <td>...</td>\n",
       "      <td>4.0</td>\n",
       "      <td>8.0</td>\n",
       "      <td>8.0</td>\n",
       "      <td>8.0</td>\n",
       "      <td>8.0</td>\n",
       "      <td>16.0</td>\n",
       "      <td>16.0</td>\n",
       "      <td>16.0</td>\n",
       "      <td>16.0</td>\n",
       "      <td>16.0</td>\n",
       "    </tr>\n",
       "  </tbody>\n",
       "</table>\n",
       "<p>5 rows × 210 columns</p>\n",
       "</div>"
      ],
      "text/plain": [
       "   0    1    2    3    4    5    6    7    8    9    ...  200  201  202  203  \\\n",
       "0  1.0  1.0  1.0  1.0  1.0  1.0  1.0  1.0  1.0  1.0  ...  1.0  1.0  1.0  1.0   \n",
       "1  1.0  1.0  1.0  1.0  1.0  1.0  2.0  1.0  1.0  1.0  ...  4.0  1.0  2.0  4.0   \n",
       "2  1.0  1.0  1.0  1.0  1.0  1.0  3.0  1.0  1.0  1.0  ...  9.0  1.0  3.0  9.0   \n",
       "3  1.0  1.0  1.0  1.0  1.0  2.0  1.0  1.0  1.0  1.0  ...  1.0  8.0  4.0  2.0   \n",
       "4  1.0  1.0  1.0  1.0  1.0  2.0  2.0  1.0  1.0  1.0  ...  4.0  8.0  8.0  8.0   \n",
       "\n",
       "    204   205   206   207   208   209  \n",
       "0   1.0   1.0   1.0   1.0   1.0   1.0  \n",
       "1   8.0   1.0   2.0   4.0   8.0  16.0  \n",
       "2  27.0   1.0   3.0   9.0  27.0  81.0  \n",
       "3   1.0  16.0   8.0   4.0   2.0   1.0  \n",
       "4   8.0  16.0  16.0  16.0  16.0  16.0  \n",
       "\n",
       "[5 rows x 210 columns]"
      ]
     },
     "execution_count": 45,
     "metadata": {},
     "output_type": "execute_result"
    }
   ],
   "source": [
    "X.head()"
   ]
  },
  {
   "cell_type": "code",
   "execution_count": 46,
   "id": "ce52f9fb",
   "metadata": {},
   "outputs": [],
   "source": [
    "# importing necessary packages\n",
    "from sklearn.metrics import accuracy_score,confusion_matrix,classification_report\n",
    "from sklearn.tree import DecisionTreeClassifier\n",
    "import scikitplot.metrics as skplt\n",
    "from sklearn import tree\n",
    "from sklearn.model_selection import train_test_split"
   ]
  },
  {
   "cell_type": "code",
   "execution_count": 47,
   "id": "50be816a",
   "metadata": {},
   "outputs": [],
   "source": [
    "# Splitting data into test train, using a 0.3 split \n",
    "X_train, X_test, y_train, y_test = train_test_split(X, y, test_size=0.3, random_state=42)"
   ]
  },
  {
   "cell_type": "code",
   "execution_count": 48,
   "id": "4788a8aa",
   "metadata": {
    "scrolled": true
   },
   "outputs": [
    {
     "name": "stdout",
     "output_type": "stream",
     "text": [
      "Training Dataset (1209, 210) (1209,)\n",
      "\n",
      " Class label distribution in Training Set\n",
      " unacc    852\n",
      "acc      266\n",
      "good      50\n",
      "vgood     41\n",
      "Name: target, dtype: int64\n",
      "\n",
      "***********\n",
      "\n",
      " CrossValidation Dataset (519, 210) (519,)\n",
      "\n",
      "Class label distribution in Cross Validation Set\n",
      " unacc    358\n",
      "acc      118\n",
      "vgood     24\n",
      "good      19\n",
      "Name: target, dtype: int64\n",
      "\n",
      "***********\n"
     ]
    }
   ],
   "source": [
    "# Exploring class distribution under train ,crossvalidation dataset\n",
    "print('Training Dataset',X_train.shape,y_train.shape)\n",
    "print('\\n Class label distribution in Training Set\\n',y_train.value_counts())\n",
    "print('\\n***********')\n",
    "print(\"\\n CrossValidation Dataset\",X_test.shape,y_test.shape)\n",
    "print('\\nClass label distribution in Cross Validation Set\\n',y_test.value_counts())\n",
    "print('\\n***********')"
   ]
  },
  {
   "cell_type": "code",
   "execution_count": 49,
   "id": "46a74c29",
   "metadata": {},
   "outputs": [
    {
     "name": "stdout",
     "output_type": "stream",
     "text": [
      "{'n_estimators': [400, 600, 800, 1000, 1200], 'max_features': ['auto', 'sqrt'], 'max_depth': [2, None], 'min_samples_split': [2, 3, 4, 5, 7, 10], 'min_samples_leaf': [1, 2, 4, 5], 'bootstrap': [True, False]}\n"
     ]
    }
   ],
   "source": [
    "# Importing and defining the random search feature space.\n",
    "from sklearn.ensemble import RandomForestClassifier\n",
    "\n",
    "from sklearn.model_selection import RandomizedSearchCV\n",
    "\n",
    "# Number of trees in random forest\n",
    "n_estimators = [int(x) for x in range(400,1400,200)]\n",
    "# Number of features to consider at every split\n",
    "max_features = ['auto', 'sqrt']\n",
    "# Maximum number of levels in tree\n",
    "max_depth = [int(x) for x in np.linspace(2, 15, num = 1)]\n",
    "max_depth.append(None)\n",
    "# Minimum number of samples required to split a node\n",
    "min_samples_split = [ 2,3, 4, 5, 7,10]\n",
    "# Minimum number of samples required at each leaf node\n",
    "min_samples_leaf = [1, 2, 4, 5]\n",
    "# Method of selecting samples for training each tree\n",
    "bootstrap = [True, False]\n",
    "# Create the random grid\n",
    "random_grid = {'n_estimators': n_estimators,\n",
    "               'max_features': max_features,\n",
    "               'max_depth': max_depth,\n",
    "               'min_samples_split': min_samples_split,\n",
    "               'min_samples_leaf': min_samples_leaf,\n",
    "               'bootstrap': bootstrap}\n",
    "print(random_grid)"
   ]
  },
  {
   "cell_type": "code",
   "execution_count": 50,
   "id": "cd80366a",
   "metadata": {},
   "outputs": [
    {
     "name": "stdout",
     "output_type": "stream",
     "text": [
      "Fitting 3 folds for each of 50 candidates, totalling 150 fits\n"
     ]
    },
    {
     "data": {
      "text/plain": [
       "RandomizedSearchCV(cv=3, estimator=RandomForestClassifier(), n_iter=50,\n",
       "                   n_jobs=-1,\n",
       "                   param_distributions={'bootstrap': [True, False],\n",
       "                                        'max_depth': [2, None],\n",
       "                                        'max_features': ['auto', 'sqrt'],\n",
       "                                        'min_samples_leaf': [1, 2, 4, 5],\n",
       "                                        'min_samples_split': [2, 3, 4, 5, 7,\n",
       "                                                              10],\n",
       "                                        'n_estimators': [400, 600, 800, 1000,\n",
       "                                                         1200]},\n",
       "                   random_state=42, verbose=2)"
      ]
     },
     "execution_count": 50,
     "metadata": {},
     "output_type": "execute_result"
    }
   ],
   "source": [
    "# Use the random grid to search for best hyperparameters\n",
    "# First create the base model to tune\n",
    "rf = RandomForestClassifier()\n",
    "# Random search of parameters, using 3 fold cross validation, \n",
    "# search across 100 different combinations, and use all available cores\n",
    "rf_random = RandomizedSearchCV(estimator = rf, param_distributions = random_grid, n_iter = 50, cv = 3, verbose=2, random_state=42, n_jobs = -1)\n",
    "# Fit the random search model\n",
    "rf_random.fit(X_train, y_train)"
   ]
  },
  {
   "cell_type": "code",
   "execution_count": 51,
   "id": "4a236a9e",
   "metadata": {},
   "outputs": [
    {
     "data": {
      "text/plain": [
       "{'n_estimators': 1000,\n",
       " 'min_samples_split': 3,\n",
       " 'min_samples_leaf': 2,\n",
       " 'max_features': 'sqrt',\n",
       " 'max_depth': None,\n",
       " 'bootstrap': False}"
      ]
     },
     "execution_count": 51,
     "metadata": {},
     "output_type": "execute_result"
    }
   ],
   "source": [
    "# Printing the best hyperparameters\n",
    "\n",
    "rf_random.best_params_"
   ]
  },
  {
   "cell_type": "code",
   "execution_count": 52,
   "id": "7bf9fc9f",
   "metadata": {},
   "outputs": [
    {
     "name": "stdout",
     "output_type": "stream",
     "text": [
      "The best model is  RandomForestClassifier(bootstrap=False, max_features='sqrt', min_samples_leaf=2,\n",
      "                       min_samples_split=3, n_estimators=1000)\n",
      "\n",
      " The best model parameters are  {'n_estimators': 1000, 'min_samples_split': 3, 'min_samples_leaf': 2, 'max_features': 'sqrt', 'max_depth': None, 'bootstrap': False}\n",
      "\n",
      " The model accuracy on train set is 1.0\n",
      "\n",
      " The model accuracy on test set is 0.9845857418111753\n",
      "\n",
      "\n",
      " Classification Report\n",
      "              precision    recall  f1-score   support\n",
      "\n",
      "         acc       0.97      0.97      0.97       118\n",
      "        good       0.90      1.00      0.95        19\n",
      "       unacc       1.00      0.99      1.00       358\n",
      "       vgood       0.92      0.92      0.92        24\n",
      "\n",
      "    accuracy                           0.98       519\n",
      "   macro avg       0.95      0.97      0.96       519\n",
      "weighted avg       0.98      0.98      0.98       519\n",
      "\n"
     ]
    },
    {
     "data": {
      "text/plain": [
       "<AxesSubplot:title={'center':'Confusion Matrix'}, xlabel='Predicted label', ylabel='True label'>"
      ]
     },
     "execution_count": 52,
     "metadata": {},
     "output_type": "execute_result"
    },
    {
     "data": {
      "image/png": "[encoded data removed]",
      "text/plain": [
       "<Figure size 432x288 with 2 Axes>"
      ]
     },
     "metadata": {},
     "output_type": "display_data"
    }
   ],
   "source": [
    "# Checking accuracies on the train and test data, predicting on the test data.\n",
    "\n",
    "print('The best model is ', rf_random.best_estimator_)\n",
    "print(\"\\n The best model parameters are \",rf_random.best_params_)\n",
    "print(\"\\n The model accuracy on train set is\",rf_random.score(X_train,y_train))\n",
    "print(\"\\n The model accuracy on test set is\",rf_random.score(X_test,y_test))\n",
    "\n",
    "y_predict=rf_random.predict(X_test)\n",
    "accuracy=accuracy_score(y_test,y_predict,normalize=True)*float(100)\n",
    "print('\\n\\n Classification Report')\n",
    "print(classification_report(y_test,y_predict))\n",
    "skplt.plot_confusion_matrix(y_test,y_predict)"
   ]
  },
  {
   "cell_type": "code",
   "execution_count": 53,
   "id": "9df095da",
   "metadata": {},
   "outputs": [
    {
     "data": {
      "text/plain": [
       "RandomForestClassifier(min_samples_split=3, n_estimators=1000)"
      ]
     },
     "execution_count": 53,
     "metadata": {},
     "output_type": "execute_result"
    }
   ],
   "source": [
    "# Defining the model with the best parameters\n",
    "clf = RandomForestClassifier(bootstrap=True, max_depth=None, max_features='auto', min_samples_leaf=1, min_samples_split=3, n_estimators = 1000)\n",
    "clf.fit(X_train, y_train)"
   ]
  },
  {
   "cell_type": "code",
   "execution_count": 54,
   "id": "c452d9c8",
   "metadata": {},
   "outputs": [
    {
     "name": "stdout",
     "output_type": "stream",
     "text": [
      "\n",
      " The model accuracy on train set is 1.0\n",
      "\n",
      " The model accuracy on test set is 0.9845857418111753\n",
      "\n",
      "\n",
      " Classification Report\n",
      "              precision    recall  f1-score   support\n",
      "\n",
      "         acc       0.97      0.97      0.97       118\n",
      "        good       0.90      1.00      0.95        19\n",
      "       unacc       1.00      0.99      1.00       358\n",
      "       vgood       0.96      0.92      0.94        24\n",
      "\n",
      "    accuracy                           0.98       519\n",
      "   macro avg       0.96      0.97      0.96       519\n",
      "weighted avg       0.98      0.98      0.98       519\n",
      "\n"
     ]
    },
    {
     "data": {
      "text/plain": [
       "<AxesSubplot:title={'center':'Confusion Matrix'}, xlabel='Predicted label', ylabel='True label'>"
      ]
     },
     "execution_count": 54,
     "metadata": {},
     "output_type": "execute_result"
    },
    {
     "data": {
      "image/png": "[encoded data removed]",
      "text/plain": [
       "<Figure size 432x288 with 2 Axes>"
      ]
     },
     "metadata": {},
     "output_type": "display_data"
    }
   ],
   "source": [
    "print(\"\\n The model accuracy on train set is\",clf.score(X_train,y_train))\n",
    "print(\"\\n The model accuracy on test set is\",clf.score(X_test,y_test))\n",
    "\n",
    "y_predict=clf.predict(X_test)\n",
    "accuracy=accuracy_score(y_test,y_predict,normalize=True)*float(100)\n",
    "print('\\n\\n Classification Report')\n",
    "print(classification_report(y_test,y_predict))\n",
    "skplt.plot_confusion_matrix(y_test,y_predict)"
   ]
  },
  {
   "cell_type": "code",
   "execution_count": 55,
   "id": "1cbf5788",
   "metadata": {},
   "outputs": [
    {
     "data": {
      "text/plain": [
       "24     0.035130\n",
       "200    0.032737\n",
       "119    0.027746\n",
       "203    0.024956\n",
       "135    0.020424\n",
       "         ...   \n",
       "3      0.000210\n",
       "175    0.000153\n",
       "64     0.000112\n",
       "18     0.000102\n",
       "0      0.000000\n",
       "Length: 210, dtype: float64"
      ]
     },
     "execution_count": 55,
     "metadata": {},
     "output_type": "execute_result"
    }
   ],
   "source": [
    "# view the feature scores\n",
    "\n",
    "feature_scores = pd.Series(clf.feature_importances_, index=X_train.columns).sort_values(ascending=False)\n",
    "\n",
    "feature_scores"
   ]
  },
  {
   "cell_type": "code",
   "execution_count": 56,
   "id": "82c31af3",
   "metadata": {},
   "outputs": [
    {
     "data": {
      "image/png": "[encoded data removed]",
      "text/plain": [
       "<Figure size 432x288 with 1 Axes>"
      ]
     },
     "metadata": {},
     "output_type": "display_data"
    }
   ],
   "source": [
    "# Creating a seaborn bar plot\n",
    "\n",
    "sns.barplot(x=feature_scores, y=feature_scores.index)\n",
    "# Add labels to the graph\n",
    "\n",
    "plt.xlabel('Feature Importance Score')\n",
    "plt.ylabel('Features')\n",
    "\n",
    "# Add title to the graph\n",
    "plt.title(\"Visualizing Important Features\")\n",
    "\n",
    "# Visualize the graph\n",
    "plt.show()"
   ]
  },
  {
   "cell_type": "code",
   "execution_count": 57,
   "id": "ee5475a9",
   "metadata": {},
   "outputs": [
    {
     "data": {
      "text/plain": [
       "[109,\n",
       " 37,\n",
       " 151,\n",
       " 82,\n",
       " 190,\n",
       " 114,\n",
       " 208,\n",
       " 70,\n",
       " 169,\n",
       " 187,\n",
       " 134,\n",
       " 108,\n",
       " 204,\n",
       " 105,\n",
       " 36,\n",
       " 92,\n",
       " 63,\n",
       " 107,\n",
       " 48,\n",
       " 115,\n",
       " 113,\n",
       " 126,\n",
       " 47,\n",
       " 103,\n",
       " 104,\n",
       " 117,\n",
       " 196,\n",
       " 174,\n",
       " 139,\n",
       " 137,\n",
       " 130,\n",
       " 202,\n",
       " 112,\n",
       " 62,\n",
       " 181,\n",
       " 192,\n",
       " 207,\n",
       " 165,\n",
       " 4,\n",
       " 189,\n",
       " 185,\n",
       " 172,\n",
       " 12,\n",
       " 128,\n",
       " 164,\n",
       " 26,\n",
       " 91,\n",
       " 153,\n",
       " 163,\n",
       " 81,\n",
       " 43,\n",
       " 161,\n",
       " 206,\n",
       " 188,\n",
       " 106,\n",
       " 195,\n",
       " 22,\n",
       " 72,\n",
       " 75,\n",
       " 129,\n",
       " 74,\n",
       " 154,\n",
       " 33,\n",
       " 127,\n",
       " 35,\n",
       " 186,\n",
       " 209,\n",
       " 53,\n",
       " 183,\n",
       " 17,\n",
       " 191,\n",
       " 194,\n",
       " 97,\n",
       " 71,\n",
       " 149,\n",
       " 162,\n",
       " 89,\n",
       " 51,\n",
       " 31,\n",
       " 27,\n",
       " 110,\n",
       " 73,\n",
       " 6,\n",
       " 166,\n",
       " 83,\n",
       " 88,\n",
       " 131,\n",
       " 58,\n",
       " 15,\n",
       " 32,\n",
       " 98,\n",
       " 111,\n",
       " 148,\n",
       " 125,\n",
       " 150,\n",
       " 180,\n",
       " 144,\n",
       " 143,\n",
       " 10,\n",
       " 59,\n",
       " 100,\n",
       " 52,\n",
       " 87,\n",
       " 96,\n",
       " 69,\n",
       " 147,\n",
       " 182,\n",
       " 168,\n",
       " 66,\n",
       " 41,\n",
       " 157,\n",
       " 68,\n",
       " 42,\n",
       " 102,\n",
       " 124,\n",
       " 57,\n",
       " 133,\n",
       " 160,\n",
       " 142,\n",
       " 61,\n",
       " 122,\n",
       " 159,\n",
       " 99,\n",
       " 23,\n",
       " 56,\n",
       " 44,\n",
       " 20,\n",
       " 11,\n",
       " 46,\n",
       " 136,\n",
       " 146,\n",
       " 77,\n",
       " 177,\n",
       " 184,\n",
       " 16,\n",
       " 86,\n",
       " 141,\n",
       " 198,\n",
       " 28,\n",
       " 171,\n",
       " 50,\n",
       " 123,\n",
       " 7,\n",
       " 152,\n",
       " 201,\n",
       " 2,\n",
       " 30,\n",
       " 40,\n",
       " 121,\n",
       " 49,\n",
       " 140,\n",
       " 1,\n",
       " 55,\n",
       " 84,\n",
       " 179,\n",
       " 158,\n",
       " 21,\n",
       " 19,\n",
       " 156,\n",
       " 67,\n",
       " 54,\n",
       " 176,\n",
       " 120,\n",
       " 9,\n",
       " 95,\n",
       " 205,\n",
       " 178,\n",
       " 65,\n",
       " 145,\n",
       " 14,\n",
       " 39,\n",
       " 80,\n",
       " 13,\n",
       " 155,\n",
       " 5,\n",
       " 25,\n",
       " 3,\n",
       " 175,\n",
       " 64,\n",
       " 18,\n",
       " 0]"
      ]
     },
     "execution_count": 57,
     "metadata": {},
     "output_type": "execute_result"
    }
   ],
   "source": [
    "list(feature_scores[feature_scores < 0.01].index)"
   ]
  },
  {
   "cell_type": "markdown",
   "id": "d5198118",
   "metadata": {},
   "source": [
    "Building a model on selected features without the least important feature"
   ]
  },
  {
   "cell_type": "code",
   "execution_count": 58,
   "id": "fe8f5db8",
   "metadata": {},
   "outputs": [],
   "source": [
    "# declare feature vector and target variable, without the least important feature\n",
    "\n",
    "X1 = X.drop(list(feature_scores[feature_scores < 0.01].index), axis=1)\n",
    "\n",
    "y1 = df['target']"
   ]
  },
  {
   "cell_type": "code",
   "execution_count": 59,
   "id": "2113ec86",
   "metadata": {},
   "outputs": [],
   "source": [
    "# split data into training and testing sets\n",
    "\n",
    "from sklearn.model_selection import train_test_split\n",
    "\n",
    "X_train1, X_test1, y_train1, y_test1 = train_test_split(X1, y1, test_size = 0.33, random_state = 42)"
   ]
  },
  {
   "cell_type": "code",
   "execution_count": 60,
   "id": "affb27ef",
   "metadata": {},
   "outputs": [
    {
     "name": "stdout",
     "output_type": "stream",
     "text": [
      "Fitting 3 folds for each of 50 candidates, totalling 150 fits\n"
     ]
    },
    {
     "data": {
      "text/plain": [
       "RandomizedSearchCV(cv=3, estimator=RandomForestClassifier(), n_iter=50,\n",
       "                   n_jobs=-1,\n",
       "                   param_distributions={'bootstrap': [True, False],\n",
       "                                        'max_depth': [2, None],\n",
       "                                        'max_features': ['auto', 'sqrt'],\n",
       "                                        'min_samples_leaf': [1, 2, 4, 5],\n",
       "                                        'min_samples_split': [2, 3, 4, 5, 7,\n",
       "                                                              10],\n",
       "                                        'n_estimators': [400, 600, 800, 1000,\n",
       "                                                         1200]},\n",
       "                   random_state=42, verbose=2)"
      ]
     },
     "execution_count": 60,
     "metadata": {},
     "output_type": "execute_result"
    }
   ],
   "source": [
    "# Use the random grid to search for best hyperparameters\n",
    "# First create the base model to tune\n",
    "rf = RandomForestClassifier()\n",
    "# Random search of parameters, using 3 fold cross validation, \n",
    "# search across 100 different combinations, and use all available cores\n",
    "rf_random = RandomizedSearchCV(estimator = rf, param_distributions = random_grid, n_iter = 50, cv = 3, verbose=2, random_state=42, n_jobs = -1)\n",
    "# Fit the random search model\n",
    "rf_random.fit(X_train1, y_train1)"
   ]
  },
  {
   "cell_type": "code",
   "execution_count": 61,
   "id": "4a236a9e",
   "metadata": {},
   "outputs": [
    {
     "data": {
      "text/plain": [
       "{'n_estimators': 600,\n",
       " 'min_samples_split': 7,\n",
       " 'min_samples_leaf': 1,\n",
       " 'max_features': 'auto',\n",
       " 'max_depth': None,\n",
       " 'bootstrap': True}"
      ]
     },
     "execution_count": 61,
     "metadata": {},
     "output_type": "execute_result"
    }
   ],
   "source": [
    "# Printing the best hyperparameters\n",
    "\n",
    "rf_random.best_params_"
   ]
  },
  {
   "cell_type": "code",
   "execution_count": 62,
   "id": "7bf9fc9f",
   "metadata": {},
   "outputs": [
    {
     "name": "stdout",
     "output_type": "stream",
     "text": [
      "The best model is  RandomForestClassifier(min_samples_split=7, n_estimators=600)\n",
      "\n",
      " The best model parameters are  {'n_estimators': 600, 'min_samples_split': 7, 'min_samples_leaf': 1, 'max_features': 'auto', 'max_depth': None, 'bootstrap': True}\n",
      "\n",
      " The model accuracy on train set is 0.9904926534140017\n",
      "\n",
      " The model accuracy on test set is 0.9597197898423818\n",
      "\n",
      "\n",
      " Classification Report\n",
      "              precision    recall  f1-score   support\n",
      "\n",
      "         acc       0.91      0.91      0.91       129\n",
      "        good       0.70      0.95      0.81        20\n",
      "       unacc       1.00      0.98      0.99       397\n",
      "       vgood       0.85      0.92      0.88        25\n",
      "\n",
      "    accuracy                           0.96       571\n",
      "   macro avg       0.87      0.94      0.90       571\n",
      "weighted avg       0.96      0.96      0.96       571\n",
      "\n"
     ]
    },
    {
     "data": {
      "text/plain": [
       "<AxesSubplot:title={'center':'Confusion Matrix'}, xlabel='Predicted label', ylabel='True label'>"
      ]
     },
     "execution_count": 62,
     "metadata": {},
     "output_type": "execute_result"
    },
    {
     "data": {
      "image/png": "[encoded data removed]",
      "text/plain": [
       "<Figure size 432x288 with 2 Axes>"
      ]
     },
     "metadata": {},
     "output_type": "display_data"
    }
   ],
   "source": [
    "# Checking accuracies on the train and test data, predicting on the test data.\n",
    "\n",
    "print('The best model is ', rf_random.best_estimator_)\n",
    "print(\"\\n The best model parameters are \",rf_random.best_params_)\n",
    "print(\"\\n The model accuracy on train set is\",rf_random.score(X_train1,y_train1))\n",
    "print(\"\\n The model accuracy on test set is\",rf_random.score(X_test1,y_test1))\n",
    "\n",
    "y_predict=rf_random.predict(X_test1)\n",
    "accuracy=accuracy_score(y_test1,y_predict,normalize=True)*float(100)\n",
    "print('\\n\\n Classification Report')\n",
    "print(classification_report(y_test1,y_predict))\n",
    "skplt.plot_confusion_matrix(y_test1,y_predict)"
   ]
  },
  {
   "cell_type": "markdown",
   "id": "0259dd2c",
   "metadata": {},
   "source": [
    "## Using SMOTE for Upsampling"
   ]
  },
  {
   "cell_type": "code",
   "execution_count": 63,
   "id": "31fdd5e6",
   "metadata": {},
   "outputs": [
    {
     "data": {
      "text/html": [
       "<div>\n",
       "<style scoped>\n",
       "    .dataframe tbody tr th:only-of-type {\n",
       "        vertical-align: middle;\n",
       "    }\n",
       "\n",
       "    .dataframe tbody tr th {\n",
       "        vertical-align: top;\n",
       "    }\n",
       "\n",
       "    .dataframe thead th {\n",
       "        text-align: right;\n",
       "    }\n",
       "</style>\n",
       "<table border=\"1\" class=\"dataframe\">\n",
       "  <thead>\n",
       "    <tr style=\"text-align: right;\">\n",
       "      <th></th>\n",
       "      <th>0</th>\n",
       "      <th>1</th>\n",
       "      <th>2</th>\n",
       "      <th>3</th>\n",
       "      <th>4</th>\n",
       "      <th>5</th>\n",
       "      <th>6</th>\n",
       "      <th>7</th>\n",
       "      <th>8</th>\n",
       "      <th>9</th>\n",
       "      <th>...</th>\n",
       "      <th>200</th>\n",
       "      <th>201</th>\n",
       "      <th>202</th>\n",
       "      <th>203</th>\n",
       "      <th>204</th>\n",
       "      <th>205</th>\n",
       "      <th>206</th>\n",
       "      <th>207</th>\n",
       "      <th>208</th>\n",
       "      <th>209</th>\n",
       "    </tr>\n",
       "  </thead>\n",
       "  <tbody>\n",
       "    <tr>\n",
       "      <th>1178</th>\n",
       "      <td>1.0</td>\n",
       "      <td>3.0</td>\n",
       "      <td>3.0</td>\n",
       "      <td>4.0</td>\n",
       "      <td>2.0</td>\n",
       "      <td>3.0</td>\n",
       "      <td>3.0</td>\n",
       "      <td>9.0</td>\n",
       "      <td>9.0</td>\n",
       "      <td>12.0</td>\n",
       "      <td>...</td>\n",
       "      <td>36.0</td>\n",
       "      <td>54.0</td>\n",
       "      <td>54.0</td>\n",
       "      <td>54.0</td>\n",
       "      <td>54.0</td>\n",
       "      <td>81.0</td>\n",
       "      <td>81.0</td>\n",
       "      <td>81.0</td>\n",
       "      <td>81.0</td>\n",
       "      <td>81.0</td>\n",
       "    </tr>\n",
       "    <tr>\n",
       "      <th>585</th>\n",
       "      <td>1.0</td>\n",
       "      <td>2.0</td>\n",
       "      <td>2.0</td>\n",
       "      <td>2.0</td>\n",
       "      <td>3.0</td>\n",
       "      <td>1.0</td>\n",
       "      <td>1.0</td>\n",
       "      <td>4.0</td>\n",
       "      <td>4.0</td>\n",
       "      <td>4.0</td>\n",
       "      <td>...</td>\n",
       "      <td>9.0</td>\n",
       "      <td>3.0</td>\n",
       "      <td>3.0</td>\n",
       "      <td>3.0</td>\n",
       "      <td>3.0</td>\n",
       "      <td>1.0</td>\n",
       "      <td>1.0</td>\n",
       "      <td>1.0</td>\n",
       "      <td>1.0</td>\n",
       "      <td>1.0</td>\n",
       "    </tr>\n",
       "    <tr>\n",
       "      <th>1552</th>\n",
       "      <td>1.0</td>\n",
       "      <td>4.0</td>\n",
       "      <td>3.0</td>\n",
       "      <td>2.0</td>\n",
       "      <td>2.0</td>\n",
       "      <td>2.0</td>\n",
       "      <td>2.0</td>\n",
       "      <td>16.0</td>\n",
       "      <td>12.0</td>\n",
       "      <td>8.0</td>\n",
       "      <td>...</td>\n",
       "      <td>16.0</td>\n",
       "      <td>16.0</td>\n",
       "      <td>16.0</td>\n",
       "      <td>16.0</td>\n",
       "      <td>16.0</td>\n",
       "      <td>16.0</td>\n",
       "      <td>16.0</td>\n",
       "      <td>16.0</td>\n",
       "      <td>16.0</td>\n",
       "      <td>16.0</td>\n",
       "    </tr>\n",
       "    <tr>\n",
       "      <th>1169</th>\n",
       "      <td>1.0</td>\n",
       "      <td>3.0</td>\n",
       "      <td>3.0</td>\n",
       "      <td>4.0</td>\n",
       "      <td>1.0</td>\n",
       "      <td>3.0</td>\n",
       "      <td>3.0</td>\n",
       "      <td>9.0</td>\n",
       "      <td>9.0</td>\n",
       "      <td>12.0</td>\n",
       "      <td>...</td>\n",
       "      <td>9.0</td>\n",
       "      <td>27.0</td>\n",
       "      <td>27.0</td>\n",
       "      <td>27.0</td>\n",
       "      <td>27.0</td>\n",
       "      <td>81.0</td>\n",
       "      <td>81.0</td>\n",
       "      <td>81.0</td>\n",
       "      <td>81.0</td>\n",
       "      <td>81.0</td>\n",
       "    </tr>\n",
       "    <tr>\n",
       "      <th>1033</th>\n",
       "      <td>1.0</td>\n",
       "      <td>3.0</td>\n",
       "      <td>2.0</td>\n",
       "      <td>3.0</td>\n",
       "      <td>1.0</td>\n",
       "      <td>3.0</td>\n",
       "      <td>2.0</td>\n",
       "      <td>9.0</td>\n",
       "      <td>6.0</td>\n",
       "      <td>9.0</td>\n",
       "      <td>...</td>\n",
       "      <td>4.0</td>\n",
       "      <td>27.0</td>\n",
       "      <td>18.0</td>\n",
       "      <td>12.0</td>\n",
       "      <td>8.0</td>\n",
       "      <td>81.0</td>\n",
       "      <td>54.0</td>\n",
       "      <td>36.0</td>\n",
       "      <td>24.0</td>\n",
       "      <td>16.0</td>\n",
       "    </tr>\n",
       "    <tr>\n",
       "      <th>...</th>\n",
       "      <td>...</td>\n",
       "      <td>...</td>\n",
       "      <td>...</td>\n",
       "      <td>...</td>\n",
       "      <td>...</td>\n",
       "      <td>...</td>\n",
       "      <td>...</td>\n",
       "      <td>...</td>\n",
       "      <td>...</td>\n",
       "      <td>...</td>\n",
       "      <td>...</td>\n",
       "      <td>...</td>\n",
       "      <td>...</td>\n",
       "      <td>...</td>\n",
       "      <td>...</td>\n",
       "      <td>...</td>\n",
       "      <td>...</td>\n",
       "      <td>...</td>\n",
       "      <td>...</td>\n",
       "      <td>...</td>\n",
       "      <td>...</td>\n",
       "    </tr>\n",
       "    <tr>\n",
       "      <th>1130</th>\n",
       "      <td>1.0</td>\n",
       "      <td>3.0</td>\n",
       "      <td>3.0</td>\n",
       "      <td>2.0</td>\n",
       "      <td>3.0</td>\n",
       "      <td>2.0</td>\n",
       "      <td>3.0</td>\n",
       "      <td>9.0</td>\n",
       "      <td>9.0</td>\n",
       "      <td>6.0</td>\n",
       "      <td>...</td>\n",
       "      <td>81.0</td>\n",
       "      <td>24.0</td>\n",
       "      <td>36.0</td>\n",
       "      <td>54.0</td>\n",
       "      <td>81.0</td>\n",
       "      <td>16.0</td>\n",
       "      <td>24.0</td>\n",
       "      <td>36.0</td>\n",
       "      <td>54.0</td>\n",
       "      <td>81.0</td>\n",
       "    </tr>\n",
       "    <tr>\n",
       "      <th>1294</th>\n",
       "      <td>1.0</td>\n",
       "      <td>3.0</td>\n",
       "      <td>4.0</td>\n",
       "      <td>4.0</td>\n",
       "      <td>3.0</td>\n",
       "      <td>3.0</td>\n",
       "      <td>2.0</td>\n",
       "      <td>9.0</td>\n",
       "      <td>12.0</td>\n",
       "      <td>12.0</td>\n",
       "      <td>...</td>\n",
       "      <td>36.0</td>\n",
       "      <td>81.0</td>\n",
       "      <td>54.0</td>\n",
       "      <td>36.0</td>\n",
       "      <td>24.0</td>\n",
       "      <td>81.0</td>\n",
       "      <td>54.0</td>\n",
       "      <td>36.0</td>\n",
       "      <td>24.0</td>\n",
       "      <td>16.0</td>\n",
       "    </tr>\n",
       "    <tr>\n",
       "      <th>860</th>\n",
       "      <td>1.0</td>\n",
       "      <td>2.0</td>\n",
       "      <td>4.0</td>\n",
       "      <td>4.0</td>\n",
       "      <td>3.0</td>\n",
       "      <td>2.0</td>\n",
       "      <td>3.0</td>\n",
       "      <td>4.0</td>\n",
       "      <td>8.0</td>\n",
       "      <td>8.0</td>\n",
       "      <td>...</td>\n",
       "      <td>81.0</td>\n",
       "      <td>24.0</td>\n",
       "      <td>36.0</td>\n",
       "      <td>54.0</td>\n",
       "      <td>81.0</td>\n",
       "      <td>16.0</td>\n",
       "      <td>24.0</td>\n",
       "      <td>36.0</td>\n",
       "      <td>54.0</td>\n",
       "      <td>81.0</td>\n",
       "    </tr>\n",
       "    <tr>\n",
       "      <th>1459</th>\n",
       "      <td>1.0</td>\n",
       "      <td>4.0</td>\n",
       "      <td>2.0</td>\n",
       "      <td>3.0</td>\n",
       "      <td>1.0</td>\n",
       "      <td>1.0</td>\n",
       "      <td>2.0</td>\n",
       "      <td>16.0</td>\n",
       "      <td>8.0</td>\n",
       "      <td>12.0</td>\n",
       "      <td>...</td>\n",
       "      <td>4.0</td>\n",
       "      <td>1.0</td>\n",
       "      <td>2.0</td>\n",
       "      <td>4.0</td>\n",
       "      <td>8.0</td>\n",
       "      <td>1.0</td>\n",
       "      <td>2.0</td>\n",
       "      <td>4.0</td>\n",
       "      <td>8.0</td>\n",
       "      <td>16.0</td>\n",
       "    </tr>\n",
       "    <tr>\n",
       "      <th>1126</th>\n",
       "      <td>1.0</td>\n",
       "      <td>3.0</td>\n",
       "      <td>3.0</td>\n",
       "      <td>2.0</td>\n",
       "      <td>3.0</td>\n",
       "      <td>1.0</td>\n",
       "      <td>2.0</td>\n",
       "      <td>9.0</td>\n",
       "      <td>9.0</td>\n",
       "      <td>6.0</td>\n",
       "      <td>...</td>\n",
       "      <td>36.0</td>\n",
       "      <td>3.0</td>\n",
       "      <td>6.0</td>\n",
       "      <td>12.0</td>\n",
       "      <td>24.0</td>\n",
       "      <td>1.0</td>\n",
       "      <td>2.0</td>\n",
       "      <td>4.0</td>\n",
       "      <td>8.0</td>\n",
       "      <td>16.0</td>\n",
       "    </tr>\n",
       "  </tbody>\n",
       "</table>\n",
       "<p>1209 rows × 210 columns</p>\n",
       "</div>"
      ],
      "text/plain": [
       "      0    1    2    3    4    5    6     7     8     9    ...   200   201  \\\n",
       "1178  1.0  3.0  3.0  4.0  2.0  3.0  3.0   9.0   9.0  12.0  ...  36.0  54.0   \n",
       "585   1.0  2.0  2.0  2.0  3.0  1.0  1.0   4.0   4.0   4.0  ...   9.0   3.0   \n",
       "1552  1.0  4.0  3.0  2.0  2.0  2.0  2.0  16.0  12.0   8.0  ...  16.0  16.0   \n",
       "1169  1.0  3.0  3.0  4.0  1.0  3.0  3.0   9.0   9.0  12.0  ...   9.0  27.0   \n",
       "1033  1.0  3.0  2.0  3.0  1.0  3.0  2.0   9.0   6.0   9.0  ...   4.0  27.0   \n",
       "...   ...  ...  ...  ...  ...  ...  ...   ...   ...   ...  ...   ...   ...   \n",
       "1130  1.0  3.0  3.0  2.0  3.0  2.0  3.0   9.0   9.0   6.0  ...  81.0  24.0   \n",
       "1294  1.0  3.0  4.0  4.0  3.0  3.0  2.0   9.0  12.0  12.0  ...  36.0  81.0   \n",
       "860   1.0  2.0  4.0  4.0  3.0  2.0  3.0   4.0   8.0   8.0  ...  81.0  24.0   \n",
       "1459  1.0  4.0  2.0  3.0  1.0  1.0  2.0  16.0   8.0  12.0  ...   4.0   1.0   \n",
       "1126  1.0  3.0  3.0  2.0  3.0  1.0  2.0   9.0   9.0   6.0  ...  36.0   3.0   \n",
       "\n",
       "       202   203   204   205   206   207   208   209  \n",
       "1178  54.0  54.0  54.0  81.0  81.0  81.0  81.0  81.0  \n",
       "585    3.0   3.0   3.0   1.0   1.0   1.0   1.0   1.0  \n",
       "1552  16.0  16.0  16.0  16.0  16.0  16.0  16.0  16.0  \n",
       "1169  27.0  27.0  27.0  81.0  81.0  81.0  81.0  81.0  \n",
       "1033  18.0  12.0   8.0  81.0  54.0  36.0  24.0  16.0  \n",
       "...    ...   ...   ...   ...   ...   ...   ...   ...  \n",
       "1130  36.0  54.0  81.0  16.0  24.0  36.0  54.0  81.0  \n",
       "1294  54.0  36.0  24.0  81.0  54.0  36.0  24.0  16.0  \n",
       "860   36.0  54.0  81.0  16.0  24.0  36.0  54.0  81.0  \n",
       "1459   2.0   4.0   8.0   1.0   2.0   4.0   8.0  16.0  \n",
       "1126   6.0  12.0  24.0   1.0   2.0   4.0   8.0  16.0  \n",
       "\n",
       "[1209 rows x 210 columns]"
      ]
     },
     "execution_count": 63,
     "metadata": {},
     "output_type": "execute_result"
    }
   ],
   "source": [
    "X_train"
   ]
  },
  {
   "cell_type": "code",
   "execution_count": 64,
   "id": "4bc22ba8",
   "metadata": {},
   "outputs": [
    {
     "data": {
      "text/plain": [
       "1178    vgood\n",
       "585     unacc\n",
       "1552      acc\n",
       "1169    unacc\n",
       "1033    unacc\n",
       "        ...  \n",
       "1130    vgood\n",
       "1294     good\n",
       "860       acc\n",
       "1459    unacc\n",
       "1126      acc\n",
       "Name: target, Length: 1209, dtype: object"
      ]
     },
     "execution_count": 64,
     "metadata": {},
     "output_type": "execute_result"
    }
   ],
   "source": [
    "y_train"
   ]
  },
  {
   "cell_type": "code",
   "execution_count": 65,
   "id": "fe6458b2",
   "metadata": {
    "scrolled": true
   },
   "outputs": [
    {
     "name": "stdout",
     "output_type": "stream",
     "text": [
      "Class=3, n=852 (25.000%)\n",
      "Class=2, n=852 (25.000%)\n",
      "Class=0, n=852 (25.000%)\n",
      "Class=1, n=852 (25.000%)\n"
     ]
    },
    {
     "data": {
      "image/png": "[encoded data removed]",
      "text/plain": [
       "<Figure size 432x288 with 1 Axes>"
      ]
     },
     "metadata": {},
     "output_type": "display_data"
    }
   ],
   "source": [
    "from imblearn.over_sampling import SMOTE\n",
    "from collections import Counter\n",
    "from matplotlib import pyplot\n",
    "from sklearn.preprocessing import LabelEncoder\n",
    "\n",
    "# label encode the target variable\n",
    "y = LabelEncoder().fit_transform(y_train)\n",
    "# transform the dataset\n",
    "oversample = SMOTE()\n",
    "X, y = oversample.fit_resample(X_train, y)\n",
    "# summarize distribution\n",
    "counter = Counter(y)\n",
    "for k,v in counter.items():\n",
    "\tper = v / len(y) * 100\n",
    "\tprint('Class=%d, n=%d (%.3f%%)' % (k, v, per))\n",
    "# plot the distribution\n",
    "pyplot.bar(counter.keys(), counter.values())\n",
    "pyplot.show()"
   ]
  },
  {
   "cell_type": "code",
   "execution_count": 66,
   "id": "4e6fe310",
   "metadata": {},
   "outputs": [],
   "source": [
    "X_train = X\n",
    "y_train = y"
   ]
  },
  {
   "cell_type": "code",
   "execution_count": 68,
   "id": "98dcffdc",
   "metadata": {},
   "outputs": [],
   "source": [
    "y_test = LabelEncoder().fit_transform(y_test)"
   ]
  },
  {
   "cell_type": "code",
   "execution_count": 69,
   "id": "56ec61dc",
   "metadata": {},
   "outputs": [
    {
     "name": "stdout",
     "output_type": "stream",
     "text": [
      "{'n_estimators': [400, 600, 800, 1000, 1200], 'max_features': ['auto', 'sqrt'], 'max_depth': [2, None], 'min_samples_split': [2, 3, 4, 5, 7, 10], 'min_samples_leaf': [1, 2, 4, 5], 'bootstrap': [True, False]}\n"
     ]
    }
   ],
   "source": [
    "# Importing and defining the random search feature space.\n",
    "from sklearn.ensemble import RandomForestClassifier\n",
    "\n",
    "from sklearn.model_selection import RandomizedSearchCV\n",
    "\n",
    "# Number of trees in random forest\n",
    "n_estimators = [int(x) for x in range(400,1400,200)]\n",
    "# Number of features to consider at every split\n",
    "max_features = ['auto', 'sqrt']\n",
    "# Maximum number of levels in tree\n",
    "max_depth = [int(x) for x in np.linspace(2, 15, num = 1)]\n",
    "max_depth.append(None)\n",
    "# Minimum number of samples required to split a node\n",
    "min_samples_split = [ 2,3, 4, 5, 7,10]\n",
    "# Minimum number of samples required at each leaf node\n",
    "min_samples_leaf = [1, 2, 4, 5]\n",
    "# Method of selecting samples for training each tree\n",
    "bootstrap = [True, False]\n",
    "# Create the random grid\n",
    "random_grid = {'n_estimators': n_estimators,\n",
    "               'max_features': max_features,\n",
    "               'max_depth': max_depth,\n",
    "               'min_samples_split': min_samples_split,\n",
    "               'min_samples_leaf': min_samples_leaf,\n",
    "               'bootstrap': bootstrap}\n",
    "print(random_grid)"
   ]
  },
  {
   "cell_type": "code",
   "execution_count": 70,
   "id": "affb27ef",
   "metadata": {},
   "outputs": [
    {
     "name": "stdout",
     "output_type": "stream",
     "text": [
      "Fitting 3 folds for each of 30 candidates, totalling 90 fits\n"
     ]
    },
    {
     "data": {
      "text/plain": [
       "RandomizedSearchCV(cv=3, estimator=RandomForestClassifier(), n_iter=30,\n",
       "                   n_jobs=-1,\n",
       "                   param_distributions={'bootstrap': [True, False],\n",
       "                                        'max_depth': [2, None],\n",
       "                                        'max_features': ['auto', 'sqrt'],\n",
       "                                        'min_samples_leaf': [1, 2, 4, 5],\n",
       "                                        'min_samples_split': [2, 3, 4, 5, 7,\n",
       "                                                              10],\n",
       "                                        'n_estimators': [400, 600, 800, 1000,\n",
       "                                                         1200]},\n",
       "                   random_state=42, verbose=2)"
      ]
     },
     "execution_count": 70,
     "metadata": {},
     "output_type": "execute_result"
    }
   ],
   "source": [
    "# Use the random grid to search for best hyperparameters\n",
    "# First create the base model to tune\n",
    "rf = RandomForestClassifier()\n",
    "# Random search of parameters, using 3 fold cross validation, \n",
    "# search across 100 different combinations, and use all available cores\n",
    "rf_random = RandomizedSearchCV(estimator = rf, param_distributions = random_grid, n_iter = 30, cv = 3, verbose=2, random_state=42, n_jobs = -1)\n",
    "# Fit the random search model\n",
    "rf_random.fit(X_train, y_train)"
   ]
  },
  {
   "cell_type": "code",
   "execution_count": 71,
   "id": "4a236a9e",
   "metadata": {},
   "outputs": [
    {
     "data": {
      "text/plain": [
       "{'n_estimators': 600,\n",
       " 'min_samples_split': 5,\n",
       " 'min_samples_leaf': 1,\n",
       " 'max_features': 'auto',\n",
       " 'max_depth': None,\n",
       " 'bootstrap': False}"
      ]
     },
     "execution_count": 71,
     "metadata": {},
     "output_type": "execute_result"
    }
   ],
   "source": [
    "# Printing the best hyperparameters\n",
    "\n",
    "rf_random.best_params_"
   ]
  },
  {
   "cell_type": "code",
   "execution_count": 72,
   "id": "7bf9fc9f",
   "metadata": {},
   "outputs": [
    {
     "name": "stdout",
     "output_type": "stream",
     "text": [
      "The best model is  RandomForestClassifier(bootstrap=False, min_samples_split=5, n_estimators=600)\n",
      "\n",
      " The best model parameters are  {'n_estimators': 600, 'min_samples_split': 5, 'min_samples_leaf': 1, 'max_features': 'auto', 'max_depth': None, 'bootstrap': False}\n",
      "\n",
      " The model accuracy on train set is 1.0\n",
      "\n",
      " The model accuracy on test set is 0.9865125240847784\n",
      "\n",
      "\n",
      " Classification Report\n",
      "              precision    recall  f1-score   support\n",
      "\n",
      "           0       0.97      0.97      0.97       118\n",
      "           1       0.86      1.00      0.93        19\n",
      "           2       1.00      0.99      1.00       358\n",
      "           3       0.96      1.00      0.98        24\n",
      "\n",
      "    accuracy                           0.99       519\n",
      "   macro avg       0.95      0.99      0.97       519\n",
      "weighted avg       0.99      0.99      0.99       519\n",
      "\n"
     ]
    },
    {
     "data": {
      "text/plain": [
       "<AxesSubplot:title={'center':'Confusion Matrix'}, xlabel='Predicted label', ylabel='True label'>"
      ]
     },
     "execution_count": 72,
     "metadata": {},
     "output_type": "execute_result"
    },
    {
     "data": {
      "image/png": "[encoded data removed]",
      "text/plain": [
       "<Figure size 432x288 with 2 Axes>"
      ]
     },
     "metadata": {},
     "output_type": "display_data"
    }
   ],
   "source": [
    "# Checking accuracies on the train and test data, predicting on the test data.\n",
    "\n",
    "print('The best model is ', rf_random.best_estimator_)\n",
    "print(\"\\n The best model parameters are \",rf_random.best_params_)\n",
    "print(\"\\n The model accuracy on train set is\",rf_random.score(X_train,y_train))\n",
    "print(\"\\n The model accuracy on test set is\",rf_random.score(X_test,y_test))\n",
    "\n",
    "y_predict=rf_random.predict(X_test)\n",
    "accuracy=accuracy_score(y_test,y_predict,normalize=True)*float(100)\n",
    "print('\\n\\n Classification Report')\n",
    "print(classification_report(y_test,y_predict))\n",
    "skplt.plot_confusion_matrix(y_test,y_predict)"
   ]
  }
 ],
 "metadata": {
  "kernelspec": {
   "display_name": "Python 3 (ipykernel)",
   "language": "python",
   "name": "python3"
  },
  "language_info": {
   "codemirror_mode": {
    "name": "ipython",
    "version": 3
   },
   "file_extension": ".py",
   "mimetype": "text/x-python",
   "name": "python",
   "nbconvert_exporter": "python",
   "pygments_lexer": "ipython3",
   "version": "3.7.10"
  }
 },
 "nbformat": 4,
 "nbformat_minor": 5
}

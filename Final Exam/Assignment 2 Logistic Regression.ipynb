{
 "cells": [
  {
   "cell_type": "code",
   "execution_count": 2,
   "id": "163ef4c9",
   "metadata": {},
   "outputs": [],
   "source": [
    "# Importing the required Libraries\n",
    "import numpy as np\n",
    "import pandas as pd\n",
    "import matplotlib.pyplot as plt\n",
    "%matplotlib inline\n",
    "plt.style.use('seaborn-whitegrid')\n",
    "\n",
    "import seaborn as sns"
   ]
  },
  {
   "cell_type": "code",
   "execution_count": 3,
   "id": "1a8b72bc",
   "metadata": {},
   "outputs": [],
   "source": [
    "# Reading the data\n",
    "df = pd.read_csv('train.csv')\n",
    "\n",
    "df_test = pd.read_csv('test.csv')"
   ]
  },
  {
   "cell_type": "code",
   "execution_count": 4,
   "id": "f385c9ec",
   "metadata": {},
   "outputs": [
    {
     "data": {
      "text/html": [
       "<div>\n",
       "<style scoped>\n",
       "    .dataframe tbody tr th:only-of-type {\n",
       "        vertical-align: middle;\n",
       "    }\n",
       "\n",
       "    .dataframe tbody tr th {\n",
       "        vertical-align: top;\n",
       "    }\n",
       "\n",
       "    .dataframe thead th {\n",
       "        text-align: right;\n",
       "    }\n",
       "</style>\n",
       "<table border=\"1\" class=\"dataframe\">\n",
       "  <thead>\n",
       "    <tr style=\"text-align: right;\">\n",
       "      <th></th>\n",
       "      <th>PassengerId</th>\n",
       "      <th>Survived</th>\n",
       "      <th>Pclass</th>\n",
       "      <th>Name</th>\n",
       "      <th>Sex</th>\n",
       "      <th>Age</th>\n",
       "      <th>SibSp</th>\n",
       "      <th>Parch</th>\n",
       "      <th>Ticket</th>\n",
       "      <th>Fare</th>\n",
       "      <th>Cabin</th>\n",
       "      <th>Embarked</th>\n",
       "    </tr>\n",
       "  </thead>\n",
       "  <tbody>\n",
       "    <tr>\n",
       "      <th>0</th>\n",
       "      <td>1</td>\n",
       "      <td>0</td>\n",
       "      <td>3</td>\n",
       "      <td>Braund, Mr. Owen Harris</td>\n",
       "      <td>male</td>\n",
       "      <td>22.0</td>\n",
       "      <td>1</td>\n",
       "      <td>0</td>\n",
       "      <td>A/5 21171</td>\n",
       "      <td>7.2500</td>\n",
       "      <td>NaN</td>\n",
       "      <td>S</td>\n",
       "    </tr>\n",
       "    <tr>\n",
       "      <th>1</th>\n",
       "      <td>2</td>\n",
       "      <td>1</td>\n",
       "      <td>1</td>\n",
       "      <td>Cumings, Mrs. John Bradley (Florence Briggs Th...</td>\n",
       "      <td>female</td>\n",
       "      <td>38.0</td>\n",
       "      <td>1</td>\n",
       "      <td>0</td>\n",
       "      <td>PC 17599</td>\n",
       "      <td>71.2833</td>\n",
       "      <td>C85</td>\n",
       "      <td>C</td>\n",
       "    </tr>\n",
       "    <tr>\n",
       "      <th>2</th>\n",
       "      <td>3</td>\n",
       "      <td>1</td>\n",
       "      <td>3</td>\n",
       "      <td>Heikkinen, Miss. Laina</td>\n",
       "      <td>female</td>\n",
       "      <td>26.0</td>\n",
       "      <td>0</td>\n",
       "      <td>0</td>\n",
       "      <td>STON/O2. 3101282</td>\n",
       "      <td>7.9250</td>\n",
       "      <td>NaN</td>\n",
       "      <td>S</td>\n",
       "    </tr>\n",
       "    <tr>\n",
       "      <th>3</th>\n",
       "      <td>4</td>\n",
       "      <td>1</td>\n",
       "      <td>1</td>\n",
       "      <td>Futrelle, Mrs. Jacques Heath (Lily May Peel)</td>\n",
       "      <td>female</td>\n",
       "      <td>35.0</td>\n",
       "      <td>1</td>\n",
       "      <td>0</td>\n",
       "      <td>113803</td>\n",
       "      <td>53.1000</td>\n",
       "      <td>C123</td>\n",
       "      <td>S</td>\n",
       "    </tr>\n",
       "    <tr>\n",
       "      <th>4</th>\n",
       "      <td>5</td>\n",
       "      <td>0</td>\n",
       "      <td>3</td>\n",
       "      <td>Allen, Mr. William Henry</td>\n",
       "      <td>male</td>\n",
       "      <td>35.0</td>\n",
       "      <td>0</td>\n",
       "      <td>0</td>\n",
       "      <td>373450</td>\n",
       "      <td>8.0500</td>\n",
       "      <td>NaN</td>\n",
       "      <td>S</td>\n",
       "    </tr>\n",
       "  </tbody>\n",
       "</table>\n",
       "</div>"
      ],
      "text/plain": [
       "   PassengerId  Survived  Pclass  \\\n",
       "0            1         0       3   \n",
       "1            2         1       1   \n",
       "2            3         1       3   \n",
       "3            4         1       1   \n",
       "4            5         0       3   \n",
       "\n",
       "                                                Name     Sex   Age  SibSp  \\\n",
       "0                            Braund, Mr. Owen Harris    male  22.0      1   \n",
       "1  Cumings, Mrs. John Bradley (Florence Briggs Th...  female  38.0      1   \n",
       "2                             Heikkinen, Miss. Laina  female  26.0      0   \n",
       "3       Futrelle, Mrs. Jacques Heath (Lily May Peel)  female  35.0      1   \n",
       "4                           Allen, Mr. William Henry    male  35.0      0   \n",
       "\n",
       "   Parch            Ticket     Fare Cabin Embarked  \n",
       "0      0         A/5 21171   7.2500   NaN        S  \n",
       "1      0          PC 17599  71.2833   C85        C  \n",
       "2      0  STON/O2. 3101282   7.9250   NaN        S  \n",
       "3      0            113803  53.1000  C123        S  \n",
       "4      0            373450   8.0500   NaN        S  "
      ]
     },
     "execution_count": 4,
     "metadata": {},
     "output_type": "execute_result"
    }
   ],
   "source": [
    "df.head()"
   ]
  },
  {
   "cell_type": "code",
   "execution_count": 5,
   "id": "96db7982",
   "metadata": {},
   "outputs": [
    {
     "name": "stdout",
     "output_type": "stream",
     "text": [
      "<class 'pandas.core.frame.DataFrame'>\n",
      "RangeIndex: 891 entries, 0 to 890\n",
      "Data columns (total 12 columns):\n",
      " #   Column       Non-Null Count  Dtype  \n",
      "---  ------       --------------  -----  \n",
      " 0   PassengerId  891 non-null    int64  \n",
      " 1   Survived     891 non-null    int64  \n",
      " 2   Pclass       891 non-null    int64  \n",
      " 3   Name         891 non-null    object \n",
      " 4   Sex          891 non-null    object \n",
      " 5   Age          714 non-null    float64\n",
      " 6   SibSp        891 non-null    int64  \n",
      " 7   Parch        891 non-null    int64  \n",
      " 8   Ticket       891 non-null    object \n",
      " 9   Fare         891 non-null    float64\n",
      " 10  Cabin        204 non-null    object \n",
      " 11  Embarked     889 non-null    object \n",
      "dtypes: float64(2), int64(5), object(5)\n",
      "memory usage: 83.7+ KB\n"
     ]
    }
   ],
   "source": [
    "df.info()"
   ]
  },
  {
   "cell_type": "code",
   "execution_count": 6,
   "id": "17d9975c",
   "metadata": {},
   "outputs": [
    {
     "data": {
      "text/html": [
       "<div>\n",
       "<style scoped>\n",
       "    .dataframe tbody tr th:only-of-type {\n",
       "        vertical-align: middle;\n",
       "    }\n",
       "\n",
       "    .dataframe tbody tr th {\n",
       "        vertical-align: top;\n",
       "    }\n",
       "\n",
       "    .dataframe thead th {\n",
       "        text-align: right;\n",
       "    }\n",
       "</style>\n",
       "<table border=\"1\" class=\"dataframe\">\n",
       "  <thead>\n",
       "    <tr style=\"text-align: right;\">\n",
       "      <th></th>\n",
       "      <th>count</th>\n",
       "      <th>mean</th>\n",
       "      <th>std</th>\n",
       "      <th>min</th>\n",
       "      <th>25%</th>\n",
       "      <th>50%</th>\n",
       "      <th>75%</th>\n",
       "      <th>max</th>\n",
       "    </tr>\n",
       "  </thead>\n",
       "  <tbody>\n",
       "    <tr>\n",
       "      <th>PassengerId</th>\n",
       "      <td>891.0</td>\n",
       "      <td>446.000000</td>\n",
       "      <td>257.353842</td>\n",
       "      <td>1.00</td>\n",
       "      <td>223.5000</td>\n",
       "      <td>446.0000</td>\n",
       "      <td>668.5</td>\n",
       "      <td>891.0000</td>\n",
       "    </tr>\n",
       "    <tr>\n",
       "      <th>Survived</th>\n",
       "      <td>891.0</td>\n",
       "      <td>0.383838</td>\n",
       "      <td>0.486592</td>\n",
       "      <td>0.00</td>\n",
       "      <td>0.0000</td>\n",
       "      <td>0.0000</td>\n",
       "      <td>1.0</td>\n",
       "      <td>1.0000</td>\n",
       "    </tr>\n",
       "    <tr>\n",
       "      <th>Pclass</th>\n",
       "      <td>891.0</td>\n",
       "      <td>2.308642</td>\n",
       "      <td>0.836071</td>\n",
       "      <td>1.00</td>\n",
       "      <td>2.0000</td>\n",
       "      <td>3.0000</td>\n",
       "      <td>3.0</td>\n",
       "      <td>3.0000</td>\n",
       "    </tr>\n",
       "    <tr>\n",
       "      <th>Age</th>\n",
       "      <td>714.0</td>\n",
       "      <td>29.699118</td>\n",
       "      <td>14.526497</td>\n",
       "      <td>0.42</td>\n",
       "      <td>20.1250</td>\n",
       "      <td>28.0000</td>\n",
       "      <td>38.0</td>\n",
       "      <td>80.0000</td>\n",
       "    </tr>\n",
       "    <tr>\n",
       "      <th>SibSp</th>\n",
       "      <td>891.0</td>\n",
       "      <td>0.523008</td>\n",
       "      <td>1.102743</td>\n",
       "      <td>0.00</td>\n",
       "      <td>0.0000</td>\n",
       "      <td>0.0000</td>\n",
       "      <td>1.0</td>\n",
       "      <td>8.0000</td>\n",
       "    </tr>\n",
       "    <tr>\n",
       "      <th>Parch</th>\n",
       "      <td>891.0</td>\n",
       "      <td>0.381594</td>\n",
       "      <td>0.806057</td>\n",
       "      <td>0.00</td>\n",
       "      <td>0.0000</td>\n",
       "      <td>0.0000</td>\n",
       "      <td>0.0</td>\n",
       "      <td>6.0000</td>\n",
       "    </tr>\n",
       "    <tr>\n",
       "      <th>Fare</th>\n",
       "      <td>891.0</td>\n",
       "      <td>32.204208</td>\n",
       "      <td>49.693429</td>\n",
       "      <td>0.00</td>\n",
       "      <td>7.9104</td>\n",
       "      <td>14.4542</td>\n",
       "      <td>31.0</td>\n",
       "      <td>512.3292</td>\n",
       "    </tr>\n",
       "  </tbody>\n",
       "</table>\n",
       "</div>"
      ],
      "text/plain": [
       "             count        mean         std   min       25%       50%    75%  \\\n",
       "PassengerId  891.0  446.000000  257.353842  1.00  223.5000  446.0000  668.5   \n",
       "Survived     891.0    0.383838    0.486592  0.00    0.0000    0.0000    1.0   \n",
       "Pclass       891.0    2.308642    0.836071  1.00    2.0000    3.0000    3.0   \n",
       "Age          714.0   29.699118   14.526497  0.42   20.1250   28.0000   38.0   \n",
       "SibSp        891.0    0.523008    1.102743  0.00    0.0000    0.0000    1.0   \n",
       "Parch        891.0    0.381594    0.806057  0.00    0.0000    0.0000    0.0   \n",
       "Fare         891.0   32.204208   49.693429  0.00    7.9104   14.4542   31.0   \n",
       "\n",
       "                  max  \n",
       "PassengerId  891.0000  \n",
       "Survived       1.0000  \n",
       "Pclass         3.0000  \n",
       "Age           80.0000  \n",
       "SibSp          8.0000  \n",
       "Parch          6.0000  \n",
       "Fare         512.3292  "
      ]
     },
     "execution_count": 6,
     "metadata": {},
     "output_type": "execute_result"
    }
   ],
   "source": [
    "df.describe().transpose()"
   ]
  },
  {
   "cell_type": "code",
   "execution_count": 7,
   "id": "86156a18",
   "metadata": {},
   "outputs": [
    {
     "name": "stderr",
     "output_type": "stream",
     "text": [
      "C:\\Users\\hp\\Anaconda3\\lib\\site-packages\\seaborn\\_decorators.py:43: FutureWarning: Pass the following variable as a keyword arg: x. From version 0.12, the only valid positional argument will be `data`, and passing other arguments without an explicit keyword will result in an error or misinterpretation.\n",
      "  FutureWarning\n"
     ]
    },
    {
     "data": {
      "text/plain": [
       "Text(0.5, 1.0, 'Survived')"
      ]
     },
     "execution_count": 7,
     "metadata": {},
     "output_type": "execute_result"
    },
    {
     "data": {
      "image/png": "[encoded data removed]",
      "text/plain": [
       "<Figure size 1296x576 with 2 Axes>"
      ]
     },
     "metadata": {},
     "output_type": "display_data"
    }
   ],
   "source": [
    "f,ax=plt.subplots(1,2,figsize=(18,8))\n",
    "df['Survived'].value_counts().plot.pie(ax = ax[0], explode=[0,0.1],autopct='%1.1f%%',shadow=True)\n",
    "ax[0].set_title('Survived')\n",
    "ax[0].set_ylabel('')\n",
    "sns.countplot('Survived',data=df,ax=ax[1])\n",
    "ax[1].set_title('Survived')"
   ]
  },
  {
   "cell_type": "markdown",
   "id": "daaeba93",
   "metadata": {},
   "source": [
    "Overall Probability of Survival ~ 38%"
   ]
  },
  {
   "cell_type": "markdown",
   "id": "48046366",
   "metadata": {},
   "source": [
    "## Pre-processing, EDA and Feature Generation"
   ]
  },
  {
   "cell_type": "markdown",
   "id": "6f558c61",
   "metadata": {},
   "source": [
    "### Handling Missing Values"
   ]
  },
  {
   "cell_type": "markdown",
   "id": "5e7d0ae4",
   "metadata": {},
   "source": [
    "## Handling Age First"
   ]
  },
  {
   "cell_type": "code",
   "execution_count": 8,
   "id": "12b5c7d2",
   "metadata": {},
   "outputs": [
    {
     "data": {
      "text/plain": [
       "count    714.000000\n",
       "mean      29.699118\n",
       "std       14.526497\n",
       "min        0.420000\n",
       "25%       20.125000\n",
       "50%       28.000000\n",
       "75%       38.000000\n",
       "max       80.000000\n",
       "Name: Age, dtype: float64"
      ]
     },
     "execution_count": 8,
     "metadata": {},
     "output_type": "execute_result"
    }
   ],
   "source": [
    "df['Age'].describe()"
   ]
  },
  {
   "cell_type": "code",
   "execution_count": 9,
   "id": "b5f75c70",
   "metadata": {},
   "outputs": [
    {
     "data": {
      "text/html": [
       "<div>\n",
       "<style scoped>\n",
       "    .dataframe tbody tr th:only-of-type {\n",
       "        vertical-align: middle;\n",
       "    }\n",
       "\n",
       "    .dataframe tbody tr th {\n",
       "        vertical-align: top;\n",
       "    }\n",
       "\n",
       "    .dataframe thead th {\n",
       "        text-align: right;\n",
       "    }\n",
       "</style>\n",
       "<table border=\"1\" class=\"dataframe\">\n",
       "  <thead>\n",
       "    <tr style=\"text-align: right;\">\n",
       "      <th></th>\n",
       "      <th>PassengerId</th>\n",
       "      <th>Survived</th>\n",
       "      <th>Pclass</th>\n",
       "      <th>Age</th>\n",
       "      <th>SibSp</th>\n",
       "      <th>Parch</th>\n",
       "      <th>Fare</th>\n",
       "    </tr>\n",
       "  </thead>\n",
       "  <tbody>\n",
       "    <tr>\n",
       "      <th>PassengerId</th>\n",
       "      <td>1.000000</td>\n",
       "      <td>-0.005007</td>\n",
       "      <td>-0.035144</td>\n",
       "      <td>0.036847</td>\n",
       "      <td>-0.057527</td>\n",
       "      <td>-0.001652</td>\n",
       "      <td>0.012658</td>\n",
       "    </tr>\n",
       "    <tr>\n",
       "      <th>Survived</th>\n",
       "      <td>-0.005007</td>\n",
       "      <td>1.000000</td>\n",
       "      <td>-0.338481</td>\n",
       "      <td>-0.077221</td>\n",
       "      <td>-0.035322</td>\n",
       "      <td>0.081629</td>\n",
       "      <td>0.257307</td>\n",
       "    </tr>\n",
       "    <tr>\n",
       "      <th>Pclass</th>\n",
       "      <td>-0.035144</td>\n",
       "      <td>-0.338481</td>\n",
       "      <td>1.000000</td>\n",
       "      <td>-0.369226</td>\n",
       "      <td>0.083081</td>\n",
       "      <td>0.018443</td>\n",
       "      <td>-0.549500</td>\n",
       "    </tr>\n",
       "    <tr>\n",
       "      <th>Age</th>\n",
       "      <td>0.036847</td>\n",
       "      <td>-0.077221</td>\n",
       "      <td>-0.369226</td>\n",
       "      <td>1.000000</td>\n",
       "      <td>-0.308247</td>\n",
       "      <td>-0.189119</td>\n",
       "      <td>0.096067</td>\n",
       "    </tr>\n",
       "    <tr>\n",
       "      <th>SibSp</th>\n",
       "      <td>-0.057527</td>\n",
       "      <td>-0.035322</td>\n",
       "      <td>0.083081</td>\n",
       "      <td>-0.308247</td>\n",
       "      <td>1.000000</td>\n",
       "      <td>0.414838</td>\n",
       "      <td>0.159651</td>\n",
       "    </tr>\n",
       "    <tr>\n",
       "      <th>Parch</th>\n",
       "      <td>-0.001652</td>\n",
       "      <td>0.081629</td>\n",
       "      <td>0.018443</td>\n",
       "      <td>-0.189119</td>\n",
       "      <td>0.414838</td>\n",
       "      <td>1.000000</td>\n",
       "      <td>0.216225</td>\n",
       "    </tr>\n",
       "    <tr>\n",
       "      <th>Fare</th>\n",
       "      <td>0.012658</td>\n",
       "      <td>0.257307</td>\n",
       "      <td>-0.549500</td>\n",
       "      <td>0.096067</td>\n",
       "      <td>0.159651</td>\n",
       "      <td>0.216225</td>\n",
       "      <td>1.000000</td>\n",
       "    </tr>\n",
       "  </tbody>\n",
       "</table>\n",
       "</div>"
      ],
      "text/plain": [
       "             PassengerId  Survived    Pclass       Age     SibSp     Parch  \\\n",
       "PassengerId     1.000000 -0.005007 -0.035144  0.036847 -0.057527 -0.001652   \n",
       "Survived       -0.005007  1.000000 -0.338481 -0.077221 -0.035322  0.081629   \n",
       "Pclass         -0.035144 -0.338481  1.000000 -0.369226  0.083081  0.018443   \n",
       "Age             0.036847 -0.077221 -0.369226  1.000000 -0.308247 -0.189119   \n",
       "SibSp          -0.057527 -0.035322  0.083081 -0.308247  1.000000  0.414838   \n",
       "Parch          -0.001652  0.081629  0.018443 -0.189119  0.414838  1.000000   \n",
       "Fare            0.012658  0.257307 -0.549500  0.096067  0.159651  0.216225   \n",
       "\n",
       "                 Fare  \n",
       "PassengerId  0.012658  \n",
       "Survived     0.257307  \n",
       "Pclass      -0.549500  \n",
       "Age          0.096067  \n",
       "SibSp        0.159651  \n",
       "Parch        0.216225  \n",
       "Fare         1.000000  "
      ]
     },
     "execution_count": 9,
     "metadata": {},
     "output_type": "execute_result"
    }
   ],
   "source": [
    "df.corr()"
   ]
  },
  {
   "cell_type": "markdown",
   "id": "0ee99a4c",
   "metadata": {},
   "source": [
    "We see that the Pclass column has the maximum absolute correlation with our target class Survived."
   ]
  },
  {
   "cell_type": "code",
   "execution_count": 10,
   "id": "a82f3c62",
   "metadata": {},
   "outputs": [
    {
     "data": {
      "text/plain": [
       "Fare          -0.549500\n",
       "Age           -0.369226\n",
       "Survived      -0.338481\n",
       "PassengerId   -0.035144\n",
       "Parch          0.018443\n",
       "SibSp          0.083081\n",
       "Pclass         1.000000\n",
       "Name: Pclass, dtype: float64"
      ]
     },
     "execution_count": 10,
     "metadata": {},
     "output_type": "execute_result"
    }
   ],
   "source": [
    "df.corr()['Pclass'].sort_values()"
   ]
  },
  {
   "cell_type": "code",
   "execution_count": 11,
   "id": "9d687b42",
   "metadata": {},
   "outputs": [],
   "source": [
    "age_by_pclass_sex= df.groupby(['Sex','Pclass']).median()['Age']"
   ]
  },
  {
   "cell_type": "code",
   "execution_count": 12,
   "id": "dbd1db11",
   "metadata": {},
   "outputs": [
    {
     "data": {
      "text/plain": [
       "Sex     Pclass\n",
       "female  1         35.0\n",
       "        2         28.0\n",
       "        3         21.5\n",
       "male    1         40.0\n",
       "        2         30.0\n",
       "        3         25.0\n",
       "Name: Age, dtype: float64"
      ]
     },
     "execution_count": 12,
     "metadata": {},
     "output_type": "execute_result"
    }
   ],
   "source": [
    "age_by_pclass_sex"
   ]
  },
  {
   "cell_type": "code",
   "execution_count": 13,
   "id": "9ce9f7db",
   "metadata": {},
   "outputs": [
    {
     "data": {
      "text/plain": [
       "28.0"
      ]
     },
     "execution_count": 13,
     "metadata": {},
     "output_type": "execute_result"
    }
   ],
   "source": [
    "median_all = df['Age'].median()\n",
    "median_all"
   ]
  },
  {
   "cell_type": "code",
   "execution_count": 14,
   "id": "20fd3a0b",
   "metadata": {},
   "outputs": [],
   "source": [
    "df['Age'] = df.groupby(['Sex', 'Pclass'])['Age'].apply(lambda x:x.fillna(x.median()))"
   ]
  },
  {
   "cell_type": "code",
   "execution_count": 15,
   "id": "6c3752d0",
   "metadata": {},
   "outputs": [
    {
     "name": "stdout",
     "output_type": "stream",
     "text": [
      "<class 'pandas.core.frame.DataFrame'>\n",
      "RangeIndex: 891 entries, 0 to 890\n",
      "Data columns (total 12 columns):\n",
      " #   Column       Non-Null Count  Dtype  \n",
      "---  ------       --------------  -----  \n",
      " 0   PassengerId  891 non-null    int64  \n",
      " 1   Survived     891 non-null    int64  \n",
      " 2   Pclass       891 non-null    int64  \n",
      " 3   Name         891 non-null    object \n",
      " 4   Sex          891 non-null    object \n",
      " 5   Age          891 non-null    float64\n",
      " 6   SibSp        891 non-null    int64  \n",
      " 7   Parch        891 non-null    int64  \n",
      " 8   Ticket       891 non-null    object \n",
      " 9   Fare         891 non-null    float64\n",
      " 10  Cabin        204 non-null    object \n",
      " 11  Embarked     889 non-null    object \n",
      "dtypes: float64(2), int64(5), object(5)\n",
      "memory usage: 83.7+ KB\n"
     ]
    }
   ],
   "source": [
    "df.info()"
   ]
  },
  {
   "cell_type": "markdown",
   "id": "e2fcc84d",
   "metadata": {},
   "source": [
    "## Let's jump to Embarked"
   ]
  },
  {
   "cell_type": "code",
   "execution_count": 16,
   "id": "3d8d983a",
   "metadata": {},
   "outputs": [
    {
     "data": {
      "text/plain": [
       "count     889\n",
       "unique      3\n",
       "top         S\n",
       "freq      644\n",
       "Name: Embarked, dtype: object"
      ]
     },
     "execution_count": 16,
     "metadata": {},
     "output_type": "execute_result"
    }
   ],
   "source": [
    "df['Embarked'].describe()"
   ]
  },
  {
   "cell_type": "markdown",
   "id": "596ef374",
   "metadata": {},
   "source": [
    "only two values are missing!"
   ]
  },
  {
   "cell_type": "code",
   "execution_count": 17,
   "id": "1f059ff1",
   "metadata": {},
   "outputs": [
    {
     "data": {
      "text/html": [
       "<div>\n",
       "<style scoped>\n",
       "    .dataframe tbody tr th:only-of-type {\n",
       "        vertical-align: middle;\n",
       "    }\n",
       "\n",
       "    .dataframe tbody tr th {\n",
       "        vertical-align: top;\n",
       "    }\n",
       "\n",
       "    .dataframe thead th {\n",
       "        text-align: right;\n",
       "    }\n",
       "</style>\n",
       "<table border=\"1\" class=\"dataframe\">\n",
       "  <thead>\n",
       "    <tr style=\"text-align: right;\">\n",
       "      <th></th>\n",
       "      <th>PassengerId</th>\n",
       "      <th>Survived</th>\n",
       "      <th>Pclass</th>\n",
       "      <th>Name</th>\n",
       "      <th>Sex</th>\n",
       "      <th>Age</th>\n",
       "      <th>SibSp</th>\n",
       "      <th>Parch</th>\n",
       "      <th>Ticket</th>\n",
       "      <th>Fare</th>\n",
       "      <th>Cabin</th>\n",
       "      <th>Embarked</th>\n",
       "    </tr>\n",
       "  </thead>\n",
       "  <tbody>\n",
       "    <tr>\n",
       "      <th>61</th>\n",
       "      <td>62</td>\n",
       "      <td>1</td>\n",
       "      <td>1</td>\n",
       "      <td>Icard, Miss. Amelie</td>\n",
       "      <td>female</td>\n",
       "      <td>38.0</td>\n",
       "      <td>0</td>\n",
       "      <td>0</td>\n",
       "      <td>113572</td>\n",
       "      <td>80.0</td>\n",
       "      <td>B28</td>\n",
       "      <td>NaN</td>\n",
       "    </tr>\n",
       "    <tr>\n",
       "      <th>829</th>\n",
       "      <td>830</td>\n",
       "      <td>1</td>\n",
       "      <td>1</td>\n",
       "      <td>Stone, Mrs. George Nelson (Martha Evelyn)</td>\n",
       "      <td>female</td>\n",
       "      <td>62.0</td>\n",
       "      <td>0</td>\n",
       "      <td>0</td>\n",
       "      <td>113572</td>\n",
       "      <td>80.0</td>\n",
       "      <td>B28</td>\n",
       "      <td>NaN</td>\n",
       "    </tr>\n",
       "  </tbody>\n",
       "</table>\n",
       "</div>"
      ],
      "text/plain": [
       "     PassengerId  Survived  Pclass                                       Name  \\\n",
       "61            62         1       1                        Icard, Miss. Amelie   \n",
       "829          830         1       1  Stone, Mrs. George Nelson (Martha Evelyn)   \n",
       "\n",
       "        Sex   Age  SibSp  Parch  Ticket  Fare Cabin Embarked  \n",
       "61   female  38.0      0      0  113572  80.0   B28      NaN  \n",
       "829  female  62.0      0      0  113572  80.0   B28      NaN  "
      ]
     },
     "execution_count": 17,
     "metadata": {},
     "output_type": "execute_result"
    }
   ],
   "source": [
    "df[df['Embarked'].isnull()]"
   ]
  },
  {
   "cell_type": "markdown",
   "id": "9e338266",
   "metadata": {},
   "source": [
    "## Let's Handle Cabin"
   ]
  },
  {
   "cell_type": "markdown",
   "id": "b437af5f",
   "metadata": {},
   "source": [
    "We have (891-204) = 687 missing Cabin values"
   ]
  },
  {
   "cell_type": "code",
   "execution_count": 18,
   "id": "5626aae9",
   "metadata": {},
   "outputs": [
    {
     "data": {
      "text/plain": [
       "array([nan, 'C85', 'C123', 'E46', 'G6', 'C103', 'D56', 'A6',\n",
       "       'C23 C25 C27', 'B78', 'D33', 'B30', 'C52', 'B28', 'C83', 'F33',\n",
       "       'F G73', 'E31', 'A5', 'D10 D12', 'D26', 'C110', 'B58 B60', 'E101',\n",
       "       'F E69', 'D47', 'B86', 'F2', 'C2', 'E33', 'B19', 'A7', 'C49', 'F4',\n",
       "       'A32', 'B4', 'B80', 'A31', 'D36', 'D15', 'C93', 'C78', 'D35',\n",
       "       'C87', 'B77', 'E67', 'B94', 'C125', 'C99', 'C118', 'D7', 'A19',\n",
       "       'B49', 'D', 'C22 C26', 'C106', 'C65', 'E36', 'C54',\n",
       "       'B57 B59 B63 B66', 'C7', 'E34', 'C32', 'B18', 'C124', 'C91', 'E40',\n",
       "       'T', 'C128', 'D37', 'B35', 'E50', 'C82', 'B96 B98', 'E10', 'E44',\n",
       "       'A34', 'C104', 'C111', 'C92', 'E38', 'D21', 'E12', 'E63', 'A14',\n",
       "       'B37', 'C30', 'D20', 'B79', 'E25', 'D46', 'B73', 'C95', 'B38',\n",
       "       'B39', 'B22', 'C86', 'C70', 'A16', 'C101', 'C68', 'A10', 'E68',\n",
       "       'B41', 'A20', 'D19', 'D50', 'D9', 'A23', 'B50', 'A26', 'D48',\n",
       "       'E58', 'C126', 'B71', 'B51 B53 B55', 'D49', 'B5', 'B20', 'F G63',\n",
       "       'C62 C64', 'E24', 'C90', 'C45', 'E8', 'B101', 'D45', 'C46', 'D30',\n",
       "       'E121', 'D11', 'E77', 'F38', 'B3', 'D6', 'B82 B84', 'D17', 'A36',\n",
       "       'B102', 'B69', 'E49', 'C47', 'D28', 'E17', 'A24', 'C50', 'B42',\n",
       "       'C148'], dtype=object)"
      ]
     },
     "execution_count": 18,
     "metadata": {},
     "output_type": "execute_result"
    }
   ],
   "source": [
    "df['Cabin'].unique()"
   ]
  },
  {
   "cell_type": "markdown",
   "id": "1d8fd95c",
   "metadata": {},
   "source": [
    "We can see that there are many missing values thus we replace the missing values by a new class M (missing), plus we have cabins with different classes followed by numbers, thus we can just keep the classes."
   ]
  },
  {
   "cell_type": "code",
   "execution_count": 19,
   "id": "27c9f3ec",
   "metadata": {},
   "outputs": [],
   "source": [
    "df['Cabin']=df['Cabin'].fillna('M')"
   ]
  },
  {
   "cell_type": "code",
   "execution_count": 20,
   "id": "d62cf301",
   "metadata": {},
   "outputs": [],
   "source": [
    "df['Cabin']=df['Cabin'].apply(lambda str: str[0])"
   ]
  },
  {
   "cell_type": "code",
   "execution_count": 21,
   "id": "e2e1c657",
   "metadata": {},
   "outputs": [],
   "source": [
    "df.loc[df[df['Cabin']=='T'].index,'Cabin']='A'"
   ]
  },
  {
   "cell_type": "code",
   "execution_count": 22,
   "id": "878460e7",
   "metadata": {},
   "outputs": [
    {
     "data": {
      "text/plain": [
       "<matplotlib.legend.Legend at 0x1fb148e3848>"
      ]
     },
     "execution_count": 22,
     "metadata": {},
     "output_type": "execute_result"
    },
    {
     "data": {
      "image/png": "[encoded data removed]",
      "text/plain": [
       "<Figure size 432x288 with 1 Axes>"
      ]
     },
     "metadata": {},
     "output_type": "display_data"
    }
   ],
   "source": [
    "g = sns.countplot(x='Cabin',data=df,hue='Pclass', )\n",
    "plt.legend(loc='upper right')"
   ]
  },
  {
   "cell_type": "code",
   "execution_count": 23,
   "id": "384afadc",
   "metadata": {
    "scrolled": true
   },
   "outputs": [
    {
     "data": {
      "text/plain": [
       "<AxesSubplot:xlabel='Cabin', ylabel='count'>"
      ]
     },
     "execution_count": 23,
     "metadata": {},
     "output_type": "execute_result"
    },
    {
     "data": {
      "image/png": "[encoded data removed]",
      "text/plain": [
       "<Figure size 432x288 with 1 Axes>"
      ]
     },
     "metadata": {},
     "output_type": "display_data"
    }
   ],
   "source": [
    "sns.countplot(x='Cabin',data=df,hue='Survived')"
   ]
  },
  {
   "cell_type": "markdown",
   "id": "1ef9e0c3",
   "metadata": {},
   "source": [
    "On visualizing the final Cabin column we see that most of the people in the missing class belong to the Pclass 3 and have little chance of survival. We see a higher chance of survival in most of the other cabin classes, with the least being in cabin A and the highest chance being in the cabin class B. We also observe that most of the people in the classes C, E, G, D, A, B belong ot the Pclass 1, and have high chances of survival, thus indicating that Pclass might be a factor resulting in higher chances of survival."
   ]
  },
  {
   "cell_type": "code",
   "execution_count": 24,
   "id": "bece2601",
   "metadata": {},
   "outputs": [
    {
     "name": "stdout",
     "output_type": "stream",
     "text": [
      "<class 'pandas.core.frame.DataFrame'>\n",
      "RangeIndex: 891 entries, 0 to 890\n",
      "Data columns (total 12 columns):\n",
      " #   Column       Non-Null Count  Dtype  \n",
      "---  ------       --------------  -----  \n",
      " 0   PassengerId  891 non-null    int64  \n",
      " 1   Survived     891 non-null    int64  \n",
      " 2   Pclass       891 non-null    int64  \n",
      " 3   Name         891 non-null    object \n",
      " 4   Sex          891 non-null    object \n",
      " 5   Age          891 non-null    float64\n",
      " 6   SibSp        891 non-null    int64  \n",
      " 7   Parch        891 non-null    int64  \n",
      " 8   Ticket       891 non-null    object \n",
      " 9   Fare         891 non-null    float64\n",
      " 10  Cabin        891 non-null    object \n",
      " 11  Embarked     889 non-null    object \n",
      "dtypes: float64(2), int64(5), object(5)\n",
      "memory usage: 83.7+ KB\n"
     ]
    }
   ],
   "source": [
    "df.info()"
   ]
  },
  {
   "cell_type": "markdown",
   "id": "2b332cf5",
   "metadata": {},
   "source": [
    "### EDA and Feature Generation"
   ]
  },
  {
   "cell_type": "code",
   "execution_count": 25,
   "id": "94e6143c",
   "metadata": {},
   "outputs": [
    {
     "data": {
      "text/plain": [
       "array(['S', 'C', 'Q', nan], dtype=object)"
      ]
     },
     "execution_count": 25,
     "metadata": {},
     "output_type": "execute_result"
    }
   ],
   "source": [
    "df['Embarked'].unique()"
   ]
  },
  {
   "cell_type": "code",
   "execution_count": 26,
   "id": "352d58fe",
   "metadata": {},
   "outputs": [
    {
     "data": {
      "text/plain": [
       "<AxesSubplot:xlabel='Embarked', ylabel='count'>"
      ]
     },
     "execution_count": 26,
     "metadata": {},
     "output_type": "execute_result"
    },
    {
     "data": {
      "image/png": "[encoded data removed]",
      "text/plain": [
       "<Figure size 432x288 with 1 Axes>"
      ]
     },
     "metadata": {},
     "output_type": "display_data"
    }
   ],
   "source": [
    "sns.countplot(x='Embarked',data=df,hue='Survived')"
   ]
  },
  {
   "cell_type": "code",
   "execution_count": 27,
   "id": "280eaab3",
   "metadata": {},
   "outputs": [
    {
     "name": "stderr",
     "output_type": "stream",
     "text": [
      "C:\\Users\\hp\\Anaconda3\\lib\\site-packages\\seaborn\\_decorators.py:43: FutureWarning: Pass the following variable as a keyword arg: x. From version 0.12, the only valid positional argument will be `data`, and passing other arguments without an explicit keyword will result in an error or misinterpretation.\n",
      "  FutureWarning\n",
      "C:\\Users\\hp\\Anaconda3\\lib\\site-packages\\seaborn\\_decorators.py:43: FutureWarning: Pass the following variable as a keyword arg: x. From version 0.12, the only valid positional argument will be `data`, and passing other arguments without an explicit keyword will result in an error or misinterpretation.\n",
      "  FutureWarning\n",
      "C:\\Users\\hp\\Anaconda3\\lib\\site-packages\\seaborn\\_decorators.py:43: FutureWarning: Pass the following variable as a keyword arg: x. From version 0.12, the only valid positional argument will be `data`, and passing other arguments without an explicit keyword will result in an error or misinterpretation.\n",
      "  FutureWarning\n",
      "C:\\Users\\hp\\Anaconda3\\lib\\site-packages\\seaborn\\_decorators.py:43: FutureWarning: Pass the following variable as a keyword arg: x. From version 0.12, the only valid positional argument will be `data`, and passing other arguments without an explicit keyword will result in an error or misinterpretation.\n",
      "  FutureWarning\n"
     ]
    },
    {
     "data": {
      "image/png": "[encoded data removed]",
      "text/plain": [
       "<Figure size 1440x1080 with 4 Axes>"
      ]
     },
     "metadata": {},
     "output_type": "display_data"
    }
   ],
   "source": [
    "f,ax=plt.subplots(2,2,figsize=(20,15))\n",
    "sns.countplot('Embarked',data=df,ax=ax[0,0])\n",
    "ax[0,0].set_title('No. Of Passengers Boarded')\n",
    "sns.countplot('Embarked',hue='Sex',data=df,ax=ax[0,1])\n",
    "ax[0,1].set_title('Male-Female Split for Embarked')\n",
    "sns.countplot('Embarked',hue='Survived',data=df,ax=ax[1,0])\n",
    "ax[1,0].set_title('Embarked vs Survived')\n",
    "sns.countplot('Embarked',hue='Pclass',data=df,ax=ax[1,1])\n",
    "ax[1,1].set_title('Embarked vs Pclass')\n",
    "plt.subplots_adjust(wspace=0.2,hspace=0.5)\n",
    "plt.show()"
   ]
  },
  {
   "cell_type": "markdown",
   "id": "326d81ef",
   "metadata": {},
   "source": [
    "1)Maximum passenegers boarded from S. Majority of them being from Pclass3.\n",
    "\n",
    "2)The Passengers from C look to be lucky as a good proportion of them survived. The reason for this maybe the rescue of all the Pclass1 and Pclass2 Passengers.\n",
    "\n",
    "3)The Embark S looks to the port from where majority of the rich people boarded. Still the chances for survival is low here, that is because many passengers from Pclass3 around 81% didn't survive.\n",
    "\n",
    "4)Port Q had almost 95% of the passengers were from Pclass3."
   ]
  },
  {
   "cell_type": "code",
   "execution_count": 28,
   "id": "06f3b0ae",
   "metadata": {},
   "outputs": [],
   "source": [
    "df['Ticket_Frequency']=df.groupby('Ticket')['Ticket'].transform('count')"
   ]
  },
  {
   "cell_type": "code",
   "execution_count": 29,
   "id": "77c43a1a",
   "metadata": {},
   "outputs": [
    {
     "data": {
      "text/plain": [
       "<AxesSubplot:xlabel='Ticket_Frequency', ylabel='count'>"
      ]
     },
     "execution_count": 29,
     "metadata": {},
     "output_type": "execute_result"
    },
    {
     "data": {
      "image/png": "[encoded data removed]",
      "text/plain": [
       "<Figure size 432x288 with 1 Axes>"
      ]
     },
     "metadata": {},
     "output_type": "display_data"
    }
   ],
   "source": [
    "sns.countplot(x='Ticket_Frequency',data=df,hue='Survived')"
   ]
  },
  {
   "cell_type": "markdown",
   "id": "ecc5a592",
   "metadata": {},
   "source": [
    "On careful observation we see that different ticket frequency has different rates of survival with the highest being for the group of two and the chance for groups of more than 4 being very less."
   ]
  },
  {
   "cell_type": "code",
   "execution_count": 30,
   "id": "4880dc80",
   "metadata": {},
   "outputs": [],
   "source": [
    "df['Title']=df['Name'].str.split(', ',expand=True)[1].str.split('.',expand=True)[0]"
   ]
  },
  {
   "cell_type": "code",
   "execution_count": 31,
   "id": "068af4c3",
   "metadata": {},
   "outputs": [
    {
     "data": {
      "text/plain": [
       "array(['Mr', 'Mrs', 'Miss', 'Master', 'Don', 'Rev', 'Dr', 'Mme', 'Ms',\n",
       "       'Major', 'Lady', 'Sir', 'Mlle', 'Col', 'Capt', 'the Countess',\n",
       "       'Jonkheer'], dtype=object)"
      ]
     },
     "execution_count": 31,
     "metadata": {},
     "output_type": "execute_result"
    }
   ],
   "source": [
    "df['Title'].unique()"
   ]
  },
  {
   "cell_type": "code",
   "execution_count": 32,
   "id": "29704038",
   "metadata": {},
   "outputs": [
    {
     "data": {
      "text/plain": [
       "<AxesSubplot:xlabel='Title', ylabel='count'>"
      ]
     },
     "execution_count": 32,
     "metadata": {},
     "output_type": "execute_result"
    },
    {
     "data": {
      "image/png": "[encoded data removed]",
      "text/plain": [
       "<Figure size 432x288 with 1 Axes>"
      ]
     },
     "metadata": {},
     "output_type": "display_data"
    }
   ],
   "source": [
    "sns.countplot(x='Title',data=df,hue='Survived')"
   ]
  },
  {
   "cell_type": "code",
   "execution_count": 33,
   "id": "02e55793",
   "metadata": {},
   "outputs": [],
   "source": [
    "df['IsMarried']=0"
   ]
  },
  {
   "cell_type": "code",
   "execution_count": 34,
   "id": "b0d88961",
   "metadata": {},
   "outputs": [
    {
     "name": "stderr",
     "output_type": "stream",
     "text": [
      "C:\\Users\\hp\\Anaconda3\\lib\\site-packages\\pandas\\core\\indexing.py:1732: SettingWithCopyWarning: \n",
      "A value is trying to be set on a copy of a slice from a DataFrame\n",
      "\n",
      "See the caveats in the documentation: https://pandas.pydata.org/pandas-docs/stable/user_guide/indexing.html#returning-a-view-versus-a-copy\n",
      "  self._setitem_single_block(indexer, value, name)\n"
     ]
    }
   ],
   "source": [
    "df['IsMarried'].loc[df['Title']=='Mrs']=1"
   ]
  },
  {
   "cell_type": "code",
   "execution_count": 35,
   "id": "4107948d",
   "metadata": {},
   "outputs": [
    {
     "data": {
      "text/plain": [
       "array([0, 1], dtype=int64)"
      ]
     },
     "execution_count": 35,
     "metadata": {},
     "output_type": "execute_result"
    }
   ],
   "source": [
    "df['IsMarried'].unique()"
   ]
  },
  {
   "cell_type": "code",
   "execution_count": 36,
   "id": "b14810fd",
   "metadata": {
    "scrolled": true
   },
   "outputs": [
    {
     "data": {
      "text/plain": [
       "<AxesSubplot:xlabel='IsMarried', ylabel='count'>"
      ]
     },
     "execution_count": 36,
     "metadata": {},
     "output_type": "execute_result"
    },
    {
     "data": {
      "image/png": "[encoded data removed]",
      "text/plain": [
       "<Figure size 432x288 with 1 Axes>"
      ]
     },
     "metadata": {},
     "output_type": "display_data"
    }
   ],
   "source": [
    "sns.countplot(x='IsMarried',data=df,hue='Survived')"
   ]
  },
  {
   "cell_type": "markdown",
   "id": "b810982b",
   "metadata": {},
   "source": [
    "We created a new feature called IsMarried that is checked for title Mrs.\n",
    "We see that being married has a greater chance of survival !"
   ]
  },
  {
   "cell_type": "code",
   "execution_count": 37,
   "id": "4907697b",
   "metadata": {},
   "outputs": [],
   "source": [
    "df['Title'] = df['Title'].replace(['Miss', 'Mrs','Ms', 'Mlle', 'Lady', 'Mme', 'the Countess', 'Dona'], 'Miss_Mrs_Ms')"
   ]
  },
  {
   "cell_type": "code",
   "execution_count": 38,
   "id": "004b8ff4",
   "metadata": {},
   "outputs": [],
   "source": [
    "df['Title'] = df['Title'].replace(['Dr', 'Col', 'Major', 'Jonkheer', 'Capt', 'Sir', 'Don', 'Rev'], 'Others')"
   ]
  },
  {
   "cell_type": "code",
   "execution_count": 39,
   "id": "50250ff5",
   "metadata": {},
   "outputs": [
    {
     "data": {
      "text/plain": [
       "<AxesSubplot:xlabel='Title', ylabel='count'>"
      ]
     },
     "execution_count": 39,
     "metadata": {},
     "output_type": "execute_result"
    },
    {
     "data": {
      "image/png": "[encoded data removed]",
      "text/plain": [
       "<Figure size 432x288 with 1 Axes>"
      ]
     },
     "metadata": {},
     "output_type": "display_data"
    }
   ],
   "source": [
    "sns.countplot(x='Title',data=df,hue='Survived')"
   ]
  },
  {
   "cell_type": "code",
   "execution_count": 40,
   "id": "c9c3575d",
   "metadata": {},
   "outputs": [
    {
     "data": {
      "text/plain": [
       "<AxesSubplot:xlabel='Title', ylabel='Age'>"
      ]
     },
     "execution_count": 40,
     "metadata": {},
     "output_type": "execute_result"
    },
    {
     "data": {
      "image/png": "[encoded data removed]",
      "text/plain": [
       "<Figure size 432x288 with 1 Axes>"
      ]
     },
     "metadata": {},
     "output_type": "display_data"
    }
   ],
   "source": [
    "sns.boxplot(x='Title', y='Age', data=df)"
   ]
  },
  {
   "cell_type": "markdown",
   "id": "8c6e059c",
   "metadata": {},
   "source": [
    "1. We converted Title into 4 groups.\n",
    "2. We can see most of the people are from Mr. grp where the probability of surviving is low while the probability of Miss_Mrs_Ms and Master is higher for surviving.\n",
    "3. We have very less people belonging to the other classes."
   ]
  },
  {
   "cell_type": "code",
   "execution_count": 41,
   "id": "fec1a2a3",
   "metadata": {},
   "outputs": [],
   "source": [
    "df['Child']=0"
   ]
  },
  {
   "cell_type": "code",
   "execution_count": 42,
   "id": "4e2a3ded",
   "metadata": {},
   "outputs": [
    {
     "name": "stderr",
     "output_type": "stream",
     "text": [
      "C:\\Users\\hp\\Anaconda3\\lib\\site-packages\\pandas\\core\\indexing.py:1732: SettingWithCopyWarning: \n",
      "A value is trying to be set on a copy of a slice from a DataFrame\n",
      "\n",
      "See the caveats in the documentation: https://pandas.pydata.org/pandas-docs/stable/user_guide/indexing.html#returning-a-view-versus-a-copy\n",
      "  self._setitem_single_block(indexer, value, name)\n"
     ]
    }
   ],
   "source": [
    "df['Child'].loc[df['Age']<18]=1"
   ]
  },
  {
   "cell_type": "code",
   "execution_count": 43,
   "id": "ff7a5e6f",
   "metadata": {},
   "outputs": [
    {
     "data": {
      "text/plain": [
       "array([0, 1], dtype=int64)"
      ]
     },
     "execution_count": 43,
     "metadata": {},
     "output_type": "execute_result"
    }
   ],
   "source": [
    "df['Child'].unique()"
   ]
  },
  {
   "cell_type": "code",
   "execution_count": 44,
   "id": "811ad166",
   "metadata": {},
   "outputs": [
    {
     "data": {
      "text/plain": [
       "<AxesSubplot:xlabel='Child', ylabel='count'>"
      ]
     },
     "execution_count": 44,
     "metadata": {},
     "output_type": "execute_result"
    },
    {
     "data": {
      "image/png": "[encoded data removed]",
      "text/plain": [
       "<Figure size 432x288 with 1 Axes>"
      ]
     },
     "metadata": {},
     "output_type": "display_data"
    }
   ],
   "source": [
    "sns.countplot(x='Child',data=df,hue='Survived')"
   ]
  },
  {
   "cell_type": "markdown",
   "id": "145af8dd",
   "metadata": {},
   "source": [
    "We created a Child feature for people below 18 years of age, now we can see that children have a higher chance of getting out !"
   ]
  },
  {
   "cell_type": "markdown",
   "id": "ada30851",
   "metadata": {},
   "source": [
    "We create a new feature Family size, which is essentialy No. of Parents + Chilren + Siblings + Spouse + 1"
   ]
  },
  {
   "cell_type": "code",
   "execution_count": 45,
   "id": "43d3be4d",
   "metadata": {},
   "outputs": [],
   "source": [
    "df['Fam_Size']=df['Parch']+df['SibSp']+1"
   ]
  },
  {
   "cell_type": "code",
   "execution_count": 46,
   "id": "cb4469f3",
   "metadata": {},
   "outputs": [
    {
     "data": {
      "text/plain": [
       "<AxesSubplot:xlabel='Fam_Size', ylabel='count'>"
      ]
     },
     "execution_count": 46,
     "metadata": {},
     "output_type": "execute_result"
    },
    {
     "data": {
      "image/png": "[encoded data removed]",
      "text/plain": [
       "<Figure size 432x288 with 1 Axes>"
      ]
     },
     "metadata": {},
     "output_type": "display_data"
    }
   ],
   "source": [
    "sns.countplot(x='Fam_Size',data=df,hue='Survived')"
   ]
  },
  {
   "cell_type": "code",
   "execution_count": 47,
   "id": "201487f2",
   "metadata": {},
   "outputs": [],
   "source": [
    "df.loc[:,'FsizeD']='Alone'"
   ]
  },
  {
   "cell_type": "code",
   "execution_count": 48,
   "id": "6a8c643a",
   "metadata": {},
   "outputs": [],
   "source": [
    "df.loc[(df['Fam_Size']>1),'FsizeD']='Small'"
   ]
  },
  {
   "cell_type": "code",
   "execution_count": 49,
   "id": "85cdf4e9",
   "metadata": {},
   "outputs": [],
   "source": [
    "df.loc[(df['Fam_Size']>4),'FsizeD']='Big'"
   ]
  },
  {
   "cell_type": "markdown",
   "id": "a836651b",
   "metadata": {},
   "source": [
    "Now we create three different categories of Family Size"
   ]
  },
  {
   "cell_type": "code",
   "execution_count": 50,
   "id": "98908dc1",
   "metadata": {},
   "outputs": [
    {
     "data": {
      "text/plain": [
       "<AxesSubplot:xlabel='FsizeD', ylabel='count'>"
      ]
     },
     "execution_count": 50,
     "metadata": {},
     "output_type": "execute_result"
    },
    {
     "data": {
      "image/png": "[encoded data removed]",
      "text/plain": [
       "<Figure size 432x288 with 1 Axes>"
      ]
     },
     "metadata": {},
     "output_type": "display_data"
    }
   ],
   "source": [
    "sns.countplot(x='FsizeD',data=df,hue='Survived')"
   ]
  },
  {
   "cell_type": "markdown",
   "id": "948d964a",
   "metadata": {},
   "source": [
    "We see that people with small family size have the highest chance of Surviving, and the ones with a big family, which the lease chance !"
   ]
  },
  {
   "cell_type": "code",
   "execution_count": 51,
   "id": "b0181629",
   "metadata": {},
   "outputs": [],
   "source": [
    "df=df.drop(['Name','Ticket','Fam_Size'],axis=1)"
   ]
  },
  {
   "cell_type": "code",
   "execution_count": 52,
   "id": "d82d3a94",
   "metadata": {},
   "outputs": [],
   "source": [
    "df=df.drop(['PassengerId'],axis=1)"
   ]
  },
  {
   "cell_type": "markdown",
   "id": "1d0249dd",
   "metadata": {},
   "source": [
    "## Visualization"
   ]
  },
  {
   "cell_type": "code",
   "execution_count": 53,
   "id": "1ef4e888",
   "metadata": {},
   "outputs": [
    {
     "data": {
      "text/plain": [
       "<AxesSubplot:xlabel='Pclass', ylabel='count'>"
      ]
     },
     "execution_count": 53,
     "metadata": {},
     "output_type": "execute_result"
    },
    {
     "data": {
      "image/png": "[encoded data removed]",
      "text/plain": [
       "<Figure size 432x288 with 1 Axes>"
      ]
     },
     "metadata": {},
     "output_type": "display_data"
    }
   ],
   "source": [
    "sns.countplot(x='Pclass',data=df,hue='Survived')"
   ]
  },
  {
   "cell_type": "markdown",
   "id": "b0d7f549",
   "metadata": {},
   "source": [
    "We see that the people belonging to the Pclass 1 have a higher chance of survival, which keeps on decreasing as we go down the classes !"
   ]
  },
  {
   "cell_type": "code",
   "execution_count": 54,
   "id": "243af950",
   "metadata": {},
   "outputs": [
    {
     "data": {
      "text/plain": [
       "<AxesSubplot:xlabel='Sex', ylabel='count'>"
      ]
     },
     "execution_count": 54,
     "metadata": {},
     "output_type": "execute_result"
    },
    {
     "data": {
      "image/png": "[encoded data removed]",
      "text/plain": [
       "<Figure size 432x288 with 1 Axes>"
      ]
     },
     "metadata": {},
     "output_type": "display_data"
    }
   ],
   "source": [
    "sns.countplot(x='Sex',data=df,hue='Survived')"
   ]
  },
  {
   "cell_type": "markdown",
   "id": "e3800727",
   "metadata": {},
   "source": [
    "1. Proportion of male and female: ~2/3 vs ~1/3\n",
    "2. Male is much less likely to survive, with only 20% chance of survival. For female, >70% chance of survival.\n",
    "3. Obviously, Sex is an important feature to predict survival."
   ]
  },
  {
   "cell_type": "code",
   "execution_count": 55,
   "id": "ee546631",
   "metadata": {},
   "outputs": [
    {
     "data": {
      "image/png": "[encoded data removed]",
      "text/plain": [
       "<Figure size 432x288 with 1 Axes>"
      ]
     },
     "metadata": {},
     "output_type": "display_data"
    }
   ],
   "source": [
    "plt.hist(df.Age, edgecolor=\"black\")\n",
    "plt.xlabel('Age')\n",
    "plt.ylabel('count')\n",
    "plt.show()"
   ]
  },
  {
   "cell_type": "code",
   "execution_count": 56,
   "id": "13ff7dfd",
   "metadata": {},
   "outputs": [
    {
     "data": {
      "image/png": "[encoded data removed]",
      "text/plain": [
       "<Figure size 432x288 with 1 Axes>"
      ]
     },
     "metadata": {},
     "output_type": "display_data"
    }
   ],
   "source": [
    "sns.boxplot(x='Survived', y='Age', data=df)\n",
    "plt.show()"
   ]
  },
  {
   "cell_type": "markdown",
   "id": "e080f406",
   "metadata": {},
   "source": [
    "1. Passengers are mainly aged 20–40.\n",
    "2. Younger passengers tends to survive."
   ]
  },
  {
   "cell_type": "code",
   "execution_count": 57,
   "id": "c145cc62",
   "metadata": {},
   "outputs": [
    {
     "data": {
      "text/plain": [
       "<AxesSubplot:xlabel='SibSp', ylabel='count'>"
      ]
     },
     "execution_count": 57,
     "metadata": {},
     "output_type": "execute_result"
    },
    {
     "data": {
      "image/png": "[encoded data removed]",
      "text/plain": [
       "<Figure size 432x288 with 1 Axes>"
      ]
     },
     "metadata": {},
     "output_type": "display_data"
    }
   ],
   "source": [
    "sns.countplot(x='SibSp',data=df,hue='Survived')"
   ]
  },
  {
   "cell_type": "markdown",
   "id": "0940ed41",
   "metadata": {},
   "source": [
    "1. Most of the passengers are travelling alone\n",
    "2. The ones with 1 sibling/spouse are more likely to survive"
   ]
  },
  {
   "cell_type": "code",
   "execution_count": 58,
   "id": "bf06f6cc",
   "metadata": {},
   "outputs": [
    {
     "data": {
      "text/plain": [
       "<AxesSubplot:xlabel='Parch', ylabel='count'>"
      ]
     },
     "execution_count": 58,
     "metadata": {},
     "output_type": "execute_result"
    },
    {
     "data": {
      "image/png": "[encoded data removed]",
      "text/plain": [
       "<Figure size 432x288 with 1 Axes>"
      ]
     },
     "metadata": {},
     "output_type": "display_data"
    }
   ],
   "source": [
    "sns.countplot(x='Parch',data=df,hue='Survived')"
   ]
  },
  {
   "cell_type": "code",
   "execution_count": 59,
   "id": "9a0d57f7",
   "metadata": {},
   "outputs": [
    {
     "data": {
      "image/png": "[encoded data removed]",
      "text/plain": [
       "<Figure size 432x288 with 1 Axes>"
      ]
     },
     "metadata": {},
     "output_type": "display_data"
    }
   ],
   "source": [
    "sns.barplot(x='Parch', y='Survived', data=df)\n",
    "plt.show()"
   ]
  },
  {
   "cell_type": "markdown",
   "id": "734346bc",
   "metadata": {},
   "source": [
    "1. ~ >70% passengers travel without parents/children.\n",
    "2. Passengers travelling with parents/children are more likely to survive than those not."
   ]
  },
  {
   "cell_type": "code",
   "execution_count": 60,
   "id": "9f585ed9",
   "metadata": {},
   "outputs": [
    {
     "name": "stderr",
     "output_type": "stream",
     "text": [
      "C:\\Users\\hp\\Anaconda3\\lib\\site-packages\\seaborn\\distributions.py:2619: FutureWarning: `distplot` is a deprecated function and will be removed in a future version. Please adapt your code to use either `displot` (a figure-level function with similar flexibility) or `histplot` (an axes-level function for histograms).\n",
      "  warnings.warn(msg, FutureWarning)\n"
     ]
    },
    {
     "data": {
      "image/png": "[encoded data removed]",
      "text/plain": [
       "<Figure size 432x288 with 1 Axes>"
      ]
     },
     "metadata": {},
     "output_type": "display_data"
    }
   ],
   "source": [
    "sns.distplot(df.Fare)\n",
    "plt.show()"
   ]
  },
  {
   "cell_type": "code",
   "execution_count": 61,
   "id": "578f2020",
   "metadata": {},
   "outputs": [
    {
     "data": {
      "image/png": "[encoded data removed]",
      "text/plain": [
       "<Figure size 432x288 with 1 Axes>"
      ]
     },
     "metadata": {},
     "output_type": "display_data"
    }
   ],
   "source": [
    "sns.boxplot(x='Survived', y='Fare', data=df)\n",
    "plt.show()"
   ]
  },
  {
   "cell_type": "markdown",
   "id": "449f7299",
   "metadata": {},
   "source": [
    "1. We see that there are people paying too much for their tickets (outliers)\n",
    "2. We see that people with higher fares are likely to survive !"
   ]
  },
  {
   "cell_type": "code",
   "execution_count": 62,
   "id": "1bc93d46",
   "metadata": {},
   "outputs": [
    {
     "data": {
      "text/plain": [
       "<AxesSubplot:xlabel='Embarked', ylabel='count'>"
      ]
     },
     "execution_count": 62,
     "metadata": {},
     "output_type": "execute_result"
    },
    {
     "data": {
      "image/png": "[encoded data removed]",
      "text/plain": [
       "<Figure size 432x288 with 1 Axes>"
      ]
     },
     "metadata": {},
     "output_type": "display_data"
    }
   ],
   "source": [
    "sns.countplot(x='Embarked',data=df,hue='Survived')"
   ]
  },
  {
   "cell_type": "markdown",
   "id": "47e8d207",
   "metadata": {},
   "source": [
    "1. We see most of the people were embarked from the port S\n",
    "2. People embarked from the C port are more likely to survive !"
   ]
  },
  {
   "cell_type": "code",
   "execution_count": 63,
   "id": "6bf994ce",
   "metadata": {},
   "outputs": [],
   "source": [
    "df['Age_band']=0\n",
    "df.loc[df['Age']<=16,'Age_band']=0\n",
    "df.loc[(df['Age']>16)&(df['Age']<=32),'Age_band']=1\n",
    "df.loc[(df['Age']>32)&(df['Age']<=48),'Age_band']=2\n",
    "df.loc[(df['Age']>48)&(df['Age']<=64),'Age_band']=3\n",
    "df.loc[df['Age']>64,'Age_band']=4"
   ]
  },
  {
   "cell_type": "code",
   "execution_count": 64,
   "id": "9a5c6f82",
   "metadata": {},
   "outputs": [],
   "source": [
    "df['Fare_Range']=pd.qcut(df['Fare'],4)"
   ]
  },
  {
   "cell_type": "code",
   "execution_count": 65,
   "id": "d219cf14",
   "metadata": {},
   "outputs": [
    {
     "data": {
      "image/png": "[encoded data removed]",
      "text/plain": [
       "<Figure size 720x576 with 2 Axes>"
      ]
     },
     "metadata": {},
     "output_type": "display_data"
    }
   ],
   "source": [
    "cm = df.corr()\n",
    "sns.set(font_scale=1.5, )\n",
    "hm = sns.heatmap(cm, cbar=True, annot = True, square=True, fmt='.2f', annot_kws={'size':15})\n",
    "      #          yticklabels=cols, xticklabels=cols)\n",
    "\n",
    "fig = plt.gcf()\n",
    "fig.set_size_inches(10,8)"
   ]
  },
  {
   "cell_type": "markdown",
   "id": "ee9e5d09",
   "metadata": {},
   "source": [
    "### Converting into Dummies"
   ]
  },
  {
   "cell_type": "code",
   "execution_count": 66,
   "id": "511efef3",
   "metadata": {},
   "outputs": [],
   "source": [
    "dummies = pd.get_dummies(df['Embarked'],drop_first=True)\n",
    "\n",
    "df = pd.concat([df.drop('Embarked',axis=1),dummies],axis=1)"
   ]
  },
  {
   "cell_type": "code",
   "execution_count": 67,
   "id": "bff5dcce",
   "metadata": {},
   "outputs": [],
   "source": [
    "dummies = pd.get_dummies(df['Cabin'],drop_first=True)\n",
    "\n",
    "df = pd.concat([df.drop('Cabin',axis=1),dummies],axis=1)"
   ]
  },
  {
   "cell_type": "code",
   "execution_count": 68,
   "id": "e1902663",
   "metadata": {},
   "outputs": [],
   "source": [
    "dummies = pd.get_dummies(df['Sex'],drop_first=True)\n",
    "\n",
    "df = pd.concat([df.drop('Sex',axis=1),dummies],axis=1)"
   ]
  },
  {
   "cell_type": "code",
   "execution_count": 69,
   "id": "0c1292b7",
   "metadata": {},
   "outputs": [],
   "source": [
    "dummies = pd.get_dummies(df['Title'],drop_first=True)\n",
    "\n",
    "df = pd.concat([df.drop('Title',axis=1),dummies],axis=1)"
   ]
  },
  {
   "cell_type": "code",
   "execution_count": 70,
   "id": "64fd795d",
   "metadata": {},
   "outputs": [],
   "source": [
    "dummies = pd.get_dummies(df['FsizeD'],drop_first=True)\n",
    "\n",
    "df = pd.concat([df.drop('FsizeD',axis=1),dummies],axis=1)"
   ]
  },
  {
   "cell_type": "code",
   "execution_count": 71,
   "id": "196dcf8b",
   "metadata": {},
   "outputs": [
    {
     "data": {
      "text/html": [
       "<div>\n",
       "<style scoped>\n",
       "    .dataframe tbody tr th:only-of-type {\n",
       "        vertical-align: middle;\n",
       "    }\n",
       "\n",
       "    .dataframe tbody tr th {\n",
       "        vertical-align: top;\n",
       "    }\n",
       "\n",
       "    .dataframe thead th {\n",
       "        text-align: right;\n",
       "    }\n",
       "</style>\n",
       "<table border=\"1\" class=\"dataframe\">\n",
       "  <thead>\n",
       "    <tr style=\"text-align: right;\">\n",
       "      <th></th>\n",
       "      <th>Survived</th>\n",
       "      <th>Pclass</th>\n",
       "      <th>Age</th>\n",
       "      <th>SibSp</th>\n",
       "      <th>Parch</th>\n",
       "      <th>Fare</th>\n",
       "      <th>Ticket_Frequency</th>\n",
       "      <th>IsMarried</th>\n",
       "      <th>Child</th>\n",
       "      <th>Age_band</th>\n",
       "      <th>...</th>\n",
       "      <th>E</th>\n",
       "      <th>F</th>\n",
       "      <th>G</th>\n",
       "      <th>M</th>\n",
       "      <th>male</th>\n",
       "      <th>Miss_Mrs_Ms</th>\n",
       "      <th>Mr</th>\n",
       "      <th>Others</th>\n",
       "      <th>Big</th>\n",
       "      <th>Small</th>\n",
       "    </tr>\n",
       "  </thead>\n",
       "  <tbody>\n",
       "    <tr>\n",
       "      <th>0</th>\n",
       "      <td>0</td>\n",
       "      <td>3</td>\n",
       "      <td>22.0</td>\n",
       "      <td>1</td>\n",
       "      <td>0</td>\n",
       "      <td>7.2500</td>\n",
       "      <td>1</td>\n",
       "      <td>0</td>\n",
       "      <td>0</td>\n",
       "      <td>1</td>\n",
       "      <td>...</td>\n",
       "      <td>0</td>\n",
       "      <td>0</td>\n",
       "      <td>0</td>\n",
       "      <td>1</td>\n",
       "      <td>1</td>\n",
       "      <td>0</td>\n",
       "      <td>1</td>\n",
       "      <td>0</td>\n",
       "      <td>0</td>\n",
       "      <td>1</td>\n",
       "    </tr>\n",
       "    <tr>\n",
       "      <th>1</th>\n",
       "      <td>1</td>\n",
       "      <td>1</td>\n",
       "      <td>38.0</td>\n",
       "      <td>1</td>\n",
       "      <td>0</td>\n",
       "      <td>71.2833</td>\n",
       "      <td>1</td>\n",
       "      <td>1</td>\n",
       "      <td>0</td>\n",
       "      <td>2</td>\n",
       "      <td>...</td>\n",
       "      <td>0</td>\n",
       "      <td>0</td>\n",
       "      <td>0</td>\n",
       "      <td>0</td>\n",
       "      <td>0</td>\n",
       "      <td>1</td>\n",
       "      <td>0</td>\n",
       "      <td>0</td>\n",
       "      <td>0</td>\n",
       "      <td>1</td>\n",
       "    </tr>\n",
       "    <tr>\n",
       "      <th>2</th>\n",
       "      <td>1</td>\n",
       "      <td>3</td>\n",
       "      <td>26.0</td>\n",
       "      <td>0</td>\n",
       "      <td>0</td>\n",
       "      <td>7.9250</td>\n",
       "      <td>1</td>\n",
       "      <td>0</td>\n",
       "      <td>0</td>\n",
       "      <td>1</td>\n",
       "      <td>...</td>\n",
       "      <td>0</td>\n",
       "      <td>0</td>\n",
       "      <td>0</td>\n",
       "      <td>1</td>\n",
       "      <td>0</td>\n",
       "      <td>1</td>\n",
       "      <td>0</td>\n",
       "      <td>0</td>\n",
       "      <td>0</td>\n",
       "      <td>0</td>\n",
       "    </tr>\n",
       "    <tr>\n",
       "      <th>3</th>\n",
       "      <td>1</td>\n",
       "      <td>1</td>\n",
       "      <td>35.0</td>\n",
       "      <td>1</td>\n",
       "      <td>0</td>\n",
       "      <td>53.1000</td>\n",
       "      <td>2</td>\n",
       "      <td>1</td>\n",
       "      <td>0</td>\n",
       "      <td>2</td>\n",
       "      <td>...</td>\n",
       "      <td>0</td>\n",
       "      <td>0</td>\n",
       "      <td>0</td>\n",
       "      <td>0</td>\n",
       "      <td>0</td>\n",
       "      <td>1</td>\n",
       "      <td>0</td>\n",
       "      <td>0</td>\n",
       "      <td>0</td>\n",
       "      <td>1</td>\n",
       "    </tr>\n",
       "    <tr>\n",
       "      <th>4</th>\n",
       "      <td>0</td>\n",
       "      <td>3</td>\n",
       "      <td>35.0</td>\n",
       "      <td>0</td>\n",
       "      <td>0</td>\n",
       "      <td>8.0500</td>\n",
       "      <td>1</td>\n",
       "      <td>0</td>\n",
       "      <td>0</td>\n",
       "      <td>2</td>\n",
       "      <td>...</td>\n",
       "      <td>0</td>\n",
       "      <td>0</td>\n",
       "      <td>0</td>\n",
       "      <td>1</td>\n",
       "      <td>1</td>\n",
       "      <td>0</td>\n",
       "      <td>1</td>\n",
       "      <td>0</td>\n",
       "      <td>0</td>\n",
       "      <td>0</td>\n",
       "    </tr>\n",
       "  </tbody>\n",
       "</table>\n",
       "<p>5 rows × 26 columns</p>\n",
       "</div>"
      ],
      "text/plain": [
       "   Survived  Pclass   Age  SibSp  Parch     Fare  Ticket_Frequency  IsMarried  \\\n",
       "0         0       3  22.0      1      0   7.2500                 1          0   \n",
       "1         1       1  38.0      1      0  71.2833                 1          1   \n",
       "2         1       3  26.0      0      0   7.9250                 1          0   \n",
       "3         1       1  35.0      1      0  53.1000                 2          1   \n",
       "4         0       3  35.0      0      0   8.0500                 1          0   \n",
       "\n",
       "   Child  Age_band  ...  E  F  G  M  male  Miss_Mrs_Ms  Mr  Others  Big  Small  \n",
       "0      0         1  ...  0  0  0  1     1            0   1       0    0      1  \n",
       "1      0         2  ...  0  0  0  0     0            1   0       0    0      1  \n",
       "2      0         1  ...  0  0  0  1     0            1   0       0    0      0  \n",
       "3      0         2  ...  0  0  0  0     0            1   0       0    0      1  \n",
       "4      0         2  ...  0  0  0  1     1            0   1       0    0      0  \n",
       "\n",
       "[5 rows x 26 columns]"
      ]
     },
     "execution_count": 71,
     "metadata": {},
     "output_type": "execute_result"
    }
   ],
   "source": [
    "df.head()"
   ]
  },
  {
   "cell_type": "code",
   "execution_count": 72,
   "id": "42ec521f",
   "metadata": {},
   "outputs": [
    {
     "data": {
      "text/plain": [
       "<AxesSubplot:>"
      ]
     },
     "execution_count": 72,
     "metadata": {},
     "output_type": "execute_result"
    },
    {
     "data": {
      "image/png": "[encoded data removed]",
      "text/plain": [
       "<Figure size 432x288 with 1 Axes>"
      ]
     },
     "metadata": {},
     "output_type": "display_data"
    }
   ],
   "source": [
    "df.corr()['Survived'].sort_values().drop('Survived').plot(kind='bar')"
   ]
  },
  {
   "cell_type": "code",
   "execution_count": 73,
   "id": "9f181ac3",
   "metadata": {},
   "outputs": [
    {
     "data": {
      "text/plain": [
       "Survived            0\n",
       "Pclass              0\n",
       "Age                 0\n",
       "SibSp               0\n",
       "Parch               0\n",
       "Fare                0\n",
       "Ticket_Frequency    0\n",
       "IsMarried           0\n",
       "Child               0\n",
       "Age_band            0\n",
       "Fare_Range          0\n",
       "Q                   0\n",
       "S                   0\n",
       "B                   0\n",
       "C                   0\n",
       "D                   0\n",
       "E                   0\n",
       "F                   0\n",
       "G                   0\n",
       "M                   0\n",
       "male                0\n",
       "Miss_Mrs_Ms         0\n",
       "Mr                  0\n",
       "Others              0\n",
       "Big                 0\n",
       "Small               0\n",
       "dtype: int64"
      ]
     },
     "execution_count": 73,
     "metadata": {},
     "output_type": "execute_result"
    }
   ],
   "source": [
    "df.isnull().sum()"
   ]
  },
  {
   "cell_type": "code",
   "execution_count": 74,
   "id": "8ec6db92",
   "metadata": {},
   "outputs": [],
   "source": [
    "df.drop('Age', axis = 1, inplace=True)"
   ]
  },
  {
   "cell_type": "markdown",
   "id": "20c50967",
   "metadata": {},
   "source": [
    "## Statistical Logistic Regression Modelling using Statsmodel Library"
   ]
  },
  {
   "cell_type": "code",
   "execution_count": 75,
   "id": "cfab7563",
   "metadata": {},
   "outputs": [],
   "source": [
    "from sklearn.metrics import confusion_matrix, f1_score"
   ]
  },
  {
   "cell_type": "code",
   "execution_count": 76,
   "id": "792cf88f",
   "metadata": {},
   "outputs": [
    {
     "data": {
      "text/plain": [
       "Index(['Survived', 'Pclass', 'SibSp', 'Parch', 'Fare', 'Ticket_Frequency',\n",
       "       'IsMarried', 'Child', 'Age_band', 'Fare_Range', 'Q', 'S', 'B', 'C', 'D',\n",
       "       'E', 'F', 'G', 'M', 'male', 'Miss_Mrs_Ms', 'Mr', 'Others', 'Big',\n",
       "       'Small'],\n",
       "      dtype='object')"
      ]
     },
     "execution_count": 76,
     "metadata": {},
     "output_type": "execute_result"
    }
   ],
   "source": [
    "df.columns"
   ]
  },
  {
   "cell_type": "code",
   "execution_count": 77,
   "id": "3797af71",
   "metadata": {},
   "outputs": [
    {
     "name": "stdout",
     "output_type": "stream",
     "text": [
      "Survived + Pclass + SibSp + Parch + Fare + Ticket_Frequency + IsMarried + Child + Age_band + Fare_Range + Q + S + B + C + D + E + F + G + M + male + Miss_Mrs_Ms + Mr + Others + Big + Small + \n"
     ]
    }
   ],
   "source": [
    "res = ''\n",
    "for i in df.columns:\n",
    "    res += str(i) + ' + ' \n",
    "print(res)"
   ]
  },
  {
   "cell_type": "code",
   "execution_count": 78,
   "id": "0f8076d3",
   "metadata": {},
   "outputs": [
    {
     "data": {
      "text/html": [
       "<div>\n",
       "<style scoped>\n",
       "    .dataframe tbody tr th:only-of-type {\n",
       "        vertical-align: middle;\n",
       "    }\n",
       "\n",
       "    .dataframe tbody tr th {\n",
       "        vertical-align: top;\n",
       "    }\n",
       "\n",
       "    .dataframe thead th {\n",
       "        text-align: right;\n",
       "    }\n",
       "</style>\n",
       "<table border=\"1\" class=\"dataframe\">\n",
       "  <thead>\n",
       "    <tr style=\"text-align: right;\">\n",
       "      <th></th>\n",
       "      <th>Survived</th>\n",
       "      <th>Pclass</th>\n",
       "      <th>SibSp</th>\n",
       "      <th>Parch</th>\n",
       "      <th>Fare</th>\n",
       "      <th>Ticket_Frequency</th>\n",
       "      <th>IsMarried</th>\n",
       "      <th>Child</th>\n",
       "      <th>Age_band</th>\n",
       "      <th>Fare_Range</th>\n",
       "      <th>...</th>\n",
       "      <th>E</th>\n",
       "      <th>F</th>\n",
       "      <th>G</th>\n",
       "      <th>M</th>\n",
       "      <th>male</th>\n",
       "      <th>Miss_Mrs_Ms</th>\n",
       "      <th>Mr</th>\n",
       "      <th>Others</th>\n",
       "      <th>Big</th>\n",
       "      <th>Small</th>\n",
       "    </tr>\n",
       "  </thead>\n",
       "  <tbody>\n",
       "    <tr>\n",
       "      <th>0</th>\n",
       "      <td>0</td>\n",
       "      <td>3</td>\n",
       "      <td>1</td>\n",
       "      <td>0</td>\n",
       "      <td>7.2500</td>\n",
       "      <td>1</td>\n",
       "      <td>0</td>\n",
       "      <td>0</td>\n",
       "      <td>1</td>\n",
       "      <td>(-0.001, 7.91]</td>\n",
       "      <td>...</td>\n",
       "      <td>0</td>\n",
       "      <td>0</td>\n",
       "      <td>0</td>\n",
       "      <td>1</td>\n",
       "      <td>1</td>\n",
       "      <td>0</td>\n",
       "      <td>1</td>\n",
       "      <td>0</td>\n",
       "      <td>0</td>\n",
       "      <td>1</td>\n",
       "    </tr>\n",
       "    <tr>\n",
       "      <th>1</th>\n",
       "      <td>1</td>\n",
       "      <td>1</td>\n",
       "      <td>1</td>\n",
       "      <td>0</td>\n",
       "      <td>71.2833</td>\n",
       "      <td>1</td>\n",
       "      <td>1</td>\n",
       "      <td>0</td>\n",
       "      <td>2</td>\n",
       "      <td>(31.0, 512.329]</td>\n",
       "      <td>...</td>\n",
       "      <td>0</td>\n",
       "      <td>0</td>\n",
       "      <td>0</td>\n",
       "      <td>0</td>\n",
       "      <td>0</td>\n",
       "      <td>1</td>\n",
       "      <td>0</td>\n",
       "      <td>0</td>\n",
       "      <td>0</td>\n",
       "      <td>1</td>\n",
       "    </tr>\n",
       "    <tr>\n",
       "      <th>2</th>\n",
       "      <td>1</td>\n",
       "      <td>3</td>\n",
       "      <td>0</td>\n",
       "      <td>0</td>\n",
       "      <td>7.9250</td>\n",
       "      <td>1</td>\n",
       "      <td>0</td>\n",
       "      <td>0</td>\n",
       "      <td>1</td>\n",
       "      <td>(7.91, 14.454]</td>\n",
       "      <td>...</td>\n",
       "      <td>0</td>\n",
       "      <td>0</td>\n",
       "      <td>0</td>\n",
       "      <td>1</td>\n",
       "      <td>0</td>\n",
       "      <td>1</td>\n",
       "      <td>0</td>\n",
       "      <td>0</td>\n",
       "      <td>0</td>\n",
       "      <td>0</td>\n",
       "    </tr>\n",
       "    <tr>\n",
       "      <th>3</th>\n",
       "      <td>1</td>\n",
       "      <td>1</td>\n",
       "      <td>1</td>\n",
       "      <td>0</td>\n",
       "      <td>53.1000</td>\n",
       "      <td>2</td>\n",
       "      <td>1</td>\n",
       "      <td>0</td>\n",
       "      <td>2</td>\n",
       "      <td>(31.0, 512.329]</td>\n",
       "      <td>...</td>\n",
       "      <td>0</td>\n",
       "      <td>0</td>\n",
       "      <td>0</td>\n",
       "      <td>0</td>\n",
       "      <td>0</td>\n",
       "      <td>1</td>\n",
       "      <td>0</td>\n",
       "      <td>0</td>\n",
       "      <td>0</td>\n",
       "      <td>1</td>\n",
       "    </tr>\n",
       "    <tr>\n",
       "      <th>4</th>\n",
       "      <td>0</td>\n",
       "      <td>3</td>\n",
       "      <td>0</td>\n",
       "      <td>0</td>\n",
       "      <td>8.0500</td>\n",
       "      <td>1</td>\n",
       "      <td>0</td>\n",
       "      <td>0</td>\n",
       "      <td>2</td>\n",
       "      <td>(7.91, 14.454]</td>\n",
       "      <td>...</td>\n",
       "      <td>0</td>\n",
       "      <td>0</td>\n",
       "      <td>0</td>\n",
       "      <td>1</td>\n",
       "      <td>1</td>\n",
       "      <td>0</td>\n",
       "      <td>1</td>\n",
       "      <td>0</td>\n",
       "      <td>0</td>\n",
       "      <td>0</td>\n",
       "    </tr>\n",
       "  </tbody>\n",
       "</table>\n",
       "<p>5 rows × 25 columns</p>\n",
       "</div>"
      ],
      "text/plain": [
       "   Survived  Pclass  SibSp  Parch     Fare  Ticket_Frequency  IsMarried  \\\n",
       "0         0       3      1      0   7.2500                 1          0   \n",
       "1         1       1      1      0  71.2833                 1          1   \n",
       "2         1       3      0      0   7.9250                 1          0   \n",
       "3         1       1      1      0  53.1000                 2          1   \n",
       "4         0       3      0      0   8.0500                 1          0   \n",
       "\n",
       "   Child  Age_band       Fare_Range  ...  E  F  G  M  male  Miss_Mrs_Ms  Mr  \\\n",
       "0      0         1   (-0.001, 7.91]  ...  0  0  0  1     1            0   1   \n",
       "1      0         2  (31.0, 512.329]  ...  0  0  0  0     0            1   0   \n",
       "2      0         1   (7.91, 14.454]  ...  0  0  0  1     0            1   0   \n",
       "3      0         2  (31.0, 512.329]  ...  0  0  0  0     0            1   0   \n",
       "4      0         2   (7.91, 14.454]  ...  0  0  0  1     1            0   1   \n",
       "\n",
       "   Others  Big  Small  \n",
       "0       0    0      1  \n",
       "1       0    0      1  \n",
       "2       0    0      0  \n",
       "3       0    0      1  \n",
       "4       0    0      0  \n",
       "\n",
       "[5 rows x 25 columns]"
      ]
     },
     "execution_count": 78,
     "metadata": {},
     "output_type": "execute_result"
    }
   ],
   "source": [
    "df.head()"
   ]
  },
  {
   "cell_type": "code",
   "execution_count": 79,
   "id": "9438af9a",
   "metadata": {},
   "outputs": [
    {
     "name": "stdout",
     "output_type": "stream",
     "text": [
      "Optimization terminated successfully.\n",
      "         Current function value: 0.393608\n",
      "         Iterations 7\n"
     ]
    },
    {
     "data": {
      "text/html": [
       "<table class=\"simpletable\">\n",
       "<caption>Logit Regression Results</caption>\n",
       "<tr>\n",
       "  <th>Dep. Variable:</th>       <td>Survived</td>     <th>  No. Observations:  </th>  <td>   891</td>  \n",
       "</tr>\n",
       "<tr>\n",
       "  <th>Model:</th>                 <td>Logit</td>      <th>  Df Residuals:      </th>  <td>   866</td>  \n",
       "</tr>\n",
       "<tr>\n",
       "  <th>Method:</th>                 <td>MLE</td>       <th>  Df Model:          </th>  <td>    24</td>  \n",
       "</tr>\n",
       "<tr>\n",
       "  <th>Date:</th>            <td>Wed, 01 Dec 2021</td> <th>  Pseudo R-squ.:     </th>  <td>0.4089</td>  \n",
       "</tr>\n",
       "<tr>\n",
       "  <th>Time:</th>                <td>05:55:35</td>     <th>  Log-Likelihood:    </th> <td> -350.70</td> \n",
       "</tr>\n",
       "<tr>\n",
       "  <th>converged:</th>             <td>True</td>       <th>  LL-Null:           </th> <td> -593.33</td> \n",
       "</tr>\n",
       "<tr>\n",
       "  <th>Covariance Type:</th>     <td>nonrobust</td>    <th>  LLR p-value:       </th> <td>1.920e-87</td>\n",
       "</tr>\n",
       "</table>\n",
       "<table class=\"simpletable\">\n",
       "<tr>\n",
       "                            <td></td>                               <th>coef</th>     <th>std err</th>      <th>z</th>      <th>P>|z|</th>  <th>[0.025</th>    <th>0.975]</th>  \n",
       "</tr>\n",
       "<tr>\n",
       "  <th>Intercept</th>                                             <td>    3.9991</td> <td>    0.931</td> <td>    4.297</td> <td> 0.000</td> <td>    2.175</td> <td>    5.823</td>\n",
       "</tr>\n",
       "<tr>\n",
       "  <th>Fare_Range[T.Interval(7.91, 14.454, closed='right')]</th>  <td>    0.1753</td> <td>    0.318</td> <td>    0.552</td> <td> 0.581</td> <td>   -0.448</td> <td>    0.798</td>\n",
       "</tr>\n",
       "<tr>\n",
       "  <th>Fare_Range[T.Interval(14.454, 31.0, closed='right')]</th>  <td>    0.4089</td> <td>    0.393</td> <td>    1.041</td> <td> 0.298</td> <td>   -0.361</td> <td>    1.179</td>\n",
       "</tr>\n",
       "<tr>\n",
       "  <th>Fare_Range[T.Interval(31.0, 512.329, closed='right')]</th> <td>    0.5037</td> <td>    0.542</td> <td>    0.929</td> <td> 0.353</td> <td>   -0.559</td> <td>    1.567</td>\n",
       "</tr>\n",
       "<tr>\n",
       "  <th>Pclass</th>                                                <td>   -0.7701</td> <td>    0.229</td> <td>   -3.357</td> <td> 0.001</td> <td>   -1.220</td> <td>   -0.320</td>\n",
       "</tr>\n",
       "<tr>\n",
       "  <th>SibSp</th>                                                 <td>   -0.1094</td> <td>    0.227</td> <td>   -0.483</td> <td> 0.629</td> <td>   -0.554</td> <td>    0.335</td>\n",
       "</tr>\n",
       "<tr>\n",
       "  <th>Parch</th>                                                 <td>    0.0651</td> <td>    0.228</td> <td>    0.285</td> <td> 0.775</td> <td>   -0.382</td> <td>    0.512</td>\n",
       "</tr>\n",
       "<tr>\n",
       "  <th>Ticket_Frequency</th>                                      <td>    0.0699</td> <td>    0.129</td> <td>    0.543</td> <td> 0.587</td> <td>   -0.182</td> <td>    0.322</td>\n",
       "</tr>\n",
       "<tr>\n",
       "  <th>IsMarried</th>                                             <td>    0.5934</td> <td>    0.378</td> <td>    1.569</td> <td> 0.117</td> <td>   -0.148</td> <td>    1.335</td>\n",
       "</tr>\n",
       "<tr>\n",
       "  <th>Child</th>                                                 <td>    0.0872</td> <td>    0.417</td> <td>    0.209</td> <td> 0.834</td> <td>   -0.729</td> <td>    0.904</td>\n",
       "</tr>\n",
       "<tr>\n",
       "  <th>Age_band</th>                                              <td>   -0.4638</td> <td>    0.174</td> <td>   -2.671</td> <td> 0.008</td> <td>   -0.804</td> <td>   -0.124</td>\n",
       "</tr>\n",
       "<tr>\n",
       "  <th>Q</th>                                                     <td>   -0.0446</td> <td>    0.420</td> <td>   -0.106</td> <td> 0.915</td> <td>   -0.868</td> <td>    0.779</td>\n",
       "</tr>\n",
       "<tr>\n",
       "  <th>S</th>                                                     <td>   -0.3810</td> <td>    0.260</td> <td>   -1.467</td> <td> 0.142</td> <td>   -0.890</td> <td>    0.128</td>\n",
       "</tr>\n",
       "<tr>\n",
       "  <th>B</th>                                                     <td>    0.3840</td> <td>    0.713</td> <td>    0.539</td> <td> 0.590</td> <td>   -1.014</td> <td>    1.782</td>\n",
       "</tr>\n",
       "<tr>\n",
       "  <th>C</th>                                                     <td>   -0.0901</td> <td>    0.672</td> <td>   -0.134</td> <td> 0.893</td> <td>   -1.406</td> <td>    1.226</td>\n",
       "</tr>\n",
       "<tr>\n",
       "  <th>D</th>                                                     <td>    0.8875</td> <td>    0.751</td> <td>    1.181</td> <td> 0.238</td> <td>   -0.585</td> <td>    2.360</td>\n",
       "</tr>\n",
       "<tr>\n",
       "  <th>E</th>                                                     <td>    1.0669</td> <td>    0.752</td> <td>    1.418</td> <td> 0.156</td> <td>   -0.407</td> <td>    2.541</td>\n",
       "</tr>\n",
       "<tr>\n",
       "  <th>F</th>                                                     <td>    0.2211</td> <td>    1.102</td> <td>    0.201</td> <td> 0.841</td> <td>   -1.939</td> <td>    2.381</td>\n",
       "</tr>\n",
       "<tr>\n",
       "  <th>G</th>                                                     <td>   -1.3949</td> <td>    1.255</td> <td>   -1.112</td> <td> 0.266</td> <td>   -3.854</td> <td>    1.064</td>\n",
       "</tr>\n",
       "<tr>\n",
       "  <th>M</th>                                                     <td>   -0.4634</td> <td>    0.655</td> <td>   -0.707</td> <td> 0.479</td> <td>   -1.747</td> <td>    0.821</td>\n",
       "</tr>\n",
       "<tr>\n",
       "  <th>male</th>                                                  <td>    0.2801</td> <td>    0.548</td> <td>    0.511</td> <td> 0.610</td> <td>   -0.795</td> <td>    1.355</td>\n",
       "</tr>\n",
       "<tr>\n",
       "  <th>Mr</th>                                                    <td>   -3.2986</td> <td>    0.593</td> <td>   -5.566</td> <td> 0.000</td> <td>   -4.460</td> <td>   -2.137</td>\n",
       "</tr>\n",
       "<tr>\n",
       "  <th>Others</th>                                                <td>   -2.9690</td> <td>    0.775</td> <td>   -3.829</td> <td> 0.000</td> <td>   -4.489</td> <td>   -1.449</td>\n",
       "</tr>\n",
       "<tr>\n",
       "  <th>Big</th>                                                   <td>   -3.1760</td> <td>    1.100</td> <td>   -2.889</td> <td> 0.004</td> <td>   -5.331</td> <td>   -1.021</td>\n",
       "</tr>\n",
       "<tr>\n",
       "  <th>Small</th>                                                 <td>   -0.4798</td> <td>    0.397</td> <td>   -1.209</td> <td> 0.226</td> <td>   -1.257</td> <td>    0.298</td>\n",
       "</tr>\n",
       "</table>"
      ],
      "text/plain": [
       "<class 'statsmodels.iolib.summary.Summary'>\n",
       "\"\"\"\n",
       "                           Logit Regression Results                           \n",
       "==============================================================================\n",
       "Dep. Variable:               Survived   No. Observations:                  891\n",
       "Model:                          Logit   Df Residuals:                      866\n",
       "Method:                           MLE   Df Model:                           24\n",
       "Date:                Wed, 01 Dec 2021   Pseudo R-squ.:                  0.4089\n",
       "Time:                        05:55:35   Log-Likelihood:                -350.70\n",
       "converged:                       True   LL-Null:                       -593.33\n",
       "Covariance Type:            nonrobust   LLR p-value:                 1.920e-87\n",
       "=========================================================================================================================\n",
       "                                                            coef    std err          z      P>|z|      [0.025      0.975]\n",
       "-------------------------------------------------------------------------------------------------------------------------\n",
       "Intercept                                                 3.9991      0.931      4.297      0.000       2.175       5.823\n",
       "Fare_Range[T.Interval(7.91, 14.454, closed='right')]      0.1753      0.318      0.552      0.581      -0.448       0.798\n",
       "Fare_Range[T.Interval(14.454, 31.0, closed='right')]      0.4089      0.393      1.041      0.298      -0.361       1.179\n",
       "Fare_Range[T.Interval(31.0, 512.329, closed='right')]     0.5037      0.542      0.929      0.353      -0.559       1.567\n",
       "Pclass                                                   -0.7701      0.229     -3.357      0.001      -1.220      -0.320\n",
       "SibSp                                                    -0.1094      0.227     -0.483      0.629      -0.554       0.335\n",
       "Parch                                                     0.0651      0.228      0.285      0.775      -0.382       0.512\n",
       "Ticket_Frequency                                          0.0699      0.129      0.543      0.587      -0.182       0.322\n",
       "IsMarried                                                 0.5934      0.378      1.569      0.117      -0.148       1.335\n",
       "Child                                                     0.0872      0.417      0.209      0.834      -0.729       0.904\n",
       "Age_band                                                 -0.4638      0.174     -2.671      0.008      -0.804      -0.124\n",
       "Q                                                        -0.0446      0.420     -0.106      0.915      -0.868       0.779\n",
       "S                                                        -0.3810      0.260     -1.467      0.142      -0.890       0.128\n",
       "B                                                         0.3840      0.713      0.539      0.590      -1.014       1.782\n",
       "C                                                        -0.0901      0.672     -0.134      0.893      -1.406       1.226\n",
       "D                                                         0.8875      0.751      1.181      0.238      -0.585       2.360\n",
       "E                                                         1.0669      0.752      1.418      0.156      -0.407       2.541\n",
       "F                                                         0.2211      1.102      0.201      0.841      -1.939       2.381\n",
       "G                                                        -1.3949      1.255     -1.112      0.266      -3.854       1.064\n",
       "M                                                        -0.4634      0.655     -0.707      0.479      -1.747       0.821\n",
       "male                                                      0.2801      0.548      0.511      0.610      -0.795       1.355\n",
       "Mr                                                       -3.2986      0.593     -5.566      0.000      -4.460      -2.137\n",
       "Others                                                   -2.9690      0.775     -3.829      0.000      -4.489      -1.449\n",
       "Big                                                      -3.1760      1.100     -2.889      0.004      -5.331      -1.021\n",
       "Small                                                    -0.4798      0.397     -1.209      0.226      -1.257       0.298\n",
       "=========================================================================================================================\n",
       "\"\"\""
      ]
     },
     "execution_count": 79,
     "metadata": {},
     "output_type": "execute_result"
    }
   ],
   "source": [
    "import statsmodels.formula.api as smf\n",
    "\n",
    "m1 = smf.logit(\n",
    "  formula='Survived ~ Pclass + SibSp + Parch + Ticket_Frequency + IsMarried + Child + Age_band + Fare_Range + Q + S + B + C + D + E + F + G + M + male + Mr + Others + Big + Small',\n",
    "  data=df) \\\n",
    ".fit()\n",
    "\n",
    "m1.summary()"
   ]
  },
  {
   "cell_type": "code",
   "execution_count": 80,
   "id": "4f745002",
   "metadata": {},
   "outputs": [],
   "source": [
    "X = df.drop(['Survived','Miss_Mrs_Ms', 'Fare'], axis = 1)"
   ]
  },
  {
   "cell_type": "code",
   "execution_count": 81,
   "id": "b61f3c9b",
   "metadata": {},
   "outputs": [
    {
     "name": "stdout",
     "output_type": "stream",
     "text": [
      "Threshold 0.41: 0.7885714285714286\n"
     ]
    }
   ],
   "source": [
    "predictions = m1.predict(X)\n",
    "thresholds = np.arange(0, 100)/100\n",
    "best_thres = 0\n",
    "best_score = 0\n",
    "for thresh in thresholds:\n",
    "    oofs_rounded = (predictions > thresh) * 1\n",
    "    thresh_score = f1_score(df[\"Survived\"], oofs_rounded)\n",
    "    if thresh_score > best_score:\n",
    "        best_score = thresh_score\n",
    "        best_thres = thresh\n",
    "print(f'Threshold {best_thres}: {best_score}')"
   ]
  },
  {
   "cell_type": "code",
   "execution_count": 82,
   "id": "e303783b",
   "metadata": {},
   "outputs": [],
   "source": [
    "round_preds = (predictions > best_thres) * 1"
   ]
  },
  {
   "cell_type": "code",
   "execution_count": 83,
   "id": "4700a9eb",
   "metadata": {},
   "outputs": [
    {
     "name": "stdout",
     "output_type": "stream",
     "text": [
      "[[467  82]\n",
      " [ 66 276]]\n"
     ]
    }
   ],
   "source": [
    "print(confusion_matrix(df[\"Survived\"], round_preds))"
   ]
  },
  {
   "cell_type": "markdown",
   "id": "b9f8310f",
   "metadata": {},
   "source": [
    "Thus we have 492 True Negatives, 57 False Positives, 81 False Negatives, 261 True Positives"
   ]
  },
  {
   "cell_type": "code",
   "execution_count": 84,
   "id": "5dff3b90",
   "metadata": {},
   "outputs": [
    {
     "data": {
      "text/plain": [
       "Pclass                 int64\n",
       "SibSp                  int64\n",
       "Parch                  int64\n",
       "Ticket_Frequency       int64\n",
       "IsMarried              int64\n",
       "Child                  int64\n",
       "Age_band               int64\n",
       "Fare_Range          category\n",
       "Q                      uint8\n",
       "S                      uint8\n",
       "B                      uint8\n",
       "C                      uint8\n",
       "D                      uint8\n",
       "E                      uint8\n",
       "F                      uint8\n",
       "G                      uint8\n",
       "M                      uint8\n",
       "male                   uint8\n",
       "Mr                     uint8\n",
       "Others                 uint8\n",
       "Big                    uint8\n",
       "Small                  uint8\n",
       "dtype: object"
      ]
     },
     "execution_count": 84,
     "metadata": {},
     "output_type": "execute_result"
    }
   ],
   "source": [
    "X.dtypes"
   ]
  },
  {
   "cell_type": "markdown",
   "id": "98c3c0ab",
   "metadata": {},
   "source": [
    "## Updates"
   ]
  },
  {
   "cell_type": "code",
   "execution_count": 85,
   "id": "58da2fcd",
   "metadata": {},
   "outputs": [],
   "source": [
    "# Create new feature Age_band*Pclass\n",
    "\n",
    "df['Age_Class'] = df['Pclass']*df['Age_band']"
   ]
  },
  {
   "cell_type": "markdown",
   "id": "9eb31afa",
   "metadata": {},
   "source": [
    "### Upsampling & Downsampling"
   ]
  },
  {
   "cell_type": "code",
   "execution_count": 144,
   "id": "94ae38af",
   "metadata": {},
   "outputs": [
    {
     "name": "stdout",
     "output_type": "stream",
     "text": [
      "Original shape: (891, 23) (891,)\n",
      "Upsampled shape: (1098, 23) (1098,)\n",
      "Downsampled shape: (684, 23) (684,)\n"
     ]
    }
   ],
   "source": [
    "# Using resample to upsample and downsample to the minority class\n",
    "\n",
    "from sklearn.utils import resample\n",
    "\n",
    "X_train = df.drop(['Survived','Miss_Mrs_Ms', 'Fare'], axis = 1)\n",
    "y_train = df['Survived']\n",
    "# Upsample minority class\n",
    "X_train_u, y_train_u = resample(X_train[y_train == 1],\n",
    "                                y_train[y_train == 1],\n",
    "                                replace=True,\n",
    "                                n_samples=X_train[y_train == 0].shape[0],\n",
    "                                random_state=1)\n",
    "\n",
    "X_train_u = np.concatenate((X_train[y_train == 0], X_train_u))\n",
    "y_train_u = np.concatenate((y_train[y_train == 0], y_train_u))\n",
    "\n",
    "\n",
    "# Downsample majority class\n",
    "X_train_d, y_train_d = resample(X_train[y_train == 0],\n",
    "                                y_train[y_train == 0],\n",
    "                                replace=True,\n",
    "                                n_samples=X_train[y_train == 1].shape[0],\n",
    "                                random_state=1)\n",
    "X_train_d = np.concatenate((X_train[y_train == 1], X_train_d))\n",
    "y_train_d = np.concatenate((y_train[y_train == 1], y_train_d))\n",
    "\n",
    "\n",
    "print(\"Original shape:\", X_train.shape, y_train.shape)\n",
    "print(\"Upsampled shape:\", X_train_u.shape, y_train_u.shape)\n",
    "#print (\"SMOTE sample shape:\", x_train_sm.shape, y_train_sm.shape)\n",
    "print(\"Downsampled shape:\", X_train_d.shape, y_train_d.shape)"
   ]
  },
  {
   "cell_type": "code",
   "execution_count": 149,
   "id": "037c0c7b",
   "metadata": {},
   "outputs": [],
   "source": [
    "# Creating the upsampled and downsampled dataframes\n",
    "\n",
    "X_train_u = pd.DataFrame(X_train_u, columns=X.columns)\n",
    "X_train_d = pd.DataFrame(X_train_d, columns=X.columns, dtype=X.dtypes.values)\n",
    "X_train_u['Survived'] = y_train_u\n",
    "X_train_d['Survived'] = y_train_d\n",
    "X_train_u['Fare_Range'] = X_train_u['Fare_Range'].astype('category')\n",
    "X_train_d['Fare_Range'] = X_train_d['Fare_Range'].astype('category')"
   ]
  },
  {
   "cell_type": "code",
   "execution_count": 150,
   "id": "fc127f64",
   "metadata": {},
   "outputs": [
    {
     "name": "stdout",
     "output_type": "stream",
     "text": [
      "Warning: Maximum number of iterations has been exceeded.\n",
      "         Current function value: 0.381698\n",
      "         Iterations: 35\n"
     ]
    },
    {
     "name": "stderr",
     "output_type": "stream",
     "text": [
      "C:\\Users\\hp\\Anaconda3\\lib\\site-packages\\statsmodels\\base\\model.py:606: ConvergenceWarning: Maximum Likelihood optimization failed to converge. Check mle_retvals\n",
      "  ConvergenceWarning)\n"
     ]
    },
    {
     "data": {
      "text/html": [
       "<table class=\"simpletable\">\n",
       "<caption>Logit Regression Results</caption>\n",
       "<tr>\n",
       "  <th>Dep. Variable:</th>       <td>Survived</td>     <th>  No. Observations:  </th>   <td>  1098</td>  \n",
       "</tr>\n",
       "<tr>\n",
       "  <th>Model:</th>                 <td>Logit</td>      <th>  Df Residuals:      </th>   <td>  1047</td>  \n",
       "</tr>\n",
       "<tr>\n",
       "  <th>Method:</th>                 <td>MLE</td>       <th>  Df Model:          </th>   <td>    50</td>  \n",
       "</tr>\n",
       "<tr>\n",
       "  <th>Date:</th>            <td>Thu, 02 Dec 2021</td> <th>  Pseudo R-squ.:     </th>   <td>0.4493</td>  \n",
       "</tr>\n",
       "<tr>\n",
       "  <th>Time:</th>                <td>03:25:23</td>     <th>  Log-Likelihood:    </th>  <td> -419.10</td> \n",
       "</tr>\n",
       "<tr>\n",
       "  <th>converged:</th>             <td>False</td>      <th>  LL-Null:           </th>  <td> -761.08</td> \n",
       "</tr>\n",
       "<tr>\n",
       "  <th>Covariance Type:</th>     <td>nonrobust</td>    <th>  LLR p-value:       </th> <td>3.453e-112</td>\n",
       "</tr>\n",
       "</table>\n",
       "<table class=\"simpletable\">\n",
       "<tr>\n",
       "                            <td></td>                               <th>coef</th>     <th>std err</th>      <th>z</th>      <th>P>|z|</th>  <th>[0.025</th>    <th>0.975]</th>  \n",
       "</tr>\n",
       "<tr>\n",
       "  <th>Intercept</th>                                             <td>    1.0938</td> <td>    1.500</td> <td>    0.729</td> <td> 0.466</td> <td>   -1.845</td> <td>    4.033</td>\n",
       "</tr>\n",
       "<tr>\n",
       "  <th>Pclass[T.2]</th>                                           <td>    1.2351</td> <td>    1.469</td> <td>    0.841</td> <td> 0.400</td> <td>   -1.644</td> <td>    4.114</td>\n",
       "</tr>\n",
       "<tr>\n",
       "  <th>Pclass[T.3]</th>                                           <td>   -0.5783</td> <td>    1.267</td> <td>   -0.456</td> <td> 0.648</td> <td>   -3.062</td> <td>    1.905</td>\n",
       "</tr>\n",
       "<tr>\n",
       "  <th>SibSp[T.1]</th>                                            <td>   -0.0156</td> <td>    0.478</td> <td>   -0.033</td> <td> 0.974</td> <td>   -0.953</td> <td>    0.922</td>\n",
       "</tr>\n",
       "<tr>\n",
       "  <th>SibSp[T.2]</th>                                            <td>    1.3456</td> <td>    0.720</td> <td>    1.868</td> <td> 0.062</td> <td>   -0.066</td> <td>    2.758</td>\n",
       "</tr>\n",
       "<tr>\n",
       "  <th>SibSp[T.3]</th>                                            <td>    0.7408</td> <td>    1.232</td> <td>    0.601</td> <td> 0.548</td> <td>   -1.674</td> <td>    3.155</td>\n",
       "</tr>\n",
       "<tr>\n",
       "  <th>SibSp[T.4]</th>                                            <td>    1.2711</td> <td>    1.297</td> <td>    0.980</td> <td> 0.327</td> <td>   -1.272</td> <td>    3.814</td>\n",
       "</tr>\n",
       "<tr>\n",
       "  <th>SibSp[T.5]</th>                                            <td>    0.9788</td> <td> 7766.329</td> <td>    0.000</td> <td> 1.000</td> <td>-1.52e+04</td> <td> 1.52e+04</td>\n",
       "</tr>\n",
       "<tr>\n",
       "  <th>SibSp[T.8]</th>                                            <td>  -97.4643</td> <td> 1.04e+21</td> <td>-9.39e-20</td> <td> 1.000</td> <td>-2.04e+21</td> <td> 2.04e+21</td>\n",
       "</tr>\n",
       "<tr>\n",
       "  <th>Parch[T.1]</th>                                            <td>   -0.5896</td> <td>    0.428</td> <td>   -1.379</td> <td> 0.168</td> <td>   -1.428</td> <td>    0.249</td>\n",
       "</tr>\n",
       "<tr>\n",
       "  <th>Parch[T.2]</th>                                            <td>   -0.2703</td> <td>    0.590</td> <td>   -0.458</td> <td> 0.647</td> <td>   -1.427</td> <td>    0.887</td>\n",
       "</tr>\n",
       "<tr>\n",
       "  <th>Parch[T.3]</th>                                            <td>    2.6476</td> <td>    1.649</td> <td>    1.606</td> <td> 0.108</td> <td>   -0.584</td> <td>    5.879</td>\n",
       "</tr>\n",
       "<tr>\n",
       "  <th>Parch[T.4]</th>                                            <td>  -16.8059</td> <td> 1.17e+04</td> <td>   -0.001</td> <td> 0.999</td> <td> -2.3e+04</td> <td>  2.3e+04</td>\n",
       "</tr>\n",
       "<tr>\n",
       "  <th>Parch[T.5]</th>                                            <td>  -20.1932</td> <td> 3.67e+04</td> <td>   -0.001</td> <td> 1.000</td> <td>-7.19e+04</td> <td> 7.18e+04</td>\n",
       "</tr>\n",
       "<tr>\n",
       "  <th>Parch[T.6]</th>                                            <td>    1.0223</td> <td>  2.4e+04</td> <td> 4.27e-05</td> <td> 1.000</td> <td> -4.7e+04</td> <td>  4.7e+04</td>\n",
       "</tr>\n",
       "<tr>\n",
       "  <th>Ticket_Frequency[T.2]</th>                                 <td>   -0.0660</td> <td>    0.301</td> <td>   -0.219</td> <td> 0.826</td> <td>   -0.656</td> <td>    0.524</td>\n",
       "</tr>\n",
       "<tr>\n",
       "  <th>Ticket_Frequency[T.3]</th>                                 <td>    0.2667</td> <td>    0.435</td> <td>    0.613</td> <td> 0.540</td> <td>   -0.587</td> <td>    1.120</td>\n",
       "</tr>\n",
       "<tr>\n",
       "  <th>Ticket_Frequency[T.4]</th>                                 <td>    0.0999</td> <td>    0.590</td> <td>    0.169</td> <td> 0.866</td> <td>   -1.056</td> <td>    1.256</td>\n",
       "</tr>\n",
       "<tr>\n",
       "  <th>Ticket_Frequency[T.5]</th>                                 <td>  -23.8209</td> <td> 4.38e+04</td> <td>   -0.001</td> <td> 1.000</td> <td>-8.58e+04</td> <td> 8.57e+04</td>\n",
       "</tr>\n",
       "<tr>\n",
       "  <th>Ticket_Frequency[T.6]</th>                                 <td>  -18.5631</td> <td> 4831.678</td> <td>   -0.004</td> <td> 0.997</td> <td>-9488.477</td> <td> 9451.351</td>\n",
       "</tr>\n",
       "<tr>\n",
       "  <th>Ticket_Frequency[T.7]</th>                                 <td>    1.7367</td> <td>    0.826</td> <td>    2.103</td> <td> 0.035</td> <td>    0.118</td> <td>    3.355</td>\n",
       "</tr>\n",
       "<tr>\n",
       "  <th>IsMarried[T.1]</th>                                        <td>    0.6891</td> <td>    0.378</td> <td>    1.822</td> <td> 0.068</td> <td>   -0.052</td> <td>    1.430</td>\n",
       "</tr>\n",
       "<tr>\n",
       "  <th>Child[T.1]</th>                                            <td>    1.8920</td> <td>    0.686</td> <td>    2.760</td> <td> 0.006</td> <td>    0.548</td> <td>    3.236</td>\n",
       "</tr>\n",
       "<tr>\n",
       "  <th>Age_band[T.1]</th>                                         <td>    1.4812</td> <td>      nan</td> <td>      nan</td> <td>   nan</td> <td>      nan</td> <td>      nan</td>\n",
       "</tr>\n",
       "<tr>\n",
       "  <th>Age_band[T.2]</th>                                         <td>    3.1079</td> <td>      nan</td> <td>      nan</td> <td>   nan</td> <td>      nan</td> <td>      nan</td>\n",
       "</tr>\n",
       "<tr>\n",
       "  <th>Age_band[T.3]</th>                                         <td>    2.2155</td> <td>      nan</td> <td>      nan</td> <td>   nan</td> <td>      nan</td> <td>      nan</td>\n",
       "</tr>\n",
       "<tr>\n",
       "  <th>Age_band[T.4]</th>                                         <td>  -16.7861</td> <td>      nan</td> <td>      nan</td> <td>   nan</td> <td>      nan</td> <td>      nan</td>\n",
       "</tr>\n",
       "<tr>\n",
       "  <th>Fare_Range[T.Interval(7.91, 14.454, closed='right')]</th>  <td>    0.0299</td> <td>    0.293</td> <td>    0.102</td> <td> 0.919</td> <td>   -0.545</td> <td>    0.605</td>\n",
       "</tr>\n",
       "<tr>\n",
       "  <th>Fare_Range[T.Interval(14.454, 31.0, closed='right')]</th>  <td>    0.0469</td> <td>    0.368</td> <td>    0.127</td> <td> 0.899</td> <td>   -0.675</td> <td>    0.769</td>\n",
       "</tr>\n",
       "<tr>\n",
       "  <th>Fare_Range[T.Interval(31.0, 512.329, closed='right')]</th> <td>   -0.0806</td> <td>    0.556</td> <td>   -0.145</td> <td> 0.885</td> <td>   -1.169</td> <td>    1.008</td>\n",
       "</tr>\n",
       "<tr>\n",
       "  <th>Q[T.1]</th>                                                <td>    0.2060</td> <td>    0.390</td> <td>    0.529</td> <td> 0.597</td> <td>   -0.558</td> <td>    0.970</td>\n",
       "</tr>\n",
       "<tr>\n",
       "  <th>S[T.1]</th>                                                <td>   -0.4811</td> <td>    0.246</td> <td>   -1.957</td> <td> 0.050</td> <td>   -0.963</td> <td>    0.001</td>\n",
       "</tr>\n",
       "<tr>\n",
       "  <th>B[T.1]</th>                                                <td>    0.3569</td> <td>    0.686</td> <td>    0.520</td> <td> 0.603</td> <td>   -0.988</td> <td>    1.701</td>\n",
       "</tr>\n",
       "<tr>\n",
       "  <th>C[T.1]</th>                                                <td>   -0.2542</td> <td>    0.618</td> <td>   -0.411</td> <td> 0.681</td> <td>   -1.465</td> <td>    0.957</td>\n",
       "</tr>\n",
       "<tr>\n",
       "  <th>D[T.1]</th>                                                <td>    0.9620</td> <td>    0.702</td> <td>    1.370</td> <td> 0.171</td> <td>   -0.414</td> <td>    2.338</td>\n",
       "</tr>\n",
       "<tr>\n",
       "  <th>E[T.1]</th>                                                <td>    1.0264</td> <td>    0.708</td> <td>    1.450</td> <td> 0.147</td> <td>   -0.361</td> <td>    2.414</td>\n",
       "</tr>\n",
       "<tr>\n",
       "  <th>F[T.1]</th>                                                <td>   -0.5310</td> <td>    1.126</td> <td>   -0.472</td> <td> 0.637</td> <td>   -2.737</td> <td>    1.675</td>\n",
       "</tr>\n",
       "<tr>\n",
       "  <th>G[T.1]</th>                                                <td>   -0.8528</td> <td>    1.172</td> <td>   -0.728</td> <td> 0.467</td> <td>   -3.149</td> <td>    1.444</td>\n",
       "</tr>\n",
       "<tr>\n",
       "  <th>M[T.1]</th>                                                <td>   -0.6323</td> <td>    0.623</td> <td>   -1.016</td> <td> 0.310</td> <td>   -1.853</td> <td>    0.588</td>\n",
       "</tr>\n",
       "<tr>\n",
       "  <th>male[T.1]</th>                                             <td>    1.7295</td> <td>    0.652</td> <td>    2.652</td> <td> 0.008</td> <td>    0.451</td> <td>    3.008</td>\n",
       "</tr>\n",
       "<tr>\n",
       "  <th>Mr[T.1]</th>                                               <td>   -4.7763</td> <td>    0.689</td> <td>   -6.931</td> <td> 0.000</td> <td>   -6.127</td> <td>   -3.426</td>\n",
       "</tr>\n",
       "<tr>\n",
       "  <th>Others[T.1]</th>                                           <td>   -4.5419</td> <td>    0.835</td> <td>   -5.440</td> <td> 0.000</td> <td>   -6.178</td> <td>   -2.906</td>\n",
       "</tr>\n",
       "<tr>\n",
       "  <th>Big[T.1]</th>                                              <td>   -3.6727</td> <td>    1.331</td> <td>   -2.759</td> <td> 0.006</td> <td>   -6.281</td> <td>   -1.064</td>\n",
       "</tr>\n",
       "<tr>\n",
       "  <th>Small[T.1]</th>                                            <td>   -0.2821</td> <td>    0.571</td> <td>   -0.494</td> <td> 0.621</td> <td>   -1.401</td> <td>    0.837</td>\n",
       "</tr>\n",
       "<tr>\n",
       "  <th>Age_Class[T.1]</th>                                        <td>    1.1688</td> <td>      nan</td> <td>      nan</td> <td>   nan</td> <td>      nan</td> <td>      nan</td>\n",
       "</tr>\n",
       "<tr>\n",
       "  <th>Age_Class[T.2]</th>                                        <td>   -0.8542</td> <td>      nan</td> <td>      nan</td> <td>   nan</td> <td>      nan</td> <td>      nan</td>\n",
       "</tr>\n",
       "<tr>\n",
       "  <th>Age_Class[T.3]</th>                                        <td>   -0.0887</td> <td>      nan</td> <td>      nan</td> <td>   nan</td> <td>      nan</td> <td>      nan</td>\n",
       "</tr>\n",
       "<tr>\n",
       "  <th>Age_Class[T.4]</th>                                        <td>   -2.5753</td> <td>      nan</td> <td>      nan</td> <td>   nan</td> <td>      nan</td> <td>      nan</td>\n",
       "</tr>\n",
       "<tr>\n",
       "  <th>Age_Class[T.6]</th>                                        <td>   -2.0160</td> <td>      nan</td> <td>      nan</td> <td>   nan</td> <td>      nan</td> <td>      nan</td>\n",
       "</tr>\n",
       "<tr>\n",
       "  <th>Age_Class[T.8]</th>                                        <td>   -2.5628</td> <td>      nan</td> <td>      nan</td> <td>   nan</td> <td>      nan</td> <td>      nan</td>\n",
       "</tr>\n",
       "<tr>\n",
       "  <th>Age_Class[T.9]</th>                                        <td>   -1.6949</td> <td>      nan</td> <td>      nan</td> <td>   nan</td> <td>      nan</td> <td>      nan</td>\n",
       "</tr>\n",
       "<tr>\n",
       "  <th>Age_Class[T.12]</th>                                       <td>   -1.3583</td> <td>      nan</td> <td>      nan</td> <td>   nan</td> <td>      nan</td> <td>      nan</td>\n",
       "</tr>\n",
       "</table>"
      ],
      "text/plain": [
       "<class 'statsmodels.iolib.summary.Summary'>\n",
       "\"\"\"\n",
       "                           Logit Regression Results                           \n",
       "==============================================================================\n",
       "Dep. Variable:               Survived   No. Observations:                 1098\n",
       "Model:                          Logit   Df Residuals:                     1047\n",
       "Method:                           MLE   Df Model:                           50\n",
       "Date:                Thu, 02 Dec 2021   Pseudo R-squ.:                  0.4493\n",
       "Time:                        03:25:23   Log-Likelihood:                -419.10\n",
       "converged:                      False   LL-Null:                       -761.08\n",
       "Covariance Type:            nonrobust   LLR p-value:                3.453e-112\n",
       "=========================================================================================================================\n",
       "                                                            coef    std err          z      P>|z|      [0.025      0.975]\n",
       "-------------------------------------------------------------------------------------------------------------------------\n",
       "Intercept                                                 1.0938      1.500      0.729      0.466      -1.845       4.033\n",
       "Pclass[T.2]                                               1.2351      1.469      0.841      0.400      -1.644       4.114\n",
       "Pclass[T.3]                                              -0.5783      1.267     -0.456      0.648      -3.062       1.905\n",
       "SibSp[T.1]                                               -0.0156      0.478     -0.033      0.974      -0.953       0.922\n",
       "SibSp[T.2]                                                1.3456      0.720      1.868      0.062      -0.066       2.758\n",
       "SibSp[T.3]                                                0.7408      1.232      0.601      0.548      -1.674       3.155\n",
       "SibSp[T.4]                                                1.2711      1.297      0.980      0.327      -1.272       3.814\n",
       "SibSp[T.5]                                                0.9788   7766.329      0.000      1.000   -1.52e+04    1.52e+04\n",
       "SibSp[T.8]                                              -97.4643   1.04e+21  -9.39e-20      1.000   -2.04e+21    2.04e+21\n",
       "Parch[T.1]                                               -0.5896      0.428     -1.379      0.168      -1.428       0.249\n",
       "Parch[T.2]                                               -0.2703      0.590     -0.458      0.647      -1.427       0.887\n",
       "Parch[T.3]                                                2.6476      1.649      1.606      0.108      -0.584       5.879\n",
       "Parch[T.4]                                              -16.8059   1.17e+04     -0.001      0.999    -2.3e+04     2.3e+04\n",
       "Parch[T.5]                                              -20.1932   3.67e+04     -0.001      1.000   -7.19e+04    7.18e+04\n",
       "Parch[T.6]                                                1.0223    2.4e+04   4.27e-05      1.000    -4.7e+04     4.7e+04\n",
       "Ticket_Frequency[T.2]                                    -0.0660      0.301     -0.219      0.826      -0.656       0.524\n",
       "Ticket_Frequency[T.3]                                     0.2667      0.435      0.613      0.540      -0.587       1.120\n",
       "Ticket_Frequency[T.4]                                     0.0999      0.590      0.169      0.866      -1.056       1.256\n",
       "Ticket_Frequency[T.5]                                   -23.8209   4.38e+04     -0.001      1.000   -8.58e+04    8.57e+04\n",
       "Ticket_Frequency[T.6]                                   -18.5631   4831.678     -0.004      0.997   -9488.477    9451.351\n",
       "Ticket_Frequency[T.7]                                     1.7367      0.826      2.103      0.035       0.118       3.355\n",
       "IsMarried[T.1]                                            0.6891      0.378      1.822      0.068      -0.052       1.430\n",
       "Child[T.1]                                                1.8920      0.686      2.760      0.006       0.548       3.236\n",
       "Age_band[T.1]                                             1.4812        nan        nan        nan         nan         nan\n",
       "Age_band[T.2]                                             3.1079        nan        nan        nan         nan         nan\n",
       "Age_band[T.3]                                             2.2155        nan        nan        nan         nan         nan\n",
       "Age_band[T.4]                                           -16.7861        nan        nan        nan         nan         nan\n",
       "Fare_Range[T.Interval(7.91, 14.454, closed='right')]      0.0299      0.293      0.102      0.919      -0.545       0.605\n",
       "Fare_Range[T.Interval(14.454, 31.0, closed='right')]      0.0469      0.368      0.127      0.899      -0.675       0.769\n",
       "Fare_Range[T.Interval(31.0, 512.329, closed='right')]    -0.0806      0.556     -0.145      0.885      -1.169       1.008\n",
       "Q[T.1]                                                    0.2060      0.390      0.529      0.597      -0.558       0.970\n",
       "S[T.1]                                                   -0.4811      0.246     -1.957      0.050      -0.963       0.001\n",
       "B[T.1]                                                    0.3569      0.686      0.520      0.603      -0.988       1.701\n",
       "C[T.1]                                                   -0.2542      0.618     -0.411      0.681      -1.465       0.957\n",
       "D[T.1]                                                    0.9620      0.702      1.370      0.171      -0.414       2.338\n",
       "E[T.1]                                                    1.0264      0.708      1.450      0.147      -0.361       2.414\n",
       "F[T.1]                                                   -0.5310      1.126     -0.472      0.637      -2.737       1.675\n",
       "G[T.1]                                                   -0.8528      1.172     -0.728      0.467      -3.149       1.444\n",
       "M[T.1]                                                   -0.6323      0.623     -1.016      0.310      -1.853       0.588\n",
       "male[T.1]                                                 1.7295      0.652      2.652      0.008       0.451       3.008\n",
       "Mr[T.1]                                                  -4.7763      0.689     -6.931      0.000      -6.127      -3.426\n",
       "Others[T.1]                                              -4.5419      0.835     -5.440      0.000      -6.178      -2.906\n",
       "Big[T.1]                                                 -3.6727      1.331     -2.759      0.006      -6.281      -1.064\n",
       "Small[T.1]                                               -0.2821      0.571     -0.494      0.621      -1.401       0.837\n",
       "Age_Class[T.1]                                            1.1688        nan        nan        nan         nan         nan\n",
       "Age_Class[T.2]                                           -0.8542        nan        nan        nan         nan         nan\n",
       "Age_Class[T.3]                                           -0.0887        nan        nan        nan         nan         nan\n",
       "Age_Class[T.4]                                           -2.5753        nan        nan        nan         nan         nan\n",
       "Age_Class[T.6]                                           -2.0160        nan        nan        nan         nan         nan\n",
       "Age_Class[T.8]                                           -2.5628        nan        nan        nan         nan         nan\n",
       "Age_Class[T.9]                                           -1.6949        nan        nan        nan         nan         nan\n",
       "Age_Class[T.12]                                          -1.3583        nan        nan        nan         nan         nan\n",
       "=========================================================================================================================\n",
       "\"\"\""
      ]
     },
     "execution_count": 150,
     "metadata": {},
     "output_type": "execute_result"
    }
   ],
   "source": [
    "# Fitting on the upsampled data\n",
    "m1 = smf.logit(\n",
    "  formula='Survived ~ Pclass + SibSp + Parch + Ticket_Frequency + IsMarried + Child + Age_band + Fare_Range + Q + S + B + C + D + E + F + G + M + male + Mr + Others + Big + Small + Age_Class',\n",
    "  data=X_train_u) \\\n",
    ".fit()\n",
    "\n",
    "m1.summary()"
   ]
  },
  {
   "cell_type": "code",
   "execution_count": 151,
   "id": "ae6d7e87",
   "metadata": {},
   "outputs": [
    {
     "name": "stdout",
     "output_type": "stream",
     "text": [
      "Warning: Maximum number of iterations has been exceeded.\n",
      "         Current function value: 0.382638\n",
      "         Iterations: 35\n"
     ]
    },
    {
     "name": "stderr",
     "output_type": "stream",
     "text": [
      "C:\\Users\\hp\\Anaconda3\\lib\\site-packages\\statsmodels\\base\\model.py:606: ConvergenceWarning: Maximum Likelihood optimization failed to converge. Check mle_retvals\n",
      "  ConvergenceWarning)\n"
     ]
    },
    {
     "data": {
      "text/html": [
       "<table class=\"simpletable\">\n",
       "<caption>Logit Regression Results</caption>\n",
       "<tr>\n",
       "  <th>Dep. Variable:</th>       <td>Survived</td>     <th>  No. Observations:  </th>  <td>   684</td>  \n",
       "</tr>\n",
       "<tr>\n",
       "  <th>Model:</th>                 <td>Logit</td>      <th>  Df Residuals:      </th>  <td>   635</td>  \n",
       "</tr>\n",
       "<tr>\n",
       "  <th>Method:</th>                 <td>MLE</td>       <th>  Df Model:          </th>  <td>    48</td>  \n",
       "</tr>\n",
       "<tr>\n",
       "  <th>Date:</th>            <td>Thu, 02 Dec 2021</td> <th>  Pseudo R-squ.:     </th>  <td>0.4480</td>  \n",
       "</tr>\n",
       "<tr>\n",
       "  <th>Time:</th>                <td>03:25:25</td>     <th>  Log-Likelihood:    </th> <td> -261.72</td> \n",
       "</tr>\n",
       "<tr>\n",
       "  <th>converged:</th>             <td>False</td>      <th>  LL-Null:           </th> <td> -474.11</td> \n",
       "</tr>\n",
       "<tr>\n",
       "  <th>Covariance Type:</th>     <td>nonrobust</td>    <th>  LLR p-value:       </th> <td>8.355e-62</td>\n",
       "</tr>\n",
       "</table>\n",
       "<table class=\"simpletable\">\n",
       "<tr>\n",
       "                            <td></td>                               <th>coef</th>     <th>std err</th>      <th>z</th>      <th>P>|z|</th>  <th>[0.025</th>    <th>0.975]</th>  \n",
       "</tr>\n",
       "<tr>\n",
       "  <th>Intercept</th>                                             <td>   29.1405</td> <td> 7.77e+05</td> <td> 3.75e-05</td> <td> 1.000</td> <td>-1.52e+06</td> <td> 1.52e+06</td>\n",
       "</tr>\n",
       "<tr>\n",
       "  <th>Pclass[T.2]</th>                                           <td>  -25.3053</td> <td> 7.77e+05</td> <td>-3.26e-05</td> <td> 1.000</td> <td>-1.52e+06</td> <td> 1.52e+06</td>\n",
       "</tr>\n",
       "<tr>\n",
       "  <th>Pclass[T.3]</th>                                           <td>  -26.9066</td> <td> 7.77e+05</td> <td>-3.46e-05</td> <td> 1.000</td> <td>-1.52e+06</td> <td> 1.52e+06</td>\n",
       "</tr>\n",
       "<tr>\n",
       "  <th>SibSp[T.1]</th>                                            <td>    0.4606</td> <td>    0.624</td> <td>    0.738</td> <td> 0.461</td> <td>   -0.763</td> <td>    1.684</td>\n",
       "</tr>\n",
       "<tr>\n",
       "  <th>SibSp[T.2]</th>                                            <td>    1.3198</td> <td>    0.950</td> <td>    1.389</td> <td> 0.165</td> <td>   -0.543</td> <td>    3.182</td>\n",
       "</tr>\n",
       "<tr>\n",
       "  <th>SibSp[T.3]</th>                                            <td>    0.7750</td> <td>    1.727</td> <td>    0.449</td> <td> 0.654</td> <td>   -2.609</td> <td>    4.159</td>\n",
       "</tr>\n",
       "<tr>\n",
       "  <th>SibSp[T.4]</th>                                            <td>    0.8682</td> <td>    1.870</td> <td>    0.464</td> <td> 0.642</td> <td>   -2.797</td> <td>    4.534</td>\n",
       "</tr>\n",
       "<tr>\n",
       "  <th>SibSp[T.5]</th>                                            <td>   -1.8573</td> <td> 1.35e+04</td> <td>   -0.000</td> <td> 1.000</td> <td>-2.65e+04</td> <td> 2.65e+04</td>\n",
       "</tr>\n",
       "<tr>\n",
       "  <th>Parch[T.1]</th>                                            <td>   -0.2422</td> <td>    0.560</td> <td>   -0.432</td> <td> 0.665</td> <td>   -1.340</td> <td>    0.856</td>\n",
       "</tr>\n",
       "<tr>\n",
       "  <th>Parch[T.2]</th>                                            <td>   -0.4156</td> <td>    0.741</td> <td>   -0.561</td> <td> 0.575</td> <td>   -1.869</td> <td>    1.037</td>\n",
       "</tr>\n",
       "<tr>\n",
       "  <th>Parch[T.3]</th>                                            <td>    0.6588</td> <td>    1.923</td> <td>    0.343</td> <td> 0.732</td> <td>   -3.110</td> <td>    4.428</td>\n",
       "</tr>\n",
       "<tr>\n",
       "  <th>Parch[T.4]</th>                                            <td>   -0.4481</td> <td> 8728.678</td> <td>-5.13e-05</td> <td> 1.000</td> <td>-1.71e+04</td> <td> 1.71e+04</td>\n",
       "</tr>\n",
       "<tr>\n",
       "  <th>Parch[T.5]</th>                                            <td>    0.2163</td> <td>    2.198</td> <td>    0.098</td> <td> 0.922</td> <td>   -4.092</td> <td>    4.524</td>\n",
       "</tr>\n",
       "<tr>\n",
       "  <th>Ticket_Frequency[T.2]</th>                                 <td>    0.0590</td> <td>    0.402</td> <td>    0.147</td> <td> 0.883</td> <td>   -0.730</td> <td>    0.847</td>\n",
       "</tr>\n",
       "<tr>\n",
       "  <th>Ticket_Frequency[T.3]</th>                                 <td>    0.2407</td> <td>    0.514</td> <td>    0.468</td> <td> 0.640</td> <td>   -0.767</td> <td>    1.248</td>\n",
       "</tr>\n",
       "<tr>\n",
       "  <th>Ticket_Frequency[T.4]</th>                                 <td>    1.4789</td> <td>    0.821</td> <td>    1.801</td> <td> 0.072</td> <td>   -0.131</td> <td>    3.088</td>\n",
       "</tr>\n",
       "<tr>\n",
       "  <th>Ticket_Frequency[T.5]</th>                                 <td>  -26.6842</td> <td> 4.25e+05</td> <td>-6.27e-05</td> <td> 1.000</td> <td>-8.34e+05</td> <td> 8.34e+05</td>\n",
       "</tr>\n",
       "<tr>\n",
       "  <th>Ticket_Frequency[T.6]</th>                                 <td>  -15.0687</td> <td> 1930.224</td> <td>   -0.008</td> <td> 0.994</td> <td>-3798.238</td> <td> 3768.101</td>\n",
       "</tr>\n",
       "<tr>\n",
       "  <th>Ticket_Frequency[T.7]</th>                                 <td>    1.9985</td> <td>    0.984</td> <td>    2.031</td> <td> 0.042</td> <td>    0.070</td> <td>    3.927</td>\n",
       "</tr>\n",
       "<tr>\n",
       "  <th>IsMarried[T.1]</th>                                        <td>    1.1873</td> <td>    0.537</td> <td>    2.212</td> <td> 0.027</td> <td>    0.135</td> <td>    2.239</td>\n",
       "</tr>\n",
       "<tr>\n",
       "  <th>Child[T.1]</th>                                            <td>    0.1094</td> <td>    1.137</td> <td>    0.096</td> <td> 0.923</td> <td>   -2.119</td> <td>    2.337</td>\n",
       "</tr>\n",
       "<tr>\n",
       "  <th>Age_band[T.1]</th>                                         <td>   14.0224</td> <td>      nan</td> <td>      nan</td> <td>   nan</td> <td>      nan</td> <td>      nan</td>\n",
       "</tr>\n",
       "<tr>\n",
       "  <th>Age_band[T.2]</th>                                         <td>  -11.4310</td> <td>      nan</td> <td>      nan</td> <td>   nan</td> <td>      nan</td> <td>      nan</td>\n",
       "</tr>\n",
       "<tr>\n",
       "  <th>Age_band[T.3]</th>                                         <td>  -12.4506</td> <td>      nan</td> <td>      nan</td> <td>   nan</td> <td>      nan</td> <td>      nan</td>\n",
       "</tr>\n",
       "<tr>\n",
       "  <th>Age_band[T.4]</th>                                         <td>  -36.3436</td> <td>      nan</td> <td>      nan</td> <td>   nan</td> <td>      nan</td> <td>      nan</td>\n",
       "</tr>\n",
       "<tr>\n",
       "  <th>Fare_Range[T.Interval(7.91, 14.454, closed='right')]</th>  <td>    0.1495</td> <td>    0.366</td> <td>    0.409</td> <td> 0.683</td> <td>   -0.568</td> <td>    0.867</td>\n",
       "</tr>\n",
       "<tr>\n",
       "  <th>Fare_Range[T.Interval(14.454, 31.0, closed='right')]</th>  <td>    0.1472</td> <td>    0.463</td> <td>    0.318</td> <td> 0.751</td> <td>   -0.760</td> <td>    1.055</td>\n",
       "</tr>\n",
       "<tr>\n",
       "  <th>Fare_Range[T.Interval(31.0, 512.329, closed='right')]</th> <td>   -0.0163</td> <td>    0.699</td> <td>   -0.023</td> <td> 0.981</td> <td>   -1.387</td> <td>    1.355</td>\n",
       "</tr>\n",
       "<tr>\n",
       "  <th>Q[T.1]</th>                                                <td>   -0.2188</td> <td>    0.503</td> <td>   -0.435</td> <td> 0.664</td> <td>   -1.205</td> <td>    0.767</td>\n",
       "</tr>\n",
       "<tr>\n",
       "  <th>S[T.1]</th>                                                <td>   -0.6832</td> <td>    0.324</td> <td>   -2.111</td> <td> 0.035</td> <td>   -1.317</td> <td>   -0.049</td>\n",
       "</tr>\n",
       "<tr>\n",
       "  <th>B[T.1]</th>                                                <td>    0.5338</td> <td>    0.822</td> <td>    0.650</td> <td> 0.516</td> <td>   -1.076</td> <td>    2.144</td>\n",
       "</tr>\n",
       "<tr>\n",
       "  <th>C[T.1]</th>                                                <td>    0.3623</td> <td>    0.762</td> <td>    0.475</td> <td> 0.635</td> <td>   -1.132</td> <td>    1.857</td>\n",
       "</tr>\n",
       "<tr>\n",
       "  <th>D[T.1]</th>                                                <td>    1.2846</td> <td>    0.878</td> <td>    1.462</td> <td> 0.144</td> <td>   -0.437</td> <td>    3.006</td>\n",
       "</tr>\n",
       "<tr>\n",
       "  <th>E[T.1]</th>                                                <td>    1.6220</td> <td>    0.880</td> <td>    1.843</td> <td> 0.065</td> <td>   -0.103</td> <td>    3.347</td>\n",
       "</tr>\n",
       "<tr>\n",
       "  <th>F[T.1]</th>                                                <td>   -0.6997</td> <td>    1.242</td> <td>   -0.564</td> <td> 0.573</td> <td>   -3.134</td> <td>    1.734</td>\n",
       "</tr>\n",
       "<tr>\n",
       "  <th>G[T.1]</th>                                                <td>   23.7863</td> <td>  2.4e+05</td> <td>  9.9e-05</td> <td> 1.000</td> <td>-4.71e+05</td> <td> 4.71e+05</td>\n",
       "</tr>\n",
       "<tr>\n",
       "  <th>M[T.1]</th>                                                <td>   -0.5800</td> <td>    0.801</td> <td>   -0.724</td> <td> 0.469</td> <td>   -2.150</td> <td>    0.990</td>\n",
       "</tr>\n",
       "<tr>\n",
       "  <th>male[T.1]</th>                                             <td>    0.8889</td> <td>    0.791</td> <td>    1.124</td> <td> 0.261</td> <td>   -0.662</td> <td>    2.440</td>\n",
       "</tr>\n",
       "<tr>\n",
       "  <th>Mr[T.1]</th>                                               <td>   -3.7853</td> <td>    0.828</td> <td>   -4.570</td> <td> 0.000</td> <td>   -5.409</td> <td>   -2.162</td>\n",
       "</tr>\n",
       "<tr>\n",
       "  <th>Others[T.1]</th>                                           <td>   -3.4673</td> <td>    0.996</td> <td>   -3.481</td> <td> 0.001</td> <td>   -5.420</td> <td>   -1.515</td>\n",
       "</tr>\n",
       "<tr>\n",
       "  <th>Big[T.1]</th>                                              <td>   -4.3302</td> <td>    1.867</td> <td>   -2.320</td> <td> 0.020</td> <td>   -7.989</td> <td>   -0.671</td>\n",
       "</tr>\n",
       "<tr>\n",
       "  <th>Small[T.1]</th>                                            <td>   -0.5077</td> <td>    0.737</td> <td>   -0.689</td> <td> 0.491</td> <td>   -1.951</td> <td>    0.936</td>\n",
       "</tr>\n",
       "<tr>\n",
       "  <th>Age_Class[T.1]</th>                                        <td>  -39.0641</td> <td>      nan</td> <td>      nan</td> <td>   nan</td> <td>      nan</td> <td>      nan</td>\n",
       "</tr>\n",
       "<tr>\n",
       "  <th>Age_Class[T.2]</th>                                        <td>  -15.0088</td> <td>      nan</td> <td>      nan</td> <td>   nan</td> <td>      nan</td> <td>      nan</td>\n",
       "</tr>\n",
       "<tr>\n",
       "  <th>Age_Class[T.3]</th>                                        <td>  -14.2374</td> <td>      nan</td> <td>      nan</td> <td>   nan</td> <td>      nan</td> <td>      nan</td>\n",
       "</tr>\n",
       "<tr>\n",
       "  <th>Age_Class[T.4]</th>                                        <td>    9.8245</td> <td>      nan</td> <td>      nan</td> <td>   nan</td> <td>      nan</td> <td>      nan</td>\n",
       "</tr>\n",
       "<tr>\n",
       "  <th>Age_Class[T.6]</th>                                        <td>   10.4136</td> <td>      nan</td> <td>      nan</td> <td>   nan</td> <td>      nan</td> <td>      nan</td>\n",
       "</tr>\n",
       "<tr>\n",
       "  <th>Age_Class[T.8]</th>                                        <td>   -4.3162</td> <td>  5.2e+08</td> <td>-8.29e-09</td> <td> 1.000</td> <td>-1.02e+09</td> <td> 1.02e+09</td>\n",
       "</tr>\n",
       "<tr>\n",
       "  <th>Age_Class[T.9]</th>                                        <td>   11.0429</td> <td>      nan</td> <td>      nan</td> <td>   nan</td> <td>      nan</td> <td>      nan</td>\n",
       "</tr>\n",
       "<tr>\n",
       "  <th>Age_Class[T.12]</th>                                       <td>   -4.8573</td> <td> 1.84e+09</td> <td>-2.64e-09</td> <td> 1.000</td> <td> -3.6e+09</td> <td>  3.6e+09</td>\n",
       "</tr>\n",
       "</table>"
      ],
      "text/plain": [
       "<class 'statsmodels.iolib.summary.Summary'>\n",
       "\"\"\"\n",
       "                           Logit Regression Results                           \n",
       "==============================================================================\n",
       "Dep. Variable:               Survived   No. Observations:                  684\n",
       "Model:                          Logit   Df Residuals:                      635\n",
       "Method:                           MLE   Df Model:                           48\n",
       "Date:                Thu, 02 Dec 2021   Pseudo R-squ.:                  0.4480\n",
       "Time:                        03:25:25   Log-Likelihood:                -261.72\n",
       "converged:                      False   LL-Null:                       -474.11\n",
       "Covariance Type:            nonrobust   LLR p-value:                 8.355e-62\n",
       "=========================================================================================================================\n",
       "                                                            coef    std err          z      P>|z|      [0.025      0.975]\n",
       "-------------------------------------------------------------------------------------------------------------------------\n",
       "Intercept                                                29.1405   7.77e+05   3.75e-05      1.000   -1.52e+06    1.52e+06\n",
       "Pclass[T.2]                                             -25.3053   7.77e+05  -3.26e-05      1.000   -1.52e+06    1.52e+06\n",
       "Pclass[T.3]                                             -26.9066   7.77e+05  -3.46e-05      1.000   -1.52e+06    1.52e+06\n",
       "SibSp[T.1]                                                0.4606      0.624      0.738      0.461      -0.763       1.684\n",
       "SibSp[T.2]                                                1.3198      0.950      1.389      0.165      -0.543       3.182\n",
       "SibSp[T.3]                                                0.7750      1.727      0.449      0.654      -2.609       4.159\n",
       "SibSp[T.4]                                                0.8682      1.870      0.464      0.642      -2.797       4.534\n",
       "SibSp[T.5]                                               -1.8573   1.35e+04     -0.000      1.000   -2.65e+04    2.65e+04\n",
       "Parch[T.1]                                               -0.2422      0.560     -0.432      0.665      -1.340       0.856\n",
       "Parch[T.2]                                               -0.4156      0.741     -0.561      0.575      -1.869       1.037\n",
       "Parch[T.3]                                                0.6588      1.923      0.343      0.732      -3.110       4.428\n",
       "Parch[T.4]                                               -0.4481   8728.678  -5.13e-05      1.000   -1.71e+04    1.71e+04\n",
       "Parch[T.5]                                                0.2163      2.198      0.098      0.922      -4.092       4.524\n",
       "Ticket_Frequency[T.2]                                     0.0590      0.402      0.147      0.883      -0.730       0.847\n",
       "Ticket_Frequency[T.3]                                     0.2407      0.514      0.468      0.640      -0.767       1.248\n",
       "Ticket_Frequency[T.4]                                     1.4789      0.821      1.801      0.072      -0.131       3.088\n",
       "Ticket_Frequency[T.5]                                   -26.6842   4.25e+05  -6.27e-05      1.000   -8.34e+05    8.34e+05\n",
       "Ticket_Frequency[T.6]                                   -15.0687   1930.224     -0.008      0.994   -3798.238    3768.101\n",
       "Ticket_Frequency[T.7]                                     1.9985      0.984      2.031      0.042       0.070       3.927\n",
       "IsMarried[T.1]                                            1.1873      0.537      2.212      0.027       0.135       2.239\n",
       "Child[T.1]                                                0.1094      1.137      0.096      0.923      -2.119       2.337\n",
       "Age_band[T.1]                                            14.0224        nan        nan        nan         nan         nan\n",
       "Age_band[T.2]                                           -11.4310        nan        nan        nan         nan         nan\n",
       "Age_band[T.3]                                           -12.4506        nan        nan        nan         nan         nan\n",
       "Age_band[T.4]                                           -36.3436        nan        nan        nan         nan         nan\n",
       "Fare_Range[T.Interval(7.91, 14.454, closed='right')]      0.1495      0.366      0.409      0.683      -0.568       0.867\n",
       "Fare_Range[T.Interval(14.454, 31.0, closed='right')]      0.1472      0.463      0.318      0.751      -0.760       1.055\n",
       "Fare_Range[T.Interval(31.0, 512.329, closed='right')]    -0.0163      0.699     -0.023      0.981      -1.387       1.355\n",
       "Q[T.1]                                                   -0.2188      0.503     -0.435      0.664      -1.205       0.767\n",
       "S[T.1]                                                   -0.6832      0.324     -2.111      0.035      -1.317      -0.049\n",
       "B[T.1]                                                    0.5338      0.822      0.650      0.516      -1.076       2.144\n",
       "C[T.1]                                                    0.3623      0.762      0.475      0.635      -1.132       1.857\n",
       "D[T.1]                                                    1.2846      0.878      1.462      0.144      -0.437       3.006\n",
       "E[T.1]                                                    1.6220      0.880      1.843      0.065      -0.103       3.347\n",
       "F[T.1]                                                   -0.6997      1.242     -0.564      0.573      -3.134       1.734\n",
       "G[T.1]                                                   23.7863    2.4e+05    9.9e-05      1.000   -4.71e+05    4.71e+05\n",
       "M[T.1]                                                   -0.5800      0.801     -0.724      0.469      -2.150       0.990\n",
       "male[T.1]                                                 0.8889      0.791      1.124      0.261      -0.662       2.440\n",
       "Mr[T.1]                                                  -3.7853      0.828     -4.570      0.000      -5.409      -2.162\n",
       "Others[T.1]                                              -3.4673      0.996     -3.481      0.001      -5.420      -1.515\n",
       "Big[T.1]                                                 -4.3302      1.867     -2.320      0.020      -7.989      -0.671\n",
       "Small[T.1]                                               -0.5077      0.737     -0.689      0.491      -1.951       0.936\n",
       "Age_Class[T.1]                                          -39.0641        nan        nan        nan         nan         nan\n",
       "Age_Class[T.2]                                          -15.0088        nan        nan        nan         nan         nan\n",
       "Age_Class[T.3]                                          -14.2374        nan        nan        nan         nan         nan\n",
       "Age_Class[T.4]                                            9.8245        nan        nan        nan         nan         nan\n",
       "Age_Class[T.6]                                           10.4136        nan        nan        nan         nan         nan\n",
       "Age_Class[T.8]                                           -4.3162    5.2e+08  -8.29e-09      1.000   -1.02e+09    1.02e+09\n",
       "Age_Class[T.9]                                           11.0429        nan        nan        nan         nan         nan\n",
       "Age_Class[T.12]                                          -4.8573   1.84e+09  -2.64e-09      1.000    -3.6e+09     3.6e+09\n",
       "=========================================================================================================================\n",
       "\"\"\""
      ]
     },
     "execution_count": 151,
     "metadata": {},
     "output_type": "execute_result"
    }
   ],
   "source": [
    "# Fitting on the downsampled data\n",
    "m1 = smf.logit(\n",
    "  formula='Survived ~ Pclass + SibSp + Parch + Ticket_Frequency + IsMarried + Child + Age_band + Fare_Range + Q + S + B + C + D + E + F + G + M + male + Mr + Others + Big + Small + Age_Class',\n",
    "  data=X_train_d) \\\n",
    ".fit()\n",
    "\n",
    "m1.summary()"
   ]
  }
 ],
 "metadata": {
  "kernelspec": {
   "display_name": "Python 3 (ipykernel)",
   "language": "python",
   "name": "python3"
  },
  "language_info": {
   "codemirror_mode": {
    "name": "ipython",
    "version": 3
   },
   "file_extension": ".py",
   "mimetype": "text/x-python",
   "name": "python",
   "nbconvert_exporter": "python",
   "pygments_lexer": "ipython3",
   "version": "3.7.10"
  }
 },
 "nbformat": 4,
 "nbformat_minor": 5
}
